{
  "cells": [
    {
      "cell_type": "code",
      "execution_count": 8,
      "metadata": {},
      "outputs": [],
      "source": [
        "import cv2\n",
        "def cv2_imshow(image):\n",
        "    cv2.imshow(\"test\", image)\n",
        "    cv2.waitKey(0)\n",
        "    cv2.destroyAllWindows()"
      ]
    },
    {
      "cell_type": "markdown",
      "metadata": {
        "id": "qmgcSMPeyk0P"
      },
      "source": [
        "## Making a New Model\n",
        "\n"
      ]
    },
    {
      "cell_type": "code",
      "execution_count": 12,
      "metadata": {
        "id": "GTCjgBETDqU0"
      },
      "outputs": [
        {
          "ename": "ModuleNotFoundError",
          "evalue": "No module named 'tensorflow.python'",
          "output_type": "error",
          "traceback": [
            "\u001b[1;31m---------------------------------------------------------------------------\u001b[0m",
            "\u001b[1;31mModuleNotFoundError\u001b[0m                       Traceback (most recent call last)",
            "Cell \u001b[1;32mIn[12], line 3\u001b[0m\n\u001b[0;32m      1\u001b[0m \u001b[38;5;66;03m# Import the necessary modules.\u001b[39;00m\n\u001b[0;32m      2\u001b[0m \u001b[38;5;66;03m# Install with: python3 -m pip install 'keras<3.0.0' mediapipe-model-maker\u001b[39;00m\n\u001b[1;32m----> 3\u001b[0m \u001b[38;5;28;01mfrom\u001b[39;00m \u001b[38;5;21;01mmediapipe_model_maker\u001b[39;00m \u001b[38;5;28;01mimport\u001b[39;00m gesture_recognizer\n",
            "File \u001b[1;32m~\\AppData\\Local\\Packages\\PythonSoftwareFoundation.Python.3.11_qbz5n2kfra8p0\\LocalCache\\local-packages\\Python311\\site-packages\\mediapipe_model_maker\\__init__.py:16\u001b[0m\n\u001b[0;32m      1\u001b[0m \u001b[38;5;66;03m# Copyright 2022 The MediaPipe Authors.\u001b[39;00m\n\u001b[0;32m      2\u001b[0m \u001b[38;5;66;03m#\u001b[39;00m\n\u001b[0;32m      3\u001b[0m \u001b[38;5;66;03m# Licensed under the Apache License, Version 2.0 (the \"License\");\u001b[39;00m\n\u001b[1;32m   (...)\u001b[0m\n\u001b[0;32m     12\u001b[0m \u001b[38;5;66;03m# See the License for the specific language governing permissions and\u001b[39;00m\n\u001b[0;32m     13\u001b[0m \u001b[38;5;66;03m# limitations under the License.\u001b[39;00m\n\u001b[1;32m---> 16\u001b[0m \u001b[38;5;28;01mfrom\u001b[39;00m \u001b[38;5;21;01mmediapipe_model_maker\u001b[39;00m\u001b[38;5;21;01m.\u001b[39;00m\u001b[38;5;21;01mpython\u001b[39;00m\u001b[38;5;21;01m.\u001b[39;00m\u001b[38;5;21;01mvision\u001b[39;00m\u001b[38;5;21;01m.\u001b[39;00m\u001b[38;5;21;01mcore\u001b[39;00m \u001b[38;5;28;01mimport\u001b[39;00m image_utils\n\u001b[0;32m     17\u001b[0m \u001b[38;5;28;01mfrom\u001b[39;00m \u001b[38;5;21;01mmediapipe_model_maker\u001b[39;00m\u001b[38;5;21;01m.\u001b[39;00m\u001b[38;5;21;01mpython\u001b[39;00m\u001b[38;5;21;01m.\u001b[39;00m\u001b[38;5;21;01mcore\u001b[39;00m\u001b[38;5;21;01m.\u001b[39;00m\u001b[38;5;21;01mutils\u001b[39;00m \u001b[38;5;28;01mimport\u001b[39;00m quantization\n\u001b[0;32m     18\u001b[0m \u001b[38;5;28;01mfrom\u001b[39;00m \u001b[38;5;21;01mmediapipe_model_maker\u001b[39;00m\u001b[38;5;21;01m.\u001b[39;00m\u001b[38;5;21;01mpython\u001b[39;00m\u001b[38;5;21;01m.\u001b[39;00m\u001b[38;5;21;01mcore\u001b[39;00m\u001b[38;5;21;01m.\u001b[39;00m\u001b[38;5;21;01mutils\u001b[39;00m \u001b[38;5;28;01mimport\u001b[39;00m model_util\n",
            "File \u001b[1;32m~\\AppData\\Local\\Packages\\PythonSoftwareFoundation.Python.3.11_qbz5n2kfra8p0\\LocalCache\\local-packages\\Python311\\site-packages\\mediapipe_model_maker\\python\\vision\\core\\image_utils.py:17\u001b[0m\n\u001b[0;32m      1\u001b[0m \u001b[38;5;66;03m# Copyright 2022 The MediaPipe Authors.\u001b[39;00m\n\u001b[0;32m      2\u001b[0m \u001b[38;5;66;03m#\u001b[39;00m\n\u001b[0;32m      3\u001b[0m \u001b[38;5;66;03m# Licensed under the Apache License, Version 2.0 (the \"License\");\u001b[39;00m\n\u001b[1;32m   (...)\u001b[0m\n\u001b[0;32m     13\u001b[0m \u001b[38;5;66;03m# limitations under the License.\u001b[39;00m\n\u001b[0;32m     14\u001b[0m \u001b[38;5;66;03m# ==============================================================================\u001b[39;00m\n\u001b[0;32m     15\u001b[0m \u001b[38;5;124;03m\"\"\"Utilities for Images.\"\"\"\u001b[39;00m\n\u001b[1;32m---> 17\u001b[0m \u001b[38;5;28;01mimport\u001b[39;00m \u001b[38;5;21;01mtensorflow\u001b[39;00m \u001b[38;5;28;01mas\u001b[39;00m \u001b[38;5;21;01mtf\u001b[39;00m\n\u001b[0;32m     20\u001b[0m \u001b[38;5;28;01mdef\u001b[39;00m \u001b[38;5;21mload_image\u001b[39m(path: \u001b[38;5;28mstr\u001b[39m) \u001b[38;5;241m-\u001b[39m\u001b[38;5;241m>\u001b[39m tf\u001b[38;5;241m.\u001b[39mTensor:\n\u001b[0;32m     21\u001b[0m \u001b[38;5;250m  \u001b[39m\u001b[38;5;124;03m\"\"\"Loads a jpeg/png image and returns an image tensor.\"\"\"\u001b[39;00m\n",
            "File \u001b[1;32m~\\AppData\\Local\\Packages\\PythonSoftwareFoundation.Python.3.11_qbz5n2kfra8p0\\LocalCache\\local-packages\\Python311\\site-packages\\tensorflow\\__init__.py:37\u001b[0m\n\u001b[0;32m     34\u001b[0m \u001b[38;5;28;01mimport\u001b[39;00m \u001b[38;5;21;01msite\u001b[39;00m \u001b[38;5;28;01mas\u001b[39;00m \u001b[38;5;21;01m_site\u001b[39;00m\n\u001b[0;32m     35\u001b[0m \u001b[38;5;28;01mimport\u001b[39;00m \u001b[38;5;21;01msys\u001b[39;00m \u001b[38;5;28;01mas\u001b[39;00m \u001b[38;5;21;01m_sys\u001b[39;00m\n\u001b[1;32m---> 37\u001b[0m \u001b[38;5;28;01mfrom\u001b[39;00m \u001b[38;5;21;01mtensorflow\u001b[39;00m\u001b[38;5;21;01m.\u001b[39;00m\u001b[38;5;21;01mpython\u001b[39;00m\u001b[38;5;21;01m.\u001b[39;00m\u001b[38;5;21;01mtools\u001b[39;00m \u001b[38;5;28;01mimport\u001b[39;00m module_util \u001b[38;5;28;01mas\u001b[39;00m _module_util\n\u001b[0;32m     38\u001b[0m \u001b[38;5;28;01mfrom\u001b[39;00m \u001b[38;5;21;01mtensorflow\u001b[39;00m\u001b[38;5;21;01m.\u001b[39;00m\u001b[38;5;21;01mpython\u001b[39;00m\u001b[38;5;21;01m.\u001b[39;00m\u001b[38;5;21;01mutil\u001b[39;00m\u001b[38;5;21;01m.\u001b[39;00m\u001b[38;5;21;01mlazy_loader\u001b[39;00m \u001b[38;5;28;01mimport\u001b[39;00m KerasLazyLoader \u001b[38;5;28;01mas\u001b[39;00m _KerasLazyLoader\n\u001b[0;32m     40\u001b[0m \u001b[38;5;66;03m# Make sure code inside the TensorFlow codebase can use tf2.enabled() at import.\u001b[39;00m\n",
            "\u001b[1;31mModuleNotFoundError\u001b[0m: No module named 'tensorflow.python'"
          ]
        }
      ],
      "source": [
        "# Import the necessary modules.\n",
        "# Install with: python3 -m pip install 'keras<3.0.0' mediapipe-model-maker\n",
        "from mediapipe_model_maker import gesture_recognizer"
      ]
    },
    {
      "cell_type": "code",
      "execution_count": null,
      "metadata": {
        "id": "Xh33Bg6QC5cz"
      },
      "outputs": [
        {
          "name": "stdout",
          "output_type": "stream",
          "text": [
            "Using existing files at /var/folders/qy/nnw43bv93q150tp47dfmlvb00000gn/T/model_maker/gesture_recognizer/palm_detection_full.tflite\n",
            "Using existing files at /var/folders/qy/nnw43bv93q150tp47dfmlvb00000gn/T/model_maker/gesture_recognizer/hand_landmark_full.tflite\n",
            "INFO:tensorflow:Loading image /Users/niklas/Projects/GestureRecognition/Custom_Model/rps_data_sample/none/1072.jpg\n"
          ]
        },
        {
          "name": "stderr",
          "output_type": "stream",
          "text": [
            "I0000 00:00:1714053033.076633   76221 gl_context.cc:357] GL version: 2.1 (2.1 ATI-5.2.4), renderer: AMD Radeon Pro 5300M OpenGL Engine\n",
            "INFO:tensorflow:Loading image /Users/niklas/Projects/GestureRecognition/Custom_Model/rps_data_sample/none/1072.jpg\n"
          ]
        },
        {
          "name": "stdout",
          "output_type": "stream",
          "text": [
            "INFO:tensorflow:Loading image /Users/niklas/Projects/GestureRecognition/Custom_Model/rps_data_sample/click/124.jpg\n"
          ]
        },
        {
          "name": "stderr",
          "output_type": "stream",
          "text": [
            "INFO:tensorflow:Loading image /Users/niklas/Projects/GestureRecognition/Custom_Model/rps_data_sample/click/124.jpg\n"
          ]
        },
        {
          "name": "stdout",
          "output_type": "stream",
          "text": [
            "INFO:tensorflow:Loading image /Users/niklas/Projects/GestureRecognition/Custom_Model/rps_data_sample/drag/160.jpg\n"
          ]
        },
        {
          "name": "stderr",
          "output_type": "stream",
          "text": [
            "INFO:tensorflow:Loading image /Users/niklas/Projects/GestureRecognition/Custom_Model/rps_data_sample/drag/160.jpg\n"
          ]
        },
        {
          "name": "stdout",
          "output_type": "stream",
          "text": [
            "INFO:tensorflow:Loading image /Users/niklas/Projects/GestureRecognition/Custom_Model/rps_data_sample/drag/150.jpg\n"
          ]
        },
        {
          "name": "stderr",
          "output_type": "stream",
          "text": [
            "INFO:tensorflow:Loading image /Users/niklas/Projects/GestureRecognition/Custom_Model/rps_data_sample/drag/150.jpg\n"
          ]
        },
        {
          "name": "stdout",
          "output_type": "stream",
          "text": [
            "INFO:tensorflow:Loading image /Users/niklas/Projects/GestureRecognition/Custom_Model/rps_data_sample/click/173.jpg\n"
          ]
        },
        {
          "name": "stderr",
          "output_type": "stream",
          "text": [
            "INFO:tensorflow:Loading image /Users/niklas/Projects/GestureRecognition/Custom_Model/rps_data_sample/click/173.jpg\n"
          ]
        },
        {
          "name": "stdout",
          "output_type": "stream",
          "text": [
            "INFO:tensorflow:Loading image /Users/niklas/Projects/GestureRecognition/Custom_Model/rps_data_sample/click/167.jpg\n"
          ]
        },
        {
          "name": "stderr",
          "output_type": "stream",
          "text": [
            "INFO:tensorflow:Loading image /Users/niklas/Projects/GestureRecognition/Custom_Model/rps_data_sample/click/167.jpg\n"
          ]
        },
        {
          "name": "stdout",
          "output_type": "stream",
          "text": [
            "INFO:tensorflow:Loading image /Users/niklas/Projects/GestureRecognition/Custom_Model/rps_data_sample/click/214.jpg\n"
          ]
        },
        {
          "name": "stderr",
          "output_type": "stream",
          "text": [
            "INFO:tensorflow:Loading image /Users/niklas/Projects/GestureRecognition/Custom_Model/rps_data_sample/click/214.jpg\n"
          ]
        },
        {
          "name": "stdout",
          "output_type": "stream",
          "text": [
            "INFO:tensorflow:Loading image /Users/niklas/Projects/GestureRecognition/Custom_Model/rps_data_sample/none/190.jpg\n"
          ]
        },
        {
          "name": "stderr",
          "output_type": "stream",
          "text": [
            "INFO:tensorflow:Loading image /Users/niklas/Projects/GestureRecognition/Custom_Model/rps_data_sample/none/190.jpg\n"
          ]
        },
        {
          "name": "stdout",
          "output_type": "stream",
          "text": [
            "INFO:tensorflow:Loading image /Users/niklas/Projects/GestureRecognition/Custom_Model/rps_data_sample/none/424.jpg\n"
          ]
        },
        {
          "name": "stderr",
          "output_type": "stream",
          "text": [
            "INFO:tensorflow:Loading image /Users/niklas/Projects/GestureRecognition/Custom_Model/rps_data_sample/none/424.jpg\n"
          ]
        },
        {
          "name": "stdout",
          "output_type": "stream",
          "text": [
            "INFO:tensorflow:Loading image /Users/niklas/Projects/GestureRecognition/Custom_Model/rps_data_sample/none/203.jpg\n"
          ]
        },
        {
          "name": "stderr",
          "output_type": "stream",
          "text": [
            "INFO:tensorflow:Loading image /Users/niklas/Projects/GestureRecognition/Custom_Model/rps_data_sample/none/203.jpg\n"
          ]
        },
        {
          "name": "stdout",
          "output_type": "stream",
          "text": [
            "INFO:tensorflow:Loading image /Users/niklas/Projects/GestureRecognition/Custom_Model/rps_data_sample/none/1812.jpg\n"
          ]
        },
        {
          "name": "stderr",
          "output_type": "stream",
          "text": [
            "INFO:tensorflow:Loading image /Users/niklas/Projects/GestureRecognition/Custom_Model/rps_data_sample/none/1812.jpg\n"
          ]
        },
        {
          "name": "stdout",
          "output_type": "stream",
          "text": [
            "INFO:tensorflow:Loading image /Users/niklas/Projects/GestureRecognition/Custom_Model/rps_data_sample/click/184.jpg\n"
          ]
        },
        {
          "name": "stderr",
          "output_type": "stream",
          "text": [
            "INFO:tensorflow:Loading image /Users/niklas/Projects/GestureRecognition/Custom_Model/rps_data_sample/click/184.jpg\n"
          ]
        },
        {
          "name": "stdout",
          "output_type": "stream",
          "text": [
            "INFO:tensorflow:Loading image /Users/niklas/Projects/GestureRecognition/Custom_Model/rps_data_sample/drag/144.jpg\n"
          ]
        },
        {
          "name": "stderr",
          "output_type": "stream",
          "text": [
            "INFO:tensorflow:Loading image /Users/niklas/Projects/GestureRecognition/Custom_Model/rps_data_sample/drag/144.jpg\n"
          ]
        },
        {
          "name": "stdout",
          "output_type": "stream",
          "text": [
            "INFO:tensorflow:Loading image /Users/niklas/Projects/GestureRecognition/Custom_Model/rps_data_sample/drag/6.jpg\n"
          ]
        },
        {
          "name": "stderr",
          "output_type": "stream",
          "text": [
            "INFO:tensorflow:Loading image /Users/niklas/Projects/GestureRecognition/Custom_Model/rps_data_sample/drag/6.jpg\n"
          ]
        },
        {
          "name": "stdout",
          "output_type": "stream",
          "text": [
            "INFO:tensorflow:Loading image /Users/niklas/Projects/GestureRecognition/Custom_Model/rps_data_sample/drag/171.jpg\n"
          ]
        },
        {
          "name": "stderr",
          "output_type": "stream",
          "text": [
            "INFO:tensorflow:Loading image /Users/niklas/Projects/GestureRecognition/Custom_Model/rps_data_sample/drag/171.jpg\n"
          ]
        },
        {
          "name": "stdout",
          "output_type": "stream",
          "text": [
            "INFO:tensorflow:Loading image /Users/niklas/Projects/GestureRecognition/Custom_Model/rps_data_sample/drag/110.jpg\n"
          ]
        },
        {
          "name": "stderr",
          "output_type": "stream",
          "text": [
            "INFO:tensorflow:Loading image /Users/niklas/Projects/GestureRecognition/Custom_Model/rps_data_sample/drag/110.jpg\n"
          ]
        },
        {
          "name": "stdout",
          "output_type": "stream",
          "text": [
            "INFO:tensorflow:Loading image /Users/niklas/Projects/GestureRecognition/Custom_Model/rps_data_sample/click/158.jpg\n"
          ]
        },
        {
          "name": "stderr",
          "output_type": "stream",
          "text": [
            "INFO:tensorflow:Loading image /Users/niklas/Projects/GestureRecognition/Custom_Model/rps_data_sample/click/158.jpg\n"
          ]
        },
        {
          "name": "stdout",
          "output_type": "stream",
          "text": [
            "INFO:tensorflow:Loading image /Users/niklas/Projects/GestureRecognition/Custom_Model/rps_data_sample/none/1534.jpg\n"
          ]
        },
        {
          "name": "stderr",
          "output_type": "stream",
          "text": [
            "INFO:tensorflow:Loading image /Users/niklas/Projects/GestureRecognition/Custom_Model/rps_data_sample/none/1534.jpg\n"
          ]
        },
        {
          "name": "stdout",
          "output_type": "stream",
          "text": [
            "INFO:tensorflow:Loading image /Users/niklas/Projects/GestureRecognition/Custom_Model/rps_data_sample/drag/92.jpg\n"
          ]
        },
        {
          "name": "stderr",
          "output_type": "stream",
          "text": [
            "INFO:tensorflow:Loading image /Users/niklas/Projects/GestureRecognition/Custom_Model/rps_data_sample/drag/92.jpg\n"
          ]
        },
        {
          "name": "stdout",
          "output_type": "stream",
          "text": [
            "INFO:tensorflow:Loading image /Users/niklas/Projects/GestureRecognition/Custom_Model/rps_data_sample/drag/106.jpg\n"
          ]
        },
        {
          "name": "stderr",
          "output_type": "stream",
          "text": [
            "INFO:tensorflow:Loading image /Users/niklas/Projects/GestureRecognition/Custom_Model/rps_data_sample/drag/106.jpg\n"
          ]
        },
        {
          "name": "stdout",
          "output_type": "stream",
          "text": [
            "INFO:tensorflow:Loading image /Users/niklas/Projects/GestureRecognition/Custom_Model/rps_data_sample/none/327.jpg\n"
          ]
        },
        {
          "name": "stderr",
          "output_type": "stream",
          "text": [
            "INFO:tensorflow:Loading image /Users/niklas/Projects/GestureRecognition/Custom_Model/rps_data_sample/none/327.jpg\n"
          ]
        },
        {
          "name": "stdout",
          "output_type": "stream",
          "text": [
            "INFO:tensorflow:Loading image /Users/niklas/Projects/GestureRecognition/Custom_Model/rps_data_sample/none/122.jpg\n"
          ]
        },
        {
          "name": "stderr",
          "output_type": "stream",
          "text": [
            "INFO:tensorflow:Loading image /Users/niklas/Projects/GestureRecognition/Custom_Model/rps_data_sample/none/122.jpg\n"
          ]
        },
        {
          "name": "stdout",
          "output_type": "stream",
          "text": [
            "INFO:tensorflow:Loading image /Users/niklas/Projects/GestureRecognition/Custom_Model/rps_data_sample/click/2.jpg\n"
          ]
        },
        {
          "name": "stderr",
          "output_type": "stream",
          "text": [
            "INFO:tensorflow:Loading image /Users/niklas/Projects/GestureRecognition/Custom_Model/rps_data_sample/click/2.jpg\n"
          ]
        },
        {
          "name": "stdout",
          "output_type": "stream",
          "text": [
            "INFO:tensorflow:Loading image /Users/niklas/Projects/GestureRecognition/Custom_Model/rps_data_sample/drag/30.jpg\n"
          ]
        },
        {
          "name": "stderr",
          "output_type": "stream",
          "text": [
            "INFO:tensorflow:Loading image /Users/niklas/Projects/GestureRecognition/Custom_Model/rps_data_sample/drag/30.jpg\n"
          ]
        },
        {
          "name": "stdout",
          "output_type": "stream",
          "text": [
            "INFO:tensorflow:Loading image /Users/niklas/Projects/GestureRecognition/Custom_Model/rps_data_sample/click/9.jpg\n"
          ]
        },
        {
          "name": "stderr",
          "output_type": "stream",
          "text": [
            "INFO:tensorflow:Loading image /Users/niklas/Projects/GestureRecognition/Custom_Model/rps_data_sample/click/9.jpg\n"
          ]
        },
        {
          "name": "stdout",
          "output_type": "stream",
          "text": [
            "INFO:tensorflow:Loading image /Users/niklas/Projects/GestureRecognition/Custom_Model/rps_data_sample/click/49.jpg\n"
          ]
        },
        {
          "name": "stderr",
          "output_type": "stream",
          "text": [
            "INFO:tensorflow:Loading image /Users/niklas/Projects/GestureRecognition/Custom_Model/rps_data_sample/click/49.jpg\n"
          ]
        },
        {
          "name": "stdout",
          "output_type": "stream",
          "text": [
            "INFO:tensorflow:Loading image /Users/niklas/Projects/GestureRecognition/Custom_Model/rps_data_sample/click/126.jpg\n"
          ]
        },
        {
          "name": "stderr",
          "output_type": "stream",
          "text": [
            "INFO:tensorflow:Loading image /Users/niklas/Projects/GestureRecognition/Custom_Model/rps_data_sample/click/126.jpg\n"
          ]
        },
        {
          "name": "stdout",
          "output_type": "stream",
          "text": [
            "INFO:tensorflow:Loading image /Users/niklas/Projects/GestureRecognition/Custom_Model/rps_data_sample/drag/52.jpg\n"
          ]
        },
        {
          "name": "stderr",
          "output_type": "stream",
          "text": [
            "INFO:tensorflow:Loading image /Users/niklas/Projects/GestureRecognition/Custom_Model/rps_data_sample/drag/52.jpg\n"
          ]
        },
        {
          "name": "stdout",
          "output_type": "stream",
          "text": [
            "INFO:tensorflow:Loading image /Users/niklas/Projects/GestureRecognition/Custom_Model/rps_data_sample/drag/78.jpg\n"
          ]
        },
        {
          "name": "stderr",
          "output_type": "stream",
          "text": [
            "INFO:tensorflow:Loading image /Users/niklas/Projects/GestureRecognition/Custom_Model/rps_data_sample/drag/78.jpg\n"
          ]
        },
        {
          "name": "stdout",
          "output_type": "stream",
          "text": [
            "INFO:tensorflow:Loading image /Users/niklas/Projects/GestureRecognition/Custom_Model/rps_data_sample/drag/124.jpg\n"
          ]
        },
        {
          "name": "stderr",
          "output_type": "stream",
          "text": [
            "INFO:tensorflow:Loading image /Users/niklas/Projects/GestureRecognition/Custom_Model/rps_data_sample/drag/124.jpg\n"
          ]
        },
        {
          "name": "stdout",
          "output_type": "stream",
          "text": [
            "INFO:tensorflow:Loading image /Users/niklas/Projects/GestureRecognition/Custom_Model/rps_data_sample/drag/31.jpg\n"
          ]
        },
        {
          "name": "stderr",
          "output_type": "stream",
          "text": [
            "INFO:tensorflow:Loading image /Users/niklas/Projects/GestureRecognition/Custom_Model/rps_data_sample/drag/31.jpg\n"
          ]
        },
        {
          "name": "stdout",
          "output_type": "stream",
          "text": [
            "INFO:tensorflow:Loading image /Users/niklas/Projects/GestureRecognition/Custom_Model/rps_data_sample/click/203.jpg\n"
          ]
        },
        {
          "name": "stderr",
          "output_type": "stream",
          "text": [
            "INFO:tensorflow:Loading image /Users/niklas/Projects/GestureRecognition/Custom_Model/rps_data_sample/click/203.jpg\n"
          ]
        },
        {
          "name": "stdout",
          "output_type": "stream",
          "text": [
            "INFO:tensorflow:Loading image /Users/niklas/Projects/GestureRecognition/Custom_Model/rps_data_sample/none/1376.jpg\n"
          ]
        },
        {
          "name": "stderr",
          "output_type": "stream",
          "text": [
            "INFO:tensorflow:Loading image /Users/niklas/Projects/GestureRecognition/Custom_Model/rps_data_sample/none/1376.jpg\n"
          ]
        },
        {
          "name": "stdout",
          "output_type": "stream",
          "text": [
            "INFO:tensorflow:Loading image /Users/niklas/Projects/GestureRecognition/Custom_Model/rps_data_sample/none/1128.jpg\n"
          ]
        },
        {
          "name": "stderr",
          "output_type": "stream",
          "text": [
            "INFO:tensorflow:Loading image /Users/niklas/Projects/GestureRecognition/Custom_Model/rps_data_sample/none/1128.jpg\n"
          ]
        },
        {
          "name": "stdout",
          "output_type": "stream",
          "text": [
            "INFO:tensorflow:Loading image /Users/niklas/Projects/GestureRecognition/Custom_Model/rps_data_sample/click/66.jpg\n"
          ]
        },
        {
          "name": "stderr",
          "output_type": "stream",
          "text": [
            "INFO:tensorflow:Loading image /Users/niklas/Projects/GestureRecognition/Custom_Model/rps_data_sample/click/66.jpg\n"
          ]
        },
        {
          "name": "stdout",
          "output_type": "stream",
          "text": [
            "INFO:tensorflow:Loading image /Users/niklas/Projects/GestureRecognition/Custom_Model/rps_data_sample/drag/147.jpg\n"
          ]
        },
        {
          "name": "stderr",
          "output_type": "stream",
          "text": [
            "INFO:tensorflow:Loading image /Users/niklas/Projects/GestureRecognition/Custom_Model/rps_data_sample/drag/147.jpg\n"
          ]
        },
        {
          "name": "stdout",
          "output_type": "stream",
          "text": [
            "INFO:tensorflow:Loading image /Users/niklas/Projects/GestureRecognition/Custom_Model/rps_data_sample/none/1224.jpg\n"
          ]
        },
        {
          "name": "stderr",
          "output_type": "stream",
          "text": [
            "INFO:tensorflow:Loading image /Users/niklas/Projects/GestureRecognition/Custom_Model/rps_data_sample/none/1224.jpg\n"
          ]
        },
        {
          "name": "stdout",
          "output_type": "stream",
          "text": [
            "INFO:tensorflow:Loading image /Users/niklas/Projects/GestureRecognition/Custom_Model/rps_data_sample/drag/85.jpg\n"
          ]
        },
        {
          "name": "stderr",
          "output_type": "stream",
          "text": [
            "INFO:tensorflow:Loading image /Users/niklas/Projects/GestureRecognition/Custom_Model/rps_data_sample/drag/85.jpg\n"
          ]
        },
        {
          "name": "stdout",
          "output_type": "stream",
          "text": [
            "INFO:tensorflow:Loading image /Users/niklas/Projects/GestureRecognition/Custom_Model/rps_data_sample/drag/190.jpg\n"
          ]
        },
        {
          "name": "stderr",
          "output_type": "stream",
          "text": [
            "INFO:tensorflow:Loading image /Users/niklas/Projects/GestureRecognition/Custom_Model/rps_data_sample/drag/190.jpg\n"
          ]
        },
        {
          "name": "stdout",
          "output_type": "stream",
          "text": [
            "INFO:tensorflow:Loading image /Users/niklas/Projects/GestureRecognition/Custom_Model/rps_data_sample/drag/156.jpg\n"
          ]
        },
        {
          "name": "stderr",
          "output_type": "stream",
          "text": [
            "INFO:tensorflow:Loading image /Users/niklas/Projects/GestureRecognition/Custom_Model/rps_data_sample/drag/156.jpg\n"
          ]
        },
        {
          "name": "stdout",
          "output_type": "stream",
          "text": [
            "INFO:tensorflow:Loading image /Users/niklas/Projects/GestureRecognition/Custom_Model/rps_data_sample/drag/94.jpg\n"
          ]
        },
        {
          "name": "stderr",
          "output_type": "stream",
          "text": [
            "INFO:tensorflow:Loading image /Users/niklas/Projects/GestureRecognition/Custom_Model/rps_data_sample/drag/94.jpg\n"
          ]
        },
        {
          "name": "stdout",
          "output_type": "stream",
          "text": [
            "INFO:tensorflow:Loading image /Users/niklas/Projects/GestureRecognition/Custom_Model/rps_data_sample/none/1851.jpg\n"
          ]
        },
        {
          "name": "stderr",
          "output_type": "stream",
          "text": [
            "INFO:tensorflow:Loading image /Users/niklas/Projects/GestureRecognition/Custom_Model/rps_data_sample/none/1851.jpg\n"
          ]
        },
        {
          "name": "stdout",
          "output_type": "stream",
          "text": [
            "INFO:tensorflow:Loading image /Users/niklas/Projects/GestureRecognition/Custom_Model/rps_data_sample/click/225.jpg\n"
          ]
        },
        {
          "name": "stderr",
          "output_type": "stream",
          "text": [
            "INFO:tensorflow:Loading image /Users/niklas/Projects/GestureRecognition/Custom_Model/rps_data_sample/click/225.jpg\n"
          ]
        },
        {
          "name": "stdout",
          "output_type": "stream",
          "text": [
            "INFO:tensorflow:Loading image /Users/niklas/Projects/GestureRecognition/Custom_Model/rps_data_sample/none/1381.jpg\n"
          ]
        },
        {
          "name": "stderr",
          "output_type": "stream",
          "text": [
            "INFO:tensorflow:Loading image /Users/niklas/Projects/GestureRecognition/Custom_Model/rps_data_sample/none/1381.jpg\n"
          ]
        },
        {
          "name": "stdout",
          "output_type": "stream",
          "text": [
            "INFO:tensorflow:Loading image /Users/niklas/Projects/GestureRecognition/Custom_Model/rps_data_sample/drag/175.jpg\n"
          ]
        },
        {
          "name": "stderr",
          "output_type": "stream",
          "text": [
            "INFO:tensorflow:Loading image /Users/niklas/Projects/GestureRecognition/Custom_Model/rps_data_sample/drag/175.jpg\n"
          ]
        },
        {
          "name": "stdout",
          "output_type": "stream",
          "text": [
            "INFO:tensorflow:Loading image /Users/niklas/Projects/GestureRecognition/Custom_Model/rps_data_sample/none/1521.jpg\n"
          ]
        },
        {
          "name": "stderr",
          "output_type": "stream",
          "text": [
            "INFO:tensorflow:Loading image /Users/niklas/Projects/GestureRecognition/Custom_Model/rps_data_sample/none/1521.jpg\n"
          ]
        },
        {
          "name": "stdout",
          "output_type": "stream",
          "text": [
            "INFO:tensorflow:Loading image /Users/niklas/Projects/GestureRecognition/Custom_Model/rps_data_sample/click/201.jpg\n"
          ]
        },
        {
          "name": "stderr",
          "output_type": "stream",
          "text": [
            "INFO:tensorflow:Loading image /Users/niklas/Projects/GestureRecognition/Custom_Model/rps_data_sample/click/201.jpg\n"
          ]
        },
        {
          "name": "stdout",
          "output_type": "stream",
          "text": [
            "INFO:tensorflow:Loading image /Users/niklas/Projects/GestureRecognition/Custom_Model/rps_data_sample/click/41.jpg\n"
          ]
        },
        {
          "name": "stderr",
          "output_type": "stream",
          "text": [
            "INFO:tensorflow:Loading image /Users/niklas/Projects/GestureRecognition/Custom_Model/rps_data_sample/click/41.jpg\n"
          ]
        },
        {
          "name": "stdout",
          "output_type": "stream",
          "text": [
            "INFO:tensorflow:Loading image /Users/niklas/Projects/GestureRecognition/Custom_Model/rps_data_sample/click/178.jpg\n"
          ]
        },
        {
          "name": "stderr",
          "output_type": "stream",
          "text": [
            "INFO:tensorflow:Loading image /Users/niklas/Projects/GestureRecognition/Custom_Model/rps_data_sample/click/178.jpg\n"
          ]
        },
        {
          "name": "stdout",
          "output_type": "stream",
          "text": [
            "INFO:tensorflow:Loading image /Users/niklas/Projects/GestureRecognition/Custom_Model/rps_data_sample/none/165.jpg\n"
          ]
        },
        {
          "name": "stderr",
          "output_type": "stream",
          "text": [
            "INFO:tensorflow:Loading image /Users/niklas/Projects/GestureRecognition/Custom_Model/rps_data_sample/none/165.jpg\n"
          ]
        },
        {
          "name": "stdout",
          "output_type": "stream",
          "text": [
            "INFO:tensorflow:Loading image /Users/niklas/Projects/GestureRecognition/Custom_Model/rps_data_sample/drag/115.jpg\n"
          ]
        },
        {
          "name": "stderr",
          "output_type": "stream",
          "text": [
            "INFO:tensorflow:Loading image /Users/niklas/Projects/GestureRecognition/Custom_Model/rps_data_sample/drag/115.jpg\n"
          ]
        },
        {
          "name": "stdout",
          "output_type": "stream",
          "text": [
            "INFO:tensorflow:Loading image /Users/niklas/Projects/GestureRecognition/Custom_Model/rps_data_sample/click/202.jpg\n"
          ]
        },
        {
          "name": "stderr",
          "output_type": "stream",
          "text": [
            "INFO:tensorflow:Loading image /Users/niklas/Projects/GestureRecognition/Custom_Model/rps_data_sample/click/202.jpg\n"
          ]
        },
        {
          "name": "stdout",
          "output_type": "stream",
          "text": [
            "INFO:tensorflow:Loading image /Users/niklas/Projects/GestureRecognition/Custom_Model/rps_data_sample/click/32.jpg\n"
          ]
        },
        {
          "name": "stderr",
          "output_type": "stream",
          "text": [
            "INFO:tensorflow:Loading image /Users/niklas/Projects/GestureRecognition/Custom_Model/rps_data_sample/click/32.jpg\n"
          ]
        },
        {
          "name": "stdout",
          "output_type": "stream",
          "text": [
            "INFO:tensorflow:Loading image /Users/niklas/Projects/GestureRecognition/Custom_Model/rps_data_sample/click/204.jpg\n"
          ]
        },
        {
          "name": "stderr",
          "output_type": "stream",
          "text": [
            "INFO:tensorflow:Loading image /Users/niklas/Projects/GestureRecognition/Custom_Model/rps_data_sample/click/204.jpg\n"
          ]
        },
        {
          "name": "stdout",
          "output_type": "stream",
          "text": [
            "INFO:tensorflow:Loading image /Users/niklas/Projects/GestureRecognition/Custom_Model/rps_data_sample/drag/96.jpg\n"
          ]
        },
        {
          "name": "stderr",
          "output_type": "stream",
          "text": [
            "INFO:tensorflow:Loading image /Users/niklas/Projects/GestureRecognition/Custom_Model/rps_data_sample/drag/96.jpg\n"
          ]
        },
        {
          "name": "stdout",
          "output_type": "stream",
          "text": [
            "INFO:tensorflow:Loading image /Users/niklas/Projects/GestureRecognition/Custom_Model/rps_data_sample/drag/186.jpg\n"
          ]
        },
        {
          "name": "stderr",
          "output_type": "stream",
          "text": [
            "INFO:tensorflow:Loading image /Users/niklas/Projects/GestureRecognition/Custom_Model/rps_data_sample/drag/186.jpg\n"
          ]
        },
        {
          "name": "stdout",
          "output_type": "stream",
          "text": [
            "INFO:tensorflow:Loading image /Users/niklas/Projects/GestureRecognition/Custom_Model/rps_data_sample/none/1244.jpg\n"
          ]
        },
        {
          "name": "stderr",
          "output_type": "stream",
          "text": [
            "INFO:tensorflow:Loading image /Users/niklas/Projects/GestureRecognition/Custom_Model/rps_data_sample/none/1244.jpg\n"
          ]
        },
        {
          "name": "stdout",
          "output_type": "stream",
          "text": [
            "INFO:tensorflow:Loading image /Users/niklas/Projects/GestureRecognition/Custom_Model/rps_data_sample/none/229.jpg\n"
          ]
        },
        {
          "name": "stderr",
          "output_type": "stream",
          "text": [
            "INFO:tensorflow:Loading image /Users/niklas/Projects/GestureRecognition/Custom_Model/rps_data_sample/none/229.jpg\n"
          ]
        },
        {
          "name": "stdout",
          "output_type": "stream",
          "text": [
            "INFO:tensorflow:Loading image /Users/niklas/Projects/GestureRecognition/Custom_Model/rps_data_sample/drag/51.jpg\n"
          ]
        },
        {
          "name": "stderr",
          "output_type": "stream",
          "text": [
            "INFO:tensorflow:Loading image /Users/niklas/Projects/GestureRecognition/Custom_Model/rps_data_sample/drag/51.jpg\n"
          ]
        },
        {
          "name": "stdout",
          "output_type": "stream",
          "text": [
            "INFO:tensorflow:Loading image /Users/niklas/Projects/GestureRecognition/Custom_Model/rps_data_sample/drag/13.jpg\n"
          ]
        },
        {
          "name": "stderr",
          "output_type": "stream",
          "text": [
            "INFO:tensorflow:Loading image /Users/niklas/Projects/GestureRecognition/Custom_Model/rps_data_sample/drag/13.jpg\n"
          ]
        },
        {
          "name": "stdout",
          "output_type": "stream",
          "text": [
            "INFO:tensorflow:Loading image /Users/niklas/Projects/GestureRecognition/Custom_Model/rps_data_sample/drag/185.jpg\n"
          ]
        },
        {
          "name": "stderr",
          "output_type": "stream",
          "text": [
            "INFO:tensorflow:Loading image /Users/niklas/Projects/GestureRecognition/Custom_Model/rps_data_sample/drag/185.jpg\n"
          ]
        },
        {
          "name": "stdout",
          "output_type": "stream",
          "text": [
            "INFO:tensorflow:Loading image /Users/niklas/Projects/GestureRecognition/Custom_Model/rps_data_sample/drag/79.jpg\n"
          ]
        },
        {
          "name": "stderr",
          "output_type": "stream",
          "text": [
            "INFO:tensorflow:Loading image /Users/niklas/Projects/GestureRecognition/Custom_Model/rps_data_sample/drag/79.jpg\n"
          ]
        },
        {
          "name": "stdout",
          "output_type": "stream",
          "text": [
            "INFO:tensorflow:Loading image /Users/niklas/Projects/GestureRecognition/Custom_Model/rps_data_sample/click/193.jpg\n"
          ]
        },
        {
          "name": "stderr",
          "output_type": "stream",
          "text": [
            "INFO:tensorflow:Loading image /Users/niklas/Projects/GestureRecognition/Custom_Model/rps_data_sample/click/193.jpg\n"
          ]
        },
        {
          "name": "stdout",
          "output_type": "stream",
          "text": [
            "INFO:tensorflow:Loading image /Users/niklas/Projects/GestureRecognition/Custom_Model/rps_data_sample/click/208.jpg\n"
          ]
        },
        {
          "name": "stderr",
          "output_type": "stream",
          "text": [
            "INFO:tensorflow:Loading image /Users/niklas/Projects/GestureRecognition/Custom_Model/rps_data_sample/click/208.jpg\n"
          ]
        },
        {
          "name": "stdout",
          "output_type": "stream",
          "text": [
            "INFO:tensorflow:Loading image /Users/niklas/Projects/GestureRecognition/Custom_Model/rps_data_sample/drag/55.jpg\n"
          ]
        },
        {
          "name": "stderr",
          "output_type": "stream",
          "text": [
            "INFO:tensorflow:Loading image /Users/niklas/Projects/GestureRecognition/Custom_Model/rps_data_sample/drag/55.jpg\n"
          ]
        },
        {
          "name": "stdout",
          "output_type": "stream",
          "text": [
            "INFO:tensorflow:Loading image /Users/niklas/Projects/GestureRecognition/Custom_Model/rps_data_sample/drag/148.jpg\n"
          ]
        },
        {
          "name": "stderr",
          "output_type": "stream",
          "text": [
            "INFO:tensorflow:Loading image /Users/niklas/Projects/GestureRecognition/Custom_Model/rps_data_sample/drag/148.jpg\n"
          ]
        },
        {
          "name": "stdout",
          "output_type": "stream",
          "text": [
            "INFO:tensorflow:Loading image /Users/niklas/Projects/GestureRecognition/Custom_Model/rps_data_sample/click/79.jpg\n"
          ]
        },
        {
          "name": "stderr",
          "output_type": "stream",
          "text": [
            "INFO:tensorflow:Loading image /Users/niklas/Projects/GestureRecognition/Custom_Model/rps_data_sample/click/79.jpg\n"
          ]
        },
        {
          "name": "stdout",
          "output_type": "stream",
          "text": [
            "INFO:tensorflow:Loading image /Users/niklas/Projects/GestureRecognition/Custom_Model/rps_data_sample/none/386.jpg\n"
          ]
        },
        {
          "name": "stderr",
          "output_type": "stream",
          "text": [
            "INFO:tensorflow:Loading image /Users/niklas/Projects/GestureRecognition/Custom_Model/rps_data_sample/none/386.jpg\n"
          ]
        },
        {
          "name": "stdout",
          "output_type": "stream",
          "text": [
            "INFO:tensorflow:Loading image /Users/niklas/Projects/GestureRecognition/Custom_Model/rps_data_sample/click/142.jpg\n"
          ]
        },
        {
          "name": "stderr",
          "output_type": "stream",
          "text": [
            "INFO:tensorflow:Loading image /Users/niklas/Projects/GestureRecognition/Custom_Model/rps_data_sample/click/142.jpg\n"
          ]
        },
        {
          "name": "stdout",
          "output_type": "stream",
          "text": [
            "INFO:tensorflow:Loading image /Users/niklas/Projects/GestureRecognition/Custom_Model/rps_data_sample/drag/203.jpg\n"
          ]
        },
        {
          "name": "stderr",
          "output_type": "stream",
          "text": [
            "INFO:tensorflow:Loading image /Users/niklas/Projects/GestureRecognition/Custom_Model/rps_data_sample/drag/203.jpg\n"
          ]
        },
        {
          "name": "stdout",
          "output_type": "stream",
          "text": [
            "INFO:tensorflow:Loading image /Users/niklas/Projects/GestureRecognition/Custom_Model/rps_data_sample/drag/20.jpg\n"
          ]
        },
        {
          "name": "stderr",
          "output_type": "stream",
          "text": [
            "INFO:tensorflow:Loading image /Users/niklas/Projects/GestureRecognition/Custom_Model/rps_data_sample/drag/20.jpg\n"
          ]
        },
        {
          "name": "stdout",
          "output_type": "stream",
          "text": [
            "INFO:tensorflow:Loading image /Users/niklas/Projects/GestureRecognition/Custom_Model/rps_data_sample/drag/63.jpg\n"
          ]
        },
        {
          "name": "stderr",
          "output_type": "stream",
          "text": [
            "INFO:tensorflow:Loading image /Users/niklas/Projects/GestureRecognition/Custom_Model/rps_data_sample/drag/63.jpg\n"
          ]
        },
        {
          "name": "stdout",
          "output_type": "stream",
          "text": [
            "INFO:tensorflow:Loading image /Users/niklas/Projects/GestureRecognition/Custom_Model/rps_data_sample/none/520.jpg\n"
          ]
        },
        {
          "name": "stderr",
          "output_type": "stream",
          "text": [
            "INFO:tensorflow:Loading image /Users/niklas/Projects/GestureRecognition/Custom_Model/rps_data_sample/none/520.jpg\n"
          ]
        },
        {
          "name": "stdout",
          "output_type": "stream",
          "text": [
            "INFO:tensorflow:Loading image /Users/niklas/Projects/GestureRecognition/Custom_Model/rps_data_sample/drag/136.jpg\n"
          ]
        },
        {
          "name": "stderr",
          "output_type": "stream",
          "text": [
            "INFO:tensorflow:Loading image /Users/niklas/Projects/GestureRecognition/Custom_Model/rps_data_sample/drag/136.jpg\n"
          ]
        },
        {
          "name": "stdout",
          "output_type": "stream",
          "text": [
            "INFO:tensorflow:Loading image /Users/niklas/Projects/GestureRecognition/Custom_Model/rps_data_sample/click/125.jpg\n"
          ]
        },
        {
          "name": "stderr",
          "output_type": "stream",
          "text": [
            "INFO:tensorflow:Loading image /Users/niklas/Projects/GestureRecognition/Custom_Model/rps_data_sample/click/125.jpg\n"
          ]
        },
        {
          "name": "stdout",
          "output_type": "stream",
          "text": [
            "INFO:tensorflow:Loading image /Users/niklas/Projects/GestureRecognition/Custom_Model/rps_data_sample/click/111.jpg\n"
          ]
        },
        {
          "name": "stderr",
          "output_type": "stream",
          "text": [
            "INFO:tensorflow:Loading image /Users/niklas/Projects/GestureRecognition/Custom_Model/rps_data_sample/click/111.jpg\n"
          ]
        },
        {
          "name": "stdout",
          "output_type": "stream",
          "text": [
            "INFO:tensorflow:Loading image /Users/niklas/Projects/GestureRecognition/Custom_Model/rps_data_sample/drag/80.jpg\n"
          ]
        },
        {
          "name": "stderr",
          "output_type": "stream",
          "text": [
            "INFO:tensorflow:Loading image /Users/niklas/Projects/GestureRecognition/Custom_Model/rps_data_sample/drag/80.jpg\n"
          ]
        },
        {
          "name": "stdout",
          "output_type": "stream",
          "text": [
            "INFO:tensorflow:Loading image /Users/niklas/Projects/GestureRecognition/Custom_Model/rps_data_sample/click/114.jpg\n"
          ]
        },
        {
          "name": "stderr",
          "output_type": "stream",
          "text": [
            "INFO:tensorflow:Loading image /Users/niklas/Projects/GestureRecognition/Custom_Model/rps_data_sample/click/114.jpg\n"
          ]
        },
        {
          "name": "stdout",
          "output_type": "stream",
          "text": [
            "INFO:tensorflow:Loading image /Users/niklas/Projects/GestureRecognition/Custom_Model/rps_data_sample/drag/70.jpg\n"
          ]
        },
        {
          "name": "stderr",
          "output_type": "stream",
          "text": [
            "INFO:tensorflow:Loading image /Users/niklas/Projects/GestureRecognition/Custom_Model/rps_data_sample/drag/70.jpg\n"
          ]
        },
        {
          "name": "stdout",
          "output_type": "stream",
          "text": [
            "INFO:tensorflow:Loading image /Users/niklas/Projects/GestureRecognition/Custom_Model/rps_data_sample/click/50.jpg\n"
          ]
        },
        {
          "name": "stderr",
          "output_type": "stream",
          "text": [
            "INFO:tensorflow:Loading image /Users/niklas/Projects/GestureRecognition/Custom_Model/rps_data_sample/click/50.jpg\n"
          ]
        },
        {
          "name": "stdout",
          "output_type": "stream",
          "text": [
            "INFO:tensorflow:Loading image /Users/niklas/Projects/GestureRecognition/Custom_Model/rps_data_sample/drag/133.jpg\n"
          ]
        },
        {
          "name": "stderr",
          "output_type": "stream",
          "text": [
            "INFO:tensorflow:Loading image /Users/niklas/Projects/GestureRecognition/Custom_Model/rps_data_sample/drag/133.jpg\n"
          ]
        },
        {
          "name": "stdout",
          "output_type": "stream",
          "text": [
            "INFO:tensorflow:Loading image /Users/niklas/Projects/GestureRecognition/Custom_Model/rps_data_sample/drag/19.jpg\n"
          ]
        },
        {
          "name": "stderr",
          "output_type": "stream",
          "text": [
            "INFO:tensorflow:Loading image /Users/niklas/Projects/GestureRecognition/Custom_Model/rps_data_sample/drag/19.jpg\n"
          ]
        },
        {
          "name": "stdout",
          "output_type": "stream",
          "text": [
            "INFO:tensorflow:Loading image /Users/niklas/Projects/GestureRecognition/Custom_Model/rps_data_sample/drag/132.jpg\n"
          ]
        },
        {
          "name": "stderr",
          "output_type": "stream",
          "text": [
            "INFO:tensorflow:Loading image /Users/niklas/Projects/GestureRecognition/Custom_Model/rps_data_sample/drag/132.jpg\n"
          ]
        },
        {
          "name": "stdout",
          "output_type": "stream",
          "text": [
            "INFO:tensorflow:Loading image /Users/niklas/Projects/GestureRecognition/Custom_Model/rps_data_sample/click/71.jpg\n"
          ]
        },
        {
          "name": "stderr",
          "output_type": "stream",
          "text": [
            "INFO:tensorflow:Loading image /Users/niklas/Projects/GestureRecognition/Custom_Model/rps_data_sample/click/71.jpg\n"
          ]
        },
        {
          "name": "stdout",
          "output_type": "stream",
          "text": [
            "INFO:tensorflow:Loading image /Users/niklas/Projects/GestureRecognition/Custom_Model/rps_data_sample/drag/127.jpg\n"
          ]
        },
        {
          "name": "stderr",
          "output_type": "stream",
          "text": [
            "INFO:tensorflow:Loading image /Users/niklas/Projects/GestureRecognition/Custom_Model/rps_data_sample/drag/127.jpg\n"
          ]
        },
        {
          "name": "stdout",
          "output_type": "stream",
          "text": [
            "INFO:tensorflow:Loading image /Users/niklas/Projects/GestureRecognition/Custom_Model/rps_data_sample/click/221.jpg\n"
          ]
        },
        {
          "name": "stderr",
          "output_type": "stream",
          "text": [
            "INFO:tensorflow:Loading image /Users/niklas/Projects/GestureRecognition/Custom_Model/rps_data_sample/click/221.jpg\n"
          ]
        },
        {
          "name": "stdout",
          "output_type": "stream",
          "text": [
            "INFO:tensorflow:Loading image /Users/niklas/Projects/GestureRecognition/Custom_Model/rps_data_sample/click/181.jpg\n"
          ]
        },
        {
          "name": "stderr",
          "output_type": "stream",
          "text": [
            "INFO:tensorflow:Loading image /Users/niklas/Projects/GestureRecognition/Custom_Model/rps_data_sample/click/181.jpg\n"
          ]
        },
        {
          "name": "stdout",
          "output_type": "stream",
          "text": [
            "INFO:tensorflow:Loading image /Users/niklas/Projects/GestureRecognition/Custom_Model/rps_data_sample/click/33.jpg\n"
          ]
        },
        {
          "name": "stderr",
          "output_type": "stream",
          "text": [
            "INFO:tensorflow:Loading image /Users/niklas/Projects/GestureRecognition/Custom_Model/rps_data_sample/click/33.jpg\n"
          ]
        },
        {
          "name": "stdout",
          "output_type": "stream",
          "text": [
            "INFO:tensorflow:Loading image /Users/niklas/Projects/GestureRecognition/Custom_Model/rps_data_sample/drag/158.jpg\n"
          ]
        },
        {
          "name": "stderr",
          "output_type": "stream",
          "text": [
            "INFO:tensorflow:Loading image /Users/niklas/Projects/GestureRecognition/Custom_Model/rps_data_sample/drag/158.jpg\n"
          ]
        },
        {
          "name": "stdout",
          "output_type": "stream",
          "text": [
            "INFO:tensorflow:Loading image /Users/niklas/Projects/GestureRecognition/Custom_Model/rps_data_sample/click/175.jpg\n"
          ]
        },
        {
          "name": "stderr",
          "output_type": "stream",
          "text": [
            "INFO:tensorflow:Loading image /Users/niklas/Projects/GestureRecognition/Custom_Model/rps_data_sample/click/175.jpg\n"
          ]
        },
        {
          "name": "stdout",
          "output_type": "stream",
          "text": [
            "INFO:tensorflow:Loading image /Users/niklas/Projects/GestureRecognition/Custom_Model/rps_data_sample/click/36.jpg\n"
          ]
        },
        {
          "name": "stderr",
          "output_type": "stream",
          "text": [
            "INFO:tensorflow:Loading image /Users/niklas/Projects/GestureRecognition/Custom_Model/rps_data_sample/click/36.jpg\n"
          ]
        },
        {
          "name": "stdout",
          "output_type": "stream",
          "text": [
            "INFO:tensorflow:Loading image /Users/niklas/Projects/GestureRecognition/Custom_Model/rps_data_sample/drag/54.jpg\n"
          ]
        },
        {
          "name": "stderr",
          "output_type": "stream",
          "text": [
            "INFO:tensorflow:Loading image /Users/niklas/Projects/GestureRecognition/Custom_Model/rps_data_sample/drag/54.jpg\n"
          ]
        },
        {
          "name": "stdout",
          "output_type": "stream",
          "text": [
            "INFO:tensorflow:Loading image /Users/niklas/Projects/GestureRecognition/Custom_Model/rps_data_sample/click/120.jpg\n"
          ]
        },
        {
          "name": "stderr",
          "output_type": "stream",
          "text": [
            "INFO:tensorflow:Loading image /Users/niklas/Projects/GestureRecognition/Custom_Model/rps_data_sample/click/120.jpg\n"
          ]
        },
        {
          "name": "stdout",
          "output_type": "stream",
          "text": [
            "INFO:tensorflow:Loading image /Users/niklas/Projects/GestureRecognition/Custom_Model/rps_data_sample/click/118.jpg\n"
          ]
        },
        {
          "name": "stderr",
          "output_type": "stream",
          "text": [
            "INFO:tensorflow:Loading image /Users/niklas/Projects/GestureRecognition/Custom_Model/rps_data_sample/click/118.jpg\n"
          ]
        },
        {
          "name": "stdout",
          "output_type": "stream",
          "text": [
            "INFO:tensorflow:Loading image /Users/niklas/Projects/GestureRecognition/Custom_Model/rps_data_sample/drag/177.jpg\n"
          ]
        },
        {
          "name": "stderr",
          "output_type": "stream",
          "text": [
            "INFO:tensorflow:Loading image /Users/niklas/Projects/GestureRecognition/Custom_Model/rps_data_sample/drag/177.jpg\n"
          ]
        },
        {
          "name": "stdout",
          "output_type": "stream",
          "text": [
            "INFO:tensorflow:Loading image /Users/niklas/Projects/GestureRecognition/Custom_Model/rps_data_sample/none/657.jpg\n"
          ]
        },
        {
          "name": "stderr",
          "output_type": "stream",
          "text": [
            "INFO:tensorflow:Loading image /Users/niklas/Projects/GestureRecognition/Custom_Model/rps_data_sample/none/657.jpg\n"
          ]
        },
        {
          "name": "stdout",
          "output_type": "stream",
          "text": [
            "INFO:tensorflow:Loading image /Users/niklas/Projects/GestureRecognition/Custom_Model/rps_data_sample/click/145.jpg\n"
          ]
        },
        {
          "name": "stderr",
          "output_type": "stream",
          "text": [
            "INFO:tensorflow:Loading image /Users/niklas/Projects/GestureRecognition/Custom_Model/rps_data_sample/click/145.jpg\n"
          ]
        },
        {
          "name": "stdout",
          "output_type": "stream",
          "text": [
            "INFO:tensorflow:Loading image /Users/niklas/Projects/GestureRecognition/Custom_Model/rps_data_sample/none/1657.jpg\n"
          ]
        },
        {
          "name": "stderr",
          "output_type": "stream",
          "text": [
            "INFO:tensorflow:Loading image /Users/niklas/Projects/GestureRecognition/Custom_Model/rps_data_sample/none/1657.jpg\n"
          ]
        },
        {
          "name": "stdout",
          "output_type": "stream",
          "text": [
            "INFO:tensorflow:Loading image /Users/niklas/Projects/GestureRecognition/Custom_Model/rps_data_sample/click/174.jpg\n"
          ]
        },
        {
          "name": "stderr",
          "output_type": "stream",
          "text": [
            "INFO:tensorflow:Loading image /Users/niklas/Projects/GestureRecognition/Custom_Model/rps_data_sample/click/174.jpg\n"
          ]
        },
        {
          "name": "stdout",
          "output_type": "stream",
          "text": [
            "INFO:tensorflow:Loading image /Users/niklas/Projects/GestureRecognition/Custom_Model/rps_data_sample/none/236.jpg\n"
          ]
        },
        {
          "name": "stderr",
          "output_type": "stream",
          "text": [
            "INFO:tensorflow:Loading image /Users/niklas/Projects/GestureRecognition/Custom_Model/rps_data_sample/none/236.jpg\n"
          ]
        },
        {
          "name": "stdout",
          "output_type": "stream",
          "text": [
            "INFO:tensorflow:Loading image /Users/niklas/Projects/GestureRecognition/Custom_Model/rps_data_sample/click/139.jpg\n"
          ]
        },
        {
          "name": "stderr",
          "output_type": "stream",
          "text": [
            "INFO:tensorflow:Loading image /Users/niklas/Projects/GestureRecognition/Custom_Model/rps_data_sample/click/139.jpg\n"
          ]
        },
        {
          "name": "stdout",
          "output_type": "stream",
          "text": [
            "INFO:tensorflow:Loading image /Users/niklas/Projects/GestureRecognition/Custom_Model/rps_data_sample/none/957.jpg\n"
          ]
        },
        {
          "name": "stderr",
          "output_type": "stream",
          "text": [
            "INFO:tensorflow:Loading image /Users/niklas/Projects/GestureRecognition/Custom_Model/rps_data_sample/none/957.jpg\n"
          ]
        },
        {
          "name": "stdout",
          "output_type": "stream",
          "text": [
            "INFO:tensorflow:Loading image /Users/niklas/Projects/GestureRecognition/Custom_Model/rps_data_sample/click/90.jpg\n"
          ]
        },
        {
          "name": "stderr",
          "output_type": "stream",
          "text": [
            "INFO:tensorflow:Loading image /Users/niklas/Projects/GestureRecognition/Custom_Model/rps_data_sample/click/90.jpg\n"
          ]
        },
        {
          "name": "stdout",
          "output_type": "stream",
          "text": [
            "INFO:tensorflow:Loading image /Users/niklas/Projects/GestureRecognition/Custom_Model/rps_data_sample/click/85.jpg\n"
          ]
        },
        {
          "name": "stderr",
          "output_type": "stream",
          "text": [
            "INFO:tensorflow:Loading image /Users/niklas/Projects/GestureRecognition/Custom_Model/rps_data_sample/click/85.jpg\n"
          ]
        },
        {
          "name": "stdout",
          "output_type": "stream",
          "text": [
            "INFO:tensorflow:Loading image /Users/niklas/Projects/GestureRecognition/Custom_Model/rps_data_sample/none/1416.jpg\n"
          ]
        },
        {
          "name": "stderr",
          "output_type": "stream",
          "text": [
            "INFO:tensorflow:Loading image /Users/niklas/Projects/GestureRecognition/Custom_Model/rps_data_sample/none/1416.jpg\n"
          ]
        },
        {
          "name": "stdout",
          "output_type": "stream",
          "text": [
            "INFO:tensorflow:Loading image /Users/niklas/Projects/GestureRecognition/Custom_Model/rps_data_sample/drag/61.jpg\n"
          ]
        },
        {
          "name": "stderr",
          "output_type": "stream",
          "text": [
            "INFO:tensorflow:Loading image /Users/niklas/Projects/GestureRecognition/Custom_Model/rps_data_sample/drag/61.jpg\n"
          ]
        },
        {
          "name": "stdout",
          "output_type": "stream",
          "text": [
            "INFO:tensorflow:Loading image /Users/niklas/Projects/GestureRecognition/Custom_Model/rps_data_sample/none/1198.jpg\n"
          ]
        },
        {
          "name": "stderr",
          "output_type": "stream",
          "text": [
            "INFO:tensorflow:Loading image /Users/niklas/Projects/GestureRecognition/Custom_Model/rps_data_sample/none/1198.jpg\n"
          ]
        },
        {
          "name": "stdout",
          "output_type": "stream",
          "text": [
            "INFO:tensorflow:Loading image /Users/niklas/Projects/GestureRecognition/Custom_Model/rps_data_sample/drag/59.jpg\n"
          ]
        },
        {
          "name": "stderr",
          "output_type": "stream",
          "text": [
            "INFO:tensorflow:Loading image /Users/niklas/Projects/GestureRecognition/Custom_Model/rps_data_sample/drag/59.jpg\n"
          ]
        },
        {
          "name": "stdout",
          "output_type": "stream",
          "text": [
            "INFO:tensorflow:Loading image /Users/niklas/Projects/GestureRecognition/Custom_Model/rps_data_sample/none/1412.jpg\n"
          ]
        },
        {
          "name": "stderr",
          "output_type": "stream",
          "text": [
            "INFO:tensorflow:Loading image /Users/niklas/Projects/GestureRecognition/Custom_Model/rps_data_sample/none/1412.jpg\n"
          ]
        },
        {
          "name": "stdout",
          "output_type": "stream",
          "text": [
            "INFO:tensorflow:Loading image /Users/niklas/Projects/GestureRecognition/Custom_Model/rps_data_sample/click/185.jpg\n"
          ]
        },
        {
          "name": "stderr",
          "output_type": "stream",
          "text": [
            "INFO:tensorflow:Loading image /Users/niklas/Projects/GestureRecognition/Custom_Model/rps_data_sample/click/185.jpg\n"
          ]
        },
        {
          "name": "stdout",
          "output_type": "stream",
          "text": [
            "INFO:tensorflow:Loading image /Users/niklas/Projects/GestureRecognition/Custom_Model/rps_data_sample/none/255.jpg\n"
          ]
        },
        {
          "name": "stderr",
          "output_type": "stream",
          "text": [
            "INFO:tensorflow:Loading image /Users/niklas/Projects/GestureRecognition/Custom_Model/rps_data_sample/none/255.jpg\n"
          ]
        },
        {
          "name": "stdout",
          "output_type": "stream",
          "text": [
            "INFO:tensorflow:Loading image /Users/niklas/Projects/GestureRecognition/Custom_Model/rps_data_sample/drag/199.jpg\n"
          ]
        },
        {
          "name": "stderr",
          "output_type": "stream",
          "text": [
            "INFO:tensorflow:Loading image /Users/niklas/Projects/GestureRecognition/Custom_Model/rps_data_sample/drag/199.jpg\n"
          ]
        },
        {
          "name": "stdout",
          "output_type": "stream",
          "text": [
            "INFO:tensorflow:Loading image /Users/niklas/Projects/GestureRecognition/Custom_Model/rps_data_sample/drag/105.jpg\n"
          ]
        },
        {
          "name": "stderr",
          "output_type": "stream",
          "text": [
            "INFO:tensorflow:Loading image /Users/niklas/Projects/GestureRecognition/Custom_Model/rps_data_sample/drag/105.jpg\n"
          ]
        },
        {
          "name": "stdout",
          "output_type": "stream",
          "text": [
            "INFO:tensorflow:Loading image /Users/niklas/Projects/GestureRecognition/Custom_Model/rps_data_sample/click/210.jpg\n"
          ]
        },
        {
          "name": "stderr",
          "output_type": "stream",
          "text": [
            "INFO:tensorflow:Loading image /Users/niklas/Projects/GestureRecognition/Custom_Model/rps_data_sample/click/210.jpg\n"
          ]
        },
        {
          "name": "stdout",
          "output_type": "stream",
          "text": [
            "INFO:tensorflow:Loading image /Users/niklas/Projects/GestureRecognition/Custom_Model/rps_data_sample/none/65.jpg\n"
          ]
        },
        {
          "name": "stderr",
          "output_type": "stream",
          "text": [
            "INFO:tensorflow:Loading image /Users/niklas/Projects/GestureRecognition/Custom_Model/rps_data_sample/none/65.jpg\n"
          ]
        },
        {
          "name": "stdout",
          "output_type": "stream",
          "text": [
            "INFO:tensorflow:Loading image /Users/niklas/Projects/GestureRecognition/Custom_Model/rps_data_sample/click/77.jpg\n"
          ]
        },
        {
          "name": "stderr",
          "output_type": "stream",
          "text": [
            "INFO:tensorflow:Loading image /Users/niklas/Projects/GestureRecognition/Custom_Model/rps_data_sample/click/77.jpg\n"
          ]
        },
        {
          "name": "stdout",
          "output_type": "stream",
          "text": [
            "INFO:tensorflow:Loading image /Users/niklas/Projects/GestureRecognition/Custom_Model/rps_data_sample/drag/135.jpg\n"
          ]
        },
        {
          "name": "stderr",
          "output_type": "stream",
          "text": [
            "INFO:tensorflow:Loading image /Users/niklas/Projects/GestureRecognition/Custom_Model/rps_data_sample/drag/135.jpg\n"
          ]
        },
        {
          "name": "stdout",
          "output_type": "stream",
          "text": [
            "INFO:tensorflow:Loading image /Users/niklas/Projects/GestureRecognition/Custom_Model/rps_data_sample/click/205.jpg\n"
          ]
        },
        {
          "name": "stderr",
          "output_type": "stream",
          "text": [
            "INFO:tensorflow:Loading image /Users/niklas/Projects/GestureRecognition/Custom_Model/rps_data_sample/click/205.jpg\n"
          ]
        },
        {
          "name": "stdout",
          "output_type": "stream",
          "text": [
            "INFO:tensorflow:Loading image /Users/niklas/Projects/GestureRecognition/Custom_Model/rps_data_sample/click/227.jpg\n"
          ]
        },
        {
          "name": "stderr",
          "output_type": "stream",
          "text": [
            "INFO:tensorflow:Loading image /Users/niklas/Projects/GestureRecognition/Custom_Model/rps_data_sample/click/227.jpg\n"
          ]
        },
        {
          "name": "stdout",
          "output_type": "stream",
          "text": [
            "INFO:tensorflow:Loading image /Users/niklas/Projects/GestureRecognition/Custom_Model/rps_data_sample/drag/104.jpg\n"
          ]
        },
        {
          "name": "stderr",
          "output_type": "stream",
          "text": [
            "INFO:tensorflow:Loading image /Users/niklas/Projects/GestureRecognition/Custom_Model/rps_data_sample/drag/104.jpg\n"
          ]
        },
        {
          "name": "stdout",
          "output_type": "stream",
          "text": [
            "INFO:tensorflow:Loading image /Users/niklas/Projects/GestureRecognition/Custom_Model/rps_data_sample/click/38.jpg\n"
          ]
        },
        {
          "name": "stderr",
          "output_type": "stream",
          "text": [
            "INFO:tensorflow:Loading image /Users/niklas/Projects/GestureRecognition/Custom_Model/rps_data_sample/click/38.jpg\n"
          ]
        },
        {
          "name": "stdout",
          "output_type": "stream",
          "text": [
            "INFO:tensorflow:Loading image /Users/niklas/Projects/GestureRecognition/Custom_Model/rps_data_sample/click/135.jpg\n"
          ]
        },
        {
          "name": "stderr",
          "output_type": "stream",
          "text": [
            "INFO:tensorflow:Loading image /Users/niklas/Projects/GestureRecognition/Custom_Model/rps_data_sample/click/135.jpg\n"
          ]
        },
        {
          "name": "stdout",
          "output_type": "stream",
          "text": [
            "INFO:tensorflow:Loading image /Users/niklas/Projects/GestureRecognition/Custom_Model/rps_data_sample/click/40.jpg\n"
          ]
        },
        {
          "name": "stderr",
          "output_type": "stream",
          "text": [
            "INFO:tensorflow:Loading image /Users/niklas/Projects/GestureRecognition/Custom_Model/rps_data_sample/click/40.jpg\n"
          ]
        },
        {
          "name": "stdout",
          "output_type": "stream",
          "text": [
            "INFO:tensorflow:Loading image /Users/niklas/Projects/GestureRecognition/Custom_Model/rps_data_sample/click/133.jpg\n"
          ]
        },
        {
          "name": "stderr",
          "output_type": "stream",
          "text": [
            "INFO:tensorflow:Loading image /Users/niklas/Projects/GestureRecognition/Custom_Model/rps_data_sample/click/133.jpg\n"
          ]
        },
        {
          "name": "stdout",
          "output_type": "stream",
          "text": [
            "INFO:tensorflow:Loading image /Users/niklas/Projects/GestureRecognition/Custom_Model/rps_data_sample/none/1005.jpg\n"
          ]
        },
        {
          "name": "stderr",
          "output_type": "stream",
          "text": [
            "INFO:tensorflow:Loading image /Users/niklas/Projects/GestureRecognition/Custom_Model/rps_data_sample/none/1005.jpg\n"
          ]
        },
        {
          "name": "stdout",
          "output_type": "stream",
          "text": [
            "INFO:tensorflow:Loading image /Users/niklas/Projects/GestureRecognition/Custom_Model/rps_data_sample/none/955.jpg\n"
          ]
        },
        {
          "name": "stderr",
          "output_type": "stream",
          "text": [
            "INFO:tensorflow:Loading image /Users/niklas/Projects/GestureRecognition/Custom_Model/rps_data_sample/none/955.jpg\n"
          ]
        },
        {
          "name": "stdout",
          "output_type": "stream",
          "text": [
            "INFO:tensorflow:Loading image /Users/niklas/Projects/GestureRecognition/Custom_Model/rps_data_sample/click/7.jpg\n"
          ]
        },
        {
          "name": "stderr",
          "output_type": "stream",
          "text": [
            "INFO:tensorflow:Loading image /Users/niklas/Projects/GestureRecognition/Custom_Model/rps_data_sample/click/7.jpg\n"
          ]
        },
        {
          "name": "stdout",
          "output_type": "stream",
          "text": [
            "INFO:tensorflow:Loading image /Users/niklas/Projects/GestureRecognition/Custom_Model/rps_data_sample/click/22.jpg\n"
          ]
        },
        {
          "name": "stderr",
          "output_type": "stream",
          "text": [
            "INFO:tensorflow:Loading image /Users/niklas/Projects/GestureRecognition/Custom_Model/rps_data_sample/click/22.jpg\n"
          ]
        },
        {
          "name": "stdout",
          "output_type": "stream",
          "text": [
            "INFO:tensorflow:Loading image /Users/niklas/Projects/GestureRecognition/Custom_Model/rps_data_sample/drag/23.jpg\n"
          ]
        },
        {
          "name": "stderr",
          "output_type": "stream",
          "text": [
            "INFO:tensorflow:Loading image /Users/niklas/Projects/GestureRecognition/Custom_Model/rps_data_sample/drag/23.jpg\n"
          ]
        },
        {
          "name": "stdout",
          "output_type": "stream",
          "text": [
            "INFO:tensorflow:Loading image /Users/niklas/Projects/GestureRecognition/Custom_Model/rps_data_sample/click/55.jpg\n"
          ]
        },
        {
          "name": "stderr",
          "output_type": "stream",
          "text": [
            "INFO:tensorflow:Loading image /Users/niklas/Projects/GestureRecognition/Custom_Model/rps_data_sample/click/55.jpg\n"
          ]
        },
        {
          "name": "stdout",
          "output_type": "stream",
          "text": [
            "INFO:tensorflow:Loading image /Users/niklas/Projects/GestureRecognition/Custom_Model/rps_data_sample/click/220.jpg\n"
          ]
        },
        {
          "name": "stderr",
          "output_type": "stream",
          "text": [
            "INFO:tensorflow:Loading image /Users/niklas/Projects/GestureRecognition/Custom_Model/rps_data_sample/click/220.jpg\n"
          ]
        },
        {
          "name": "stdout",
          "output_type": "stream",
          "text": [
            "INFO:tensorflow:Loading image /Users/niklas/Projects/GestureRecognition/Custom_Model/rps_data_sample/drag/88.jpg\n"
          ]
        },
        {
          "name": "stderr",
          "output_type": "stream",
          "text": [
            "INFO:tensorflow:Loading image /Users/niklas/Projects/GestureRecognition/Custom_Model/rps_data_sample/drag/88.jpg\n"
          ]
        },
        {
          "name": "stdout",
          "output_type": "stream",
          "text": [
            "INFO:tensorflow:Loading image /Users/niklas/Projects/GestureRecognition/Custom_Model/rps_data_sample/none/1206.jpg\n"
          ]
        },
        {
          "name": "stderr",
          "output_type": "stream",
          "text": [
            "INFO:tensorflow:Loading image /Users/niklas/Projects/GestureRecognition/Custom_Model/rps_data_sample/none/1206.jpg\n"
          ]
        },
        {
          "name": "stdout",
          "output_type": "stream",
          "text": [
            "INFO:tensorflow:Loading image /Users/niklas/Projects/GestureRecognition/Custom_Model/rps_data_sample/click/180.jpg\n"
          ]
        },
        {
          "name": "stderr",
          "output_type": "stream",
          "text": [
            "INFO:tensorflow:Loading image /Users/niklas/Projects/GestureRecognition/Custom_Model/rps_data_sample/click/180.jpg\n"
          ]
        },
        {
          "name": "stdout",
          "output_type": "stream",
          "text": [
            "INFO:tensorflow:Loading image /Users/niklas/Projects/GestureRecognition/Custom_Model/rps_data_sample/click/171.jpg\n"
          ]
        },
        {
          "name": "stderr",
          "output_type": "stream",
          "text": [
            "INFO:tensorflow:Loading image /Users/niklas/Projects/GestureRecognition/Custom_Model/rps_data_sample/click/171.jpg\n"
          ]
        },
        {
          "name": "stdout",
          "output_type": "stream",
          "text": [
            "INFO:tensorflow:Loading image /Users/niklas/Projects/GestureRecognition/Custom_Model/rps_data_sample/none/1107.jpg\n"
          ]
        },
        {
          "name": "stderr",
          "output_type": "stream",
          "text": [
            "INFO:tensorflow:Loading image /Users/niklas/Projects/GestureRecognition/Custom_Model/rps_data_sample/none/1107.jpg\n"
          ]
        },
        {
          "name": "stdout",
          "output_type": "stream",
          "text": [
            "INFO:tensorflow:Loading image /Users/niklas/Projects/GestureRecognition/Custom_Model/rps_data_sample/drag/193.jpg\n"
          ]
        },
        {
          "name": "stderr",
          "output_type": "stream",
          "text": [
            "INFO:tensorflow:Loading image /Users/niklas/Projects/GestureRecognition/Custom_Model/rps_data_sample/drag/193.jpg\n"
          ]
        },
        {
          "name": "stdout",
          "output_type": "stream",
          "text": [
            "INFO:tensorflow:Loading image /Users/niklas/Projects/GestureRecognition/Custom_Model/rps_data_sample/click/76.jpg\n"
          ]
        },
        {
          "name": "stderr",
          "output_type": "stream",
          "text": [
            "INFO:tensorflow:Loading image /Users/niklas/Projects/GestureRecognition/Custom_Model/rps_data_sample/click/76.jpg\n"
          ]
        },
        {
          "name": "stdout",
          "output_type": "stream",
          "text": [
            "INFO:tensorflow:Loading image /Users/niklas/Projects/GestureRecognition/Custom_Model/rps_data_sample/click/17.jpg\n"
          ]
        },
        {
          "name": "stderr",
          "output_type": "stream",
          "text": [
            "INFO:tensorflow:Loading image /Users/niklas/Projects/GestureRecognition/Custom_Model/rps_data_sample/click/17.jpg\n"
          ]
        },
        {
          "name": "stdout",
          "output_type": "stream",
          "text": [
            "INFO:tensorflow:Loading image /Users/niklas/Projects/GestureRecognition/Custom_Model/rps_data_sample/drag/25.jpg\n"
          ]
        },
        {
          "name": "stderr",
          "output_type": "stream",
          "text": [
            "INFO:tensorflow:Loading image /Users/niklas/Projects/GestureRecognition/Custom_Model/rps_data_sample/drag/25.jpg\n"
          ]
        },
        {
          "name": "stdout",
          "output_type": "stream",
          "text": [
            "INFO:tensorflow:Loading image /Users/niklas/Projects/GestureRecognition/Custom_Model/rps_data_sample/none/363.jpg\n"
          ]
        },
        {
          "name": "stderr",
          "output_type": "stream",
          "text": [
            "INFO:tensorflow:Loading image /Users/niklas/Projects/GestureRecognition/Custom_Model/rps_data_sample/none/363.jpg\n"
          ]
        },
        {
          "name": "stdout",
          "output_type": "stream",
          "text": [
            "INFO:tensorflow:Loading image /Users/niklas/Projects/GestureRecognition/Custom_Model/rps_data_sample/drag/12.jpg\n"
          ]
        },
        {
          "name": "stderr",
          "output_type": "stream",
          "text": [
            "INFO:tensorflow:Loading image /Users/niklas/Projects/GestureRecognition/Custom_Model/rps_data_sample/drag/12.jpg\n"
          ]
        },
        {
          "name": "stdout",
          "output_type": "stream",
          "text": [
            "INFO:tensorflow:Loading image /Users/niklas/Projects/GestureRecognition/Custom_Model/rps_data_sample/none/946.jpg\n"
          ]
        },
        {
          "name": "stderr",
          "output_type": "stream",
          "text": [
            "INFO:tensorflow:Loading image /Users/niklas/Projects/GestureRecognition/Custom_Model/rps_data_sample/none/946.jpg\n"
          ]
        },
        {
          "name": "stdout",
          "output_type": "stream",
          "text": [
            "INFO:tensorflow:Loading image /Users/niklas/Projects/GestureRecognition/Custom_Model/rps_data_sample/drag/100.jpg\n"
          ]
        },
        {
          "name": "stderr",
          "output_type": "stream",
          "text": [
            "INFO:tensorflow:Loading image /Users/niklas/Projects/GestureRecognition/Custom_Model/rps_data_sample/drag/100.jpg\n"
          ]
        },
        {
          "name": "stdout",
          "output_type": "stream",
          "text": [
            "INFO:tensorflow:Loading image /Users/niklas/Projects/GestureRecognition/Custom_Model/rps_data_sample/click/64.jpg\n"
          ]
        },
        {
          "name": "stderr",
          "output_type": "stream",
          "text": [
            "INFO:tensorflow:Loading image /Users/niklas/Projects/GestureRecognition/Custom_Model/rps_data_sample/click/64.jpg\n"
          ]
        },
        {
          "name": "stdout",
          "output_type": "stream",
          "text": [
            "INFO:tensorflow:Loading image /Users/niklas/Projects/GestureRecognition/Custom_Model/rps_data_sample/none/735.jpg\n"
          ]
        },
        {
          "name": "stderr",
          "output_type": "stream",
          "text": [
            "INFO:tensorflow:Loading image /Users/niklas/Projects/GestureRecognition/Custom_Model/rps_data_sample/none/735.jpg\n"
          ]
        },
        {
          "name": "stdout",
          "output_type": "stream",
          "text": [
            "INFO:tensorflow:Loading image /Users/niklas/Projects/GestureRecognition/Custom_Model/rps_data_sample/none/1299.jpg\n"
          ]
        },
        {
          "name": "stderr",
          "output_type": "stream",
          "text": [
            "INFO:tensorflow:Loading image /Users/niklas/Projects/GestureRecognition/Custom_Model/rps_data_sample/none/1299.jpg\n"
          ]
        },
        {
          "name": "stdout",
          "output_type": "stream",
          "text": [
            "INFO:tensorflow:Loading image /Users/niklas/Projects/GestureRecognition/Custom_Model/rps_data_sample/click/34.jpg\n"
          ]
        },
        {
          "name": "stderr",
          "output_type": "stream",
          "text": [
            "INFO:tensorflow:Loading image /Users/niklas/Projects/GestureRecognition/Custom_Model/rps_data_sample/click/34.jpg\n"
          ]
        },
        {
          "name": "stdout",
          "output_type": "stream",
          "text": [
            "INFO:tensorflow:Loading image /Users/niklas/Projects/GestureRecognition/Custom_Model/rps_data_sample/click/143.jpg\n"
          ]
        },
        {
          "name": "stderr",
          "output_type": "stream",
          "text": [
            "INFO:tensorflow:Loading image /Users/niklas/Projects/GestureRecognition/Custom_Model/rps_data_sample/click/143.jpg\n"
          ]
        },
        {
          "name": "stdout",
          "output_type": "stream",
          "text": [
            "INFO:tensorflow:Loading image /Users/niklas/Projects/GestureRecognition/Custom_Model/rps_data_sample/none/275.jpg\n"
          ]
        },
        {
          "name": "stderr",
          "output_type": "stream",
          "text": [
            "INFO:tensorflow:Loading image /Users/niklas/Projects/GestureRecognition/Custom_Model/rps_data_sample/none/275.jpg\n"
          ]
        },
        {
          "name": "stdout",
          "output_type": "stream",
          "text": [
            "INFO:tensorflow:Loading image /Users/niklas/Projects/GestureRecognition/Custom_Model/rps_data_sample/click/146.jpg\n"
          ]
        },
        {
          "name": "stderr",
          "output_type": "stream",
          "text": [
            "INFO:tensorflow:Loading image /Users/niklas/Projects/GestureRecognition/Custom_Model/rps_data_sample/click/146.jpg\n"
          ]
        },
        {
          "name": "stdout",
          "output_type": "stream",
          "text": [
            "INFO:tensorflow:Loading image /Users/niklas/Projects/GestureRecognition/Custom_Model/rps_data_sample/click/87.jpg\n"
          ]
        },
        {
          "name": "stderr",
          "output_type": "stream",
          "text": [
            "INFO:tensorflow:Loading image /Users/niklas/Projects/GestureRecognition/Custom_Model/rps_data_sample/click/87.jpg\n"
          ]
        },
        {
          "name": "stdout",
          "output_type": "stream",
          "text": [
            "INFO:tensorflow:Loading image /Users/niklas/Projects/GestureRecognition/Custom_Model/rps_data_sample/drag/10.jpg\n"
          ]
        },
        {
          "name": "stderr",
          "output_type": "stream",
          "text": [
            "INFO:tensorflow:Loading image /Users/niklas/Projects/GestureRecognition/Custom_Model/rps_data_sample/drag/10.jpg\n"
          ]
        },
        {
          "name": "stdout",
          "output_type": "stream",
          "text": [
            "INFO:tensorflow:Loading image /Users/niklas/Projects/GestureRecognition/Custom_Model/rps_data_sample/drag/99.jpg\n"
          ]
        },
        {
          "name": "stderr",
          "output_type": "stream",
          "text": [
            "INFO:tensorflow:Loading image /Users/niklas/Projects/GestureRecognition/Custom_Model/rps_data_sample/drag/99.jpg\n"
          ]
        },
        {
          "name": "stdout",
          "output_type": "stream",
          "text": [
            "INFO:tensorflow:Loading image /Users/niklas/Projects/GestureRecognition/Custom_Model/rps_data_sample/drag/8.jpg\n"
          ]
        },
        {
          "name": "stderr",
          "output_type": "stream",
          "text": [
            "INFO:tensorflow:Loading image /Users/niklas/Projects/GestureRecognition/Custom_Model/rps_data_sample/drag/8.jpg\n"
          ]
        },
        {
          "name": "stdout",
          "output_type": "stream",
          "text": [
            "INFO:tensorflow:Loading image /Users/niklas/Projects/GestureRecognition/Custom_Model/rps_data_sample/none/1906.jpg\n"
          ]
        },
        {
          "name": "stderr",
          "output_type": "stream",
          "text": [
            "INFO:tensorflow:Loading image /Users/niklas/Projects/GestureRecognition/Custom_Model/rps_data_sample/none/1906.jpg\n"
          ]
        },
        {
          "name": "stdout",
          "output_type": "stream",
          "text": [
            "INFO:tensorflow:Loading image /Users/niklas/Projects/GestureRecognition/Custom_Model/rps_data_sample/click/82.jpg\n"
          ]
        },
        {
          "name": "stderr",
          "output_type": "stream",
          "text": [
            "INFO:tensorflow:Loading image /Users/niklas/Projects/GestureRecognition/Custom_Model/rps_data_sample/click/82.jpg\n"
          ]
        },
        {
          "name": "stdout",
          "output_type": "stream",
          "text": [
            "INFO:tensorflow:Loading image /Users/niklas/Projects/GestureRecognition/Custom_Model/rps_data_sample/none/1609.jpg\n"
          ]
        },
        {
          "name": "stderr",
          "output_type": "stream",
          "text": [
            "INFO:tensorflow:Loading image /Users/niklas/Projects/GestureRecognition/Custom_Model/rps_data_sample/none/1609.jpg\n"
          ]
        },
        {
          "name": "stdout",
          "output_type": "stream",
          "text": [
            "INFO:tensorflow:Loading image /Users/niklas/Projects/GestureRecognition/Custom_Model/rps_data_sample/drag/44.jpg\n"
          ]
        },
        {
          "name": "stderr",
          "output_type": "stream",
          "text": [
            "INFO:tensorflow:Loading image /Users/niklas/Projects/GestureRecognition/Custom_Model/rps_data_sample/drag/44.jpg\n"
          ]
        },
        {
          "name": "stdout",
          "output_type": "stream",
          "text": [
            "INFO:tensorflow:Loading image /Users/niklas/Projects/GestureRecognition/Custom_Model/rps_data_sample/click/83.jpg\n"
          ]
        },
        {
          "name": "stderr",
          "output_type": "stream",
          "text": [
            "INFO:tensorflow:Loading image /Users/niklas/Projects/GestureRecognition/Custom_Model/rps_data_sample/click/83.jpg\n"
          ]
        },
        {
          "name": "stdout",
          "output_type": "stream",
          "text": [
            "INFO:tensorflow:Loading image /Users/niklas/Projects/GestureRecognition/Custom_Model/rps_data_sample/click/63.jpg\n"
          ]
        },
        {
          "name": "stderr",
          "output_type": "stream",
          "text": [
            "INFO:tensorflow:Loading image /Users/niklas/Projects/GestureRecognition/Custom_Model/rps_data_sample/click/63.jpg\n"
          ]
        },
        {
          "name": "stdout",
          "output_type": "stream",
          "text": [
            "INFO:tensorflow:Loading image /Users/niklas/Projects/GestureRecognition/Custom_Model/rps_data_sample/click/25.jpg\n"
          ]
        },
        {
          "name": "stderr",
          "output_type": "stream",
          "text": [
            "INFO:tensorflow:Loading image /Users/niklas/Projects/GestureRecognition/Custom_Model/rps_data_sample/click/25.jpg\n"
          ]
        },
        {
          "name": "stdout",
          "output_type": "stream",
          "text": [
            "INFO:tensorflow:Loading image /Users/niklas/Projects/GestureRecognition/Custom_Model/rps_data_sample/none/349.jpg\n"
          ]
        },
        {
          "name": "stderr",
          "output_type": "stream",
          "text": [
            "INFO:tensorflow:Loading image /Users/niklas/Projects/GestureRecognition/Custom_Model/rps_data_sample/none/349.jpg\n"
          ]
        },
        {
          "name": "stdout",
          "output_type": "stream",
          "text": [
            "INFO:tensorflow:Loading image /Users/niklas/Projects/GestureRecognition/Custom_Model/rps_data_sample/none/800.jpg\n"
          ]
        },
        {
          "name": "stderr",
          "output_type": "stream",
          "text": [
            "INFO:tensorflow:Loading image /Users/niklas/Projects/GestureRecognition/Custom_Model/rps_data_sample/none/800.jpg\n"
          ]
        },
        {
          "name": "stdout",
          "output_type": "stream",
          "text": [
            "INFO:tensorflow:Loading image /Users/niklas/Projects/GestureRecognition/Custom_Model/rps_data_sample/click/121.jpg\n"
          ]
        },
        {
          "name": "stderr",
          "output_type": "stream",
          "text": [
            "INFO:tensorflow:Loading image /Users/niklas/Projects/GestureRecognition/Custom_Model/rps_data_sample/click/121.jpg\n"
          ]
        },
        {
          "name": "stdout",
          "output_type": "stream",
          "text": [
            "INFO:tensorflow:Loading image /Users/niklas/Projects/GestureRecognition/Custom_Model/rps_data_sample/drag/35.jpg\n"
          ]
        },
        {
          "name": "stderr",
          "output_type": "stream",
          "text": [
            "INFO:tensorflow:Loading image /Users/niklas/Projects/GestureRecognition/Custom_Model/rps_data_sample/drag/35.jpg\n"
          ]
        },
        {
          "name": "stdout",
          "output_type": "stream",
          "text": [
            "INFO:tensorflow:Loading image /Users/niklas/Projects/GestureRecognition/Custom_Model/rps_data_sample/click/134.jpg\n"
          ]
        },
        {
          "name": "stderr",
          "output_type": "stream",
          "text": [
            "INFO:tensorflow:Loading image /Users/niklas/Projects/GestureRecognition/Custom_Model/rps_data_sample/click/134.jpg\n"
          ]
        },
        {
          "name": "stdout",
          "output_type": "stream",
          "text": [
            "INFO:tensorflow:Loading image /Users/niklas/Projects/GestureRecognition/Custom_Model/rps_data_sample/click/13.jpg\n"
          ]
        },
        {
          "name": "stderr",
          "output_type": "stream",
          "text": [
            "INFO:tensorflow:Loading image /Users/niklas/Projects/GestureRecognition/Custom_Model/rps_data_sample/click/13.jpg\n"
          ]
        },
        {
          "name": "stdout",
          "output_type": "stream",
          "text": [
            "INFO:tensorflow:Loading image /Users/niklas/Projects/GestureRecognition/Custom_Model/rps_data_sample/none/1663.jpg\n"
          ]
        },
        {
          "name": "stderr",
          "output_type": "stream",
          "text": [
            "INFO:tensorflow:Loading image /Users/niklas/Projects/GestureRecognition/Custom_Model/rps_data_sample/none/1663.jpg\n"
          ]
        },
        {
          "name": "stdout",
          "output_type": "stream",
          "text": [
            "INFO:tensorflow:Loading image /Users/niklas/Projects/GestureRecognition/Custom_Model/rps_data_sample/none/950.jpg\n"
          ]
        },
        {
          "name": "stderr",
          "output_type": "stream",
          "text": [
            "INFO:tensorflow:Loading image /Users/niklas/Projects/GestureRecognition/Custom_Model/rps_data_sample/none/950.jpg\n"
          ]
        },
        {
          "name": "stdout",
          "output_type": "stream",
          "text": [
            "INFO:tensorflow:Loading image /Users/niklas/Projects/GestureRecognition/Custom_Model/rps_data_sample/click/96.jpg\n"
          ]
        },
        {
          "name": "stderr",
          "output_type": "stream",
          "text": [
            "INFO:tensorflow:Loading image /Users/niklas/Projects/GestureRecognition/Custom_Model/rps_data_sample/click/96.jpg\n"
          ]
        },
        {
          "name": "stdout",
          "output_type": "stream",
          "text": [
            "INFO:tensorflow:Loading image /Users/niklas/Projects/GestureRecognition/Custom_Model/rps_data_sample/drag/166.jpg\n"
          ]
        },
        {
          "name": "stderr",
          "output_type": "stream",
          "text": [
            "INFO:tensorflow:Loading image /Users/niklas/Projects/GestureRecognition/Custom_Model/rps_data_sample/drag/166.jpg\n"
          ]
        },
        {
          "name": "stdout",
          "output_type": "stream",
          "text": [
            "INFO:tensorflow:Loading image /Users/niklas/Projects/GestureRecognition/Custom_Model/rps_data_sample/click/86.jpg\n"
          ]
        },
        {
          "name": "stderr",
          "output_type": "stream",
          "text": [
            "INFO:tensorflow:Loading image /Users/niklas/Projects/GestureRecognition/Custom_Model/rps_data_sample/click/86.jpg\n"
          ]
        },
        {
          "name": "stdout",
          "output_type": "stream",
          "text": [
            "INFO:tensorflow:Loading image /Users/niklas/Projects/GestureRecognition/Custom_Model/rps_data_sample/drag/191.jpg\n"
          ]
        },
        {
          "name": "stderr",
          "output_type": "stream",
          "text": [
            "INFO:tensorflow:Loading image /Users/niklas/Projects/GestureRecognition/Custom_Model/rps_data_sample/drag/191.jpg\n"
          ]
        },
        {
          "name": "stdout",
          "output_type": "stream",
          "text": [
            "INFO:tensorflow:Loading image /Users/niklas/Projects/GestureRecognition/Custom_Model/rps_data_sample/drag/37.jpg\n"
          ]
        },
        {
          "name": "stderr",
          "output_type": "stream",
          "text": [
            "INFO:tensorflow:Loading image /Users/niklas/Projects/GestureRecognition/Custom_Model/rps_data_sample/drag/37.jpg\n"
          ]
        },
        {
          "name": "stdout",
          "output_type": "stream",
          "text": [
            "INFO:tensorflow:Loading image /Users/niklas/Projects/GestureRecognition/Custom_Model/rps_data_sample/none/1101.jpg\n"
          ]
        },
        {
          "name": "stderr",
          "output_type": "stream",
          "text": [
            "INFO:tensorflow:Loading image /Users/niklas/Projects/GestureRecognition/Custom_Model/rps_data_sample/none/1101.jpg\n"
          ]
        },
        {
          "name": "stdout",
          "output_type": "stream",
          "text": [
            "INFO:tensorflow:Loading image /Users/niklas/Projects/GestureRecognition/Custom_Model/rps_data_sample/drag/152.jpg\n"
          ]
        },
        {
          "name": "stderr",
          "output_type": "stream",
          "text": [
            "INFO:tensorflow:Loading image /Users/niklas/Projects/GestureRecognition/Custom_Model/rps_data_sample/drag/152.jpg\n"
          ]
        },
        {
          "name": "stdout",
          "output_type": "stream",
          "text": [
            "INFO:tensorflow:Loading image /Users/niklas/Projects/GestureRecognition/Custom_Model/rps_data_sample/click/94.jpg\n"
          ]
        },
        {
          "name": "stderr",
          "output_type": "stream",
          "text": [
            "INFO:tensorflow:Loading image /Users/niklas/Projects/GestureRecognition/Custom_Model/rps_data_sample/click/94.jpg\n"
          ]
        },
        {
          "name": "stdout",
          "output_type": "stream",
          "text": [
            "INFO:tensorflow:Loading image /Users/niklas/Projects/GestureRecognition/Custom_Model/rps_data_sample/drag/67.jpg\n"
          ]
        },
        {
          "name": "stderr",
          "output_type": "stream",
          "text": [
            "INFO:tensorflow:Loading image /Users/niklas/Projects/GestureRecognition/Custom_Model/rps_data_sample/drag/67.jpg\n"
          ]
        },
        {
          "name": "stdout",
          "output_type": "stream",
          "text": [
            "INFO:tensorflow:Loading image /Users/niklas/Projects/GestureRecognition/Custom_Model/rps_data_sample/drag/111.jpg\n"
          ]
        },
        {
          "name": "stderr",
          "output_type": "stream",
          "text": [
            "INFO:tensorflow:Loading image /Users/niklas/Projects/GestureRecognition/Custom_Model/rps_data_sample/drag/111.jpg\n"
          ]
        },
        {
          "name": "stdout",
          "output_type": "stream",
          "text": [
            "INFO:tensorflow:Loading image /Users/niklas/Projects/GestureRecognition/Custom_Model/rps_data_sample/click/72.jpg\n"
          ]
        },
        {
          "name": "stderr",
          "output_type": "stream",
          "text": [
            "INFO:tensorflow:Loading image /Users/niklas/Projects/GestureRecognition/Custom_Model/rps_data_sample/click/72.jpg\n"
          ]
        },
        {
          "name": "stdout",
          "output_type": "stream",
          "text": [
            "INFO:tensorflow:Loading image /Users/niklas/Projects/GestureRecognition/Custom_Model/rps_data_sample/none/249.jpg\n"
          ]
        },
        {
          "name": "stderr",
          "output_type": "stream",
          "text": [
            "INFO:tensorflow:Loading image /Users/niklas/Projects/GestureRecognition/Custom_Model/rps_data_sample/none/249.jpg\n"
          ]
        },
        {
          "name": "stdout",
          "output_type": "stream",
          "text": [
            "INFO:tensorflow:Loading image /Users/niklas/Projects/GestureRecognition/Custom_Model/rps_data_sample/click/20.jpg\n"
          ]
        },
        {
          "name": "stderr",
          "output_type": "stream",
          "text": [
            "INFO:tensorflow:Loading image /Users/niklas/Projects/GestureRecognition/Custom_Model/rps_data_sample/click/20.jpg\n"
          ]
        },
        {
          "name": "stdout",
          "output_type": "stream",
          "text": [
            "INFO:tensorflow:Loading image /Users/niklas/Projects/GestureRecognition/Custom_Model/rps_data_sample/drag/47.jpg\n"
          ]
        },
        {
          "name": "stderr",
          "output_type": "stream",
          "text": [
            "INFO:tensorflow:Loading image /Users/niklas/Projects/GestureRecognition/Custom_Model/rps_data_sample/drag/47.jpg\n"
          ]
        },
        {
          "name": "stdout",
          "output_type": "stream",
          "text": [
            "INFO:tensorflow:Loading image /Users/niklas/Projects/GestureRecognition/Custom_Model/rps_data_sample/click/21.jpg\n"
          ]
        },
        {
          "name": "stderr",
          "output_type": "stream",
          "text": [
            "INFO:tensorflow:Loading image /Users/niklas/Projects/GestureRecognition/Custom_Model/rps_data_sample/click/21.jpg\n"
          ]
        },
        {
          "name": "stdout",
          "output_type": "stream",
          "text": [
            "INFO:tensorflow:Loading image /Users/niklas/Projects/GestureRecognition/Custom_Model/rps_data_sample/drag/174.jpg\n"
          ]
        },
        {
          "name": "stderr",
          "output_type": "stream",
          "text": [
            "INFO:tensorflow:Loading image /Users/niklas/Projects/GestureRecognition/Custom_Model/rps_data_sample/drag/174.jpg\n"
          ]
        },
        {
          "name": "stdout",
          "output_type": "stream",
          "text": [
            "INFO:tensorflow:Loading image /Users/niklas/Projects/GestureRecognition/Custom_Model/rps_data_sample/drag/170.jpg\n"
          ]
        },
        {
          "name": "stderr",
          "output_type": "stream",
          "text": [
            "INFO:tensorflow:Loading image /Users/niklas/Projects/GestureRecognition/Custom_Model/rps_data_sample/drag/170.jpg\n"
          ]
        },
        {
          "name": "stdout",
          "output_type": "stream",
          "text": [
            "INFO:tensorflow:Loading image /Users/niklas/Projects/GestureRecognition/Custom_Model/rps_data_sample/click/108.jpg\n"
          ]
        },
        {
          "name": "stderr",
          "output_type": "stream",
          "text": [
            "INFO:tensorflow:Loading image /Users/niklas/Projects/GestureRecognition/Custom_Model/rps_data_sample/click/108.jpg\n"
          ]
        },
        {
          "name": "stdout",
          "output_type": "stream",
          "text": [
            "INFO:tensorflow:Loading image /Users/niklas/Projects/GestureRecognition/Custom_Model/rps_data_sample/drag/118.jpg\n"
          ]
        },
        {
          "name": "stderr",
          "output_type": "stream",
          "text": [
            "INFO:tensorflow:Loading image /Users/niklas/Projects/GestureRecognition/Custom_Model/rps_data_sample/drag/118.jpg\n"
          ]
        },
        {
          "name": "stdout",
          "output_type": "stream",
          "text": [
            "INFO:tensorflow:Loading image /Users/niklas/Projects/GestureRecognition/Custom_Model/rps_data_sample/drag/18.jpg\n"
          ]
        },
        {
          "name": "stderr",
          "output_type": "stream",
          "text": [
            "INFO:tensorflow:Loading image /Users/niklas/Projects/GestureRecognition/Custom_Model/rps_data_sample/drag/18.jpg\n"
          ]
        },
        {
          "name": "stdout",
          "output_type": "stream",
          "text": [
            "INFO:tensorflow:Loading image /Users/niklas/Projects/GestureRecognition/Custom_Model/rps_data_sample/none/252.jpg\n"
          ]
        },
        {
          "name": "stderr",
          "output_type": "stream",
          "text": [
            "INFO:tensorflow:Loading image /Users/niklas/Projects/GestureRecognition/Custom_Model/rps_data_sample/none/252.jpg\n"
          ]
        },
        {
          "name": "stdout",
          "output_type": "stream",
          "text": [
            "INFO:tensorflow:Loading image /Users/niklas/Projects/GestureRecognition/Custom_Model/rps_data_sample/drag/48.jpg\n"
          ]
        },
        {
          "name": "stderr",
          "output_type": "stream",
          "text": [
            "INFO:tensorflow:Loading image /Users/niklas/Projects/GestureRecognition/Custom_Model/rps_data_sample/drag/48.jpg\n"
          ]
        },
        {
          "name": "stdout",
          "output_type": "stream",
          "text": [
            "INFO:tensorflow:Loading image /Users/niklas/Projects/GestureRecognition/Custom_Model/rps_data_sample/drag/39.jpg\n"
          ]
        },
        {
          "name": "stderr",
          "output_type": "stream",
          "text": [
            "INFO:tensorflow:Loading image /Users/niklas/Projects/GestureRecognition/Custom_Model/rps_data_sample/drag/39.jpg\n"
          ]
        },
        {
          "name": "stdout",
          "output_type": "stream",
          "text": [
            "INFO:tensorflow:Loading image /Users/niklas/Projects/GestureRecognition/Custom_Model/rps_data_sample/drag/153.jpg\n"
          ]
        },
        {
          "name": "stderr",
          "output_type": "stream",
          "text": [
            "INFO:tensorflow:Loading image /Users/niklas/Projects/GestureRecognition/Custom_Model/rps_data_sample/drag/153.jpg\n"
          ]
        },
        {
          "name": "stdout",
          "output_type": "stream",
          "text": [
            "INFO:tensorflow:Loading image /Users/niklas/Projects/GestureRecognition/Custom_Model/rps_data_sample/drag/46.jpg\n"
          ]
        },
        {
          "name": "stderr",
          "output_type": "stream",
          "text": [
            "INFO:tensorflow:Loading image /Users/niklas/Projects/GestureRecognition/Custom_Model/rps_data_sample/drag/46.jpg\n"
          ]
        },
        {
          "name": "stdout",
          "output_type": "stream",
          "text": [
            "INFO:tensorflow:Loading image /Users/niklas/Projects/GestureRecognition/Custom_Model/rps_data_sample/none/1446.jpg\n"
          ]
        },
        {
          "name": "stderr",
          "output_type": "stream",
          "text": [
            "INFO:tensorflow:Loading image /Users/niklas/Projects/GestureRecognition/Custom_Model/rps_data_sample/none/1446.jpg\n"
          ]
        },
        {
          "name": "stdout",
          "output_type": "stream",
          "text": [
            "INFO:tensorflow:Loading image /Users/niklas/Projects/GestureRecognition/Custom_Model/rps_data_sample/drag/72.jpg\n"
          ]
        },
        {
          "name": "stderr",
          "output_type": "stream",
          "text": [
            "INFO:tensorflow:Loading image /Users/niklas/Projects/GestureRecognition/Custom_Model/rps_data_sample/drag/72.jpg\n"
          ]
        },
        {
          "name": "stdout",
          "output_type": "stream",
          "text": [
            "INFO:tensorflow:Loading image /Users/niklas/Projects/GestureRecognition/Custom_Model/rps_data_sample/drag/87.jpg\n"
          ]
        },
        {
          "name": "stderr",
          "output_type": "stream",
          "text": [
            "INFO:tensorflow:Loading image /Users/niklas/Projects/GestureRecognition/Custom_Model/rps_data_sample/drag/87.jpg\n"
          ]
        },
        {
          "name": "stdout",
          "output_type": "stream",
          "text": [
            "INFO:tensorflow:Loading image /Users/niklas/Projects/GestureRecognition/Custom_Model/rps_data_sample/click/137.jpg\n"
          ]
        },
        {
          "name": "stderr",
          "output_type": "stream",
          "text": [
            "INFO:tensorflow:Loading image /Users/niklas/Projects/GestureRecognition/Custom_Model/rps_data_sample/click/137.jpg\n"
          ]
        },
        {
          "name": "stdout",
          "output_type": "stream",
          "text": [
            "INFO:tensorflow:Loading image /Users/niklas/Projects/GestureRecognition/Custom_Model/rps_data_sample/click/56.jpg\n"
          ]
        },
        {
          "name": "stderr",
          "output_type": "stream",
          "text": [
            "INFO:tensorflow:Loading image /Users/niklas/Projects/GestureRecognition/Custom_Model/rps_data_sample/click/56.jpg\n"
          ]
        },
        {
          "name": "stdout",
          "output_type": "stream",
          "text": [
            "INFO:tensorflow:Loading image /Users/niklas/Projects/GestureRecognition/Custom_Model/rps_data_sample/click/53.jpg\n"
          ]
        },
        {
          "name": "stderr",
          "output_type": "stream",
          "text": [
            "INFO:tensorflow:Loading image /Users/niklas/Projects/GestureRecognition/Custom_Model/rps_data_sample/click/53.jpg\n"
          ]
        },
        {
          "name": "stdout",
          "output_type": "stream",
          "text": [
            "INFO:tensorflow:Loading image /Users/niklas/Projects/GestureRecognition/Custom_Model/rps_data_sample/click/5.jpg\n"
          ]
        },
        {
          "name": "stderr",
          "output_type": "stream",
          "text": [
            "INFO:tensorflow:Loading image /Users/niklas/Projects/GestureRecognition/Custom_Model/rps_data_sample/click/5.jpg\n"
          ]
        },
        {
          "name": "stdout",
          "output_type": "stream",
          "text": [
            "INFO:tensorflow:Loading image /Users/niklas/Projects/GestureRecognition/Custom_Model/rps_data_sample/click/151.jpg\n"
          ]
        },
        {
          "name": "stderr",
          "output_type": "stream",
          "text": [
            "INFO:tensorflow:Loading image /Users/niklas/Projects/GestureRecognition/Custom_Model/rps_data_sample/click/151.jpg\n"
          ]
        },
        {
          "name": "stdout",
          "output_type": "stream",
          "text": [
            "INFO:tensorflow:Loading image /Users/niklas/Projects/GestureRecognition/Custom_Model/rps_data_sample/drag/38.jpg\n"
          ]
        },
        {
          "name": "stderr",
          "output_type": "stream",
          "text": [
            "INFO:tensorflow:Loading image /Users/niklas/Projects/GestureRecognition/Custom_Model/rps_data_sample/drag/38.jpg\n"
          ]
        },
        {
          "name": "stdout",
          "output_type": "stream",
          "text": [
            "INFO:tensorflow:Loading image /Users/niklas/Projects/GestureRecognition/Custom_Model/rps_data_sample/click/191.jpg\n"
          ]
        },
        {
          "name": "stderr",
          "output_type": "stream",
          "text": [
            "INFO:tensorflow:Loading image /Users/niklas/Projects/GestureRecognition/Custom_Model/rps_data_sample/click/191.jpg\n"
          ]
        },
        {
          "name": "stdout",
          "output_type": "stream",
          "text": [
            "INFO:tensorflow:Loading image /Users/niklas/Projects/GestureRecognition/Custom_Model/rps_data_sample/click/26.jpg\n"
          ]
        },
        {
          "name": "stderr",
          "output_type": "stream",
          "text": [
            "INFO:tensorflow:Loading image /Users/niklas/Projects/GestureRecognition/Custom_Model/rps_data_sample/click/26.jpg\n"
          ]
        },
        {
          "name": "stdout",
          "output_type": "stream",
          "text": [
            "INFO:tensorflow:Loading image /Users/niklas/Projects/GestureRecognition/Custom_Model/rps_data_sample/click/59.jpg\n"
          ]
        },
        {
          "name": "stderr",
          "output_type": "stream",
          "text": [
            "INFO:tensorflow:Loading image /Users/niklas/Projects/GestureRecognition/Custom_Model/rps_data_sample/click/59.jpg\n"
          ]
        },
        {
          "name": "stdout",
          "output_type": "stream",
          "text": [
            "INFO:tensorflow:Loading image /Users/niklas/Projects/GestureRecognition/Custom_Model/rps_data_sample/none/57.jpg\n"
          ]
        },
        {
          "name": "stderr",
          "output_type": "stream",
          "text": [
            "INFO:tensorflow:Loading image /Users/niklas/Projects/GestureRecognition/Custom_Model/rps_data_sample/none/57.jpg\n"
          ]
        },
        {
          "name": "stdout",
          "output_type": "stream",
          "text": [
            "INFO:tensorflow:Loading image /Users/niklas/Projects/GestureRecognition/Custom_Model/rps_data_sample/drag/119.jpg\n"
          ]
        },
        {
          "name": "stderr",
          "output_type": "stream",
          "text": [
            "INFO:tensorflow:Loading image /Users/niklas/Projects/GestureRecognition/Custom_Model/rps_data_sample/drag/119.jpg\n"
          ]
        },
        {
          "name": "stdout",
          "output_type": "stream",
          "text": [
            "INFO:tensorflow:Loading image /Users/niklas/Projects/GestureRecognition/Custom_Model/rps_data_sample/click/169.jpg\n"
          ]
        },
        {
          "name": "stderr",
          "output_type": "stream",
          "text": [
            "INFO:tensorflow:Loading image /Users/niklas/Projects/GestureRecognition/Custom_Model/rps_data_sample/click/169.jpg\n"
          ]
        },
        {
          "name": "stdout",
          "output_type": "stream",
          "text": [
            "INFO:tensorflow:Loading image /Users/niklas/Projects/GestureRecognition/Custom_Model/rps_data_sample/none/60.jpg\n"
          ]
        },
        {
          "name": "stderr",
          "output_type": "stream",
          "text": [
            "INFO:tensorflow:Loading image /Users/niklas/Projects/GestureRecognition/Custom_Model/rps_data_sample/none/60.jpg\n"
          ]
        },
        {
          "name": "stdout",
          "output_type": "stream",
          "text": [
            "INFO:tensorflow:Loading image /Users/niklas/Projects/GestureRecognition/Custom_Model/rps_data_sample/none/213.jpg\n"
          ]
        },
        {
          "name": "stderr",
          "output_type": "stream",
          "text": [
            "INFO:tensorflow:Loading image /Users/niklas/Projects/GestureRecognition/Custom_Model/rps_data_sample/none/213.jpg\n"
          ]
        },
        {
          "name": "stdout",
          "output_type": "stream",
          "text": [
            "INFO:tensorflow:Loading image /Users/niklas/Projects/GestureRecognition/Custom_Model/rps_data_sample/drag/4.jpg\n"
          ]
        },
        {
          "name": "stderr",
          "output_type": "stream",
          "text": [
            "INFO:tensorflow:Loading image /Users/niklas/Projects/GestureRecognition/Custom_Model/rps_data_sample/drag/4.jpg\n"
          ]
        },
        {
          "name": "stdout",
          "output_type": "stream",
          "text": [
            "INFO:tensorflow:Loading image /Users/niklas/Projects/GestureRecognition/Custom_Model/rps_data_sample/drag/114.jpg\n"
          ]
        },
        {
          "name": "stderr",
          "output_type": "stream",
          "text": [
            "INFO:tensorflow:Loading image /Users/niklas/Projects/GestureRecognition/Custom_Model/rps_data_sample/drag/114.jpg\n"
          ]
        },
        {
          "name": "stdout",
          "output_type": "stream",
          "text": [
            "INFO:tensorflow:Loading image /Users/niklas/Projects/GestureRecognition/Custom_Model/rps_data_sample/click/131.jpg\n"
          ]
        },
        {
          "name": "stderr",
          "output_type": "stream",
          "text": [
            "INFO:tensorflow:Loading image /Users/niklas/Projects/GestureRecognition/Custom_Model/rps_data_sample/click/131.jpg\n"
          ]
        },
        {
          "name": "stdout",
          "output_type": "stream",
          "text": [
            "INFO:tensorflow:Loading image /Users/niklas/Projects/GestureRecognition/Custom_Model/rps_data_sample/click/67.jpg\n"
          ]
        },
        {
          "name": "stderr",
          "output_type": "stream",
          "text": [
            "INFO:tensorflow:Loading image /Users/niklas/Projects/GestureRecognition/Custom_Model/rps_data_sample/click/67.jpg\n"
          ]
        },
        {
          "name": "stdout",
          "output_type": "stream",
          "text": [
            "INFO:tensorflow:Loading image /Users/niklas/Projects/GestureRecognition/Custom_Model/rps_data_sample/none/239.jpg\n"
          ]
        },
        {
          "name": "stderr",
          "output_type": "stream",
          "text": [
            "INFO:tensorflow:Loading image /Users/niklas/Projects/GestureRecognition/Custom_Model/rps_data_sample/none/239.jpg\n"
          ]
        },
        {
          "name": "stdout",
          "output_type": "stream",
          "text": [
            "INFO:tensorflow:Loading image /Users/niklas/Projects/GestureRecognition/Custom_Model/rps_data_sample/drag/40.jpg\n"
          ]
        },
        {
          "name": "stderr",
          "output_type": "stream",
          "text": [
            "INFO:tensorflow:Loading image /Users/niklas/Projects/GestureRecognition/Custom_Model/rps_data_sample/drag/40.jpg\n"
          ]
        },
        {
          "name": "stdout",
          "output_type": "stream",
          "text": [
            "INFO:tensorflow:Loading image /Users/niklas/Projects/GestureRecognition/Custom_Model/rps_data_sample/none/1784.jpg\n"
          ]
        },
        {
          "name": "stderr",
          "output_type": "stream",
          "text": [
            "INFO:tensorflow:Loading image /Users/niklas/Projects/GestureRecognition/Custom_Model/rps_data_sample/none/1784.jpg\n"
          ]
        },
        {
          "name": "stdout",
          "output_type": "stream",
          "text": [
            "INFO:tensorflow:Loading image /Users/niklas/Projects/GestureRecognition/Custom_Model/rps_data_sample/click/190.jpg\n"
          ]
        },
        {
          "name": "stderr",
          "output_type": "stream",
          "text": [
            "INFO:tensorflow:Loading image /Users/niklas/Projects/GestureRecognition/Custom_Model/rps_data_sample/click/190.jpg\n"
          ]
        },
        {
          "name": "stdout",
          "output_type": "stream",
          "text": [
            "INFO:tensorflow:Loading image /Users/niklas/Projects/GestureRecognition/Custom_Model/rps_data_sample/none/1729.jpg\n"
          ]
        },
        {
          "name": "stderr",
          "output_type": "stream",
          "text": [
            "INFO:tensorflow:Loading image /Users/niklas/Projects/GestureRecognition/Custom_Model/rps_data_sample/none/1729.jpg\n"
          ]
        },
        {
          "name": "stdout",
          "output_type": "stream",
          "text": [
            "INFO:tensorflow:Loading image /Users/niklas/Projects/GestureRecognition/Custom_Model/rps_data_sample/click/217.jpg\n"
          ]
        },
        {
          "name": "stderr",
          "output_type": "stream",
          "text": [
            "INFO:tensorflow:Loading image /Users/niklas/Projects/GestureRecognition/Custom_Model/rps_data_sample/click/217.jpg\n"
          ]
        },
        {
          "name": "stdout",
          "output_type": "stream",
          "text": [
            "INFO:tensorflow:Loading image /Users/niklas/Projects/GestureRecognition/Custom_Model/rps_data_sample/none/1878.jpg\n"
          ]
        },
        {
          "name": "stderr",
          "output_type": "stream",
          "text": [
            "INFO:tensorflow:Loading image /Users/niklas/Projects/GestureRecognition/Custom_Model/rps_data_sample/none/1878.jpg\n"
          ]
        },
        {
          "name": "stdout",
          "output_type": "stream",
          "text": [
            "INFO:tensorflow:Loading image /Users/niklas/Projects/GestureRecognition/Custom_Model/rps_data_sample/drag/36.jpg\n"
          ]
        },
        {
          "name": "stderr",
          "output_type": "stream",
          "text": [
            "INFO:tensorflow:Loading image /Users/niklas/Projects/GestureRecognition/Custom_Model/rps_data_sample/drag/36.jpg\n"
          ]
        },
        {
          "name": "stdout",
          "output_type": "stream",
          "text": [
            "INFO:tensorflow:Loading image /Users/niklas/Projects/GestureRecognition/Custom_Model/rps_data_sample/drag/123.jpg\n"
          ]
        },
        {
          "name": "stderr",
          "output_type": "stream",
          "text": [
            "INFO:tensorflow:Loading image /Users/niklas/Projects/GestureRecognition/Custom_Model/rps_data_sample/drag/123.jpg\n"
          ]
        },
        {
          "name": "stdout",
          "output_type": "stream",
          "text": [
            "INFO:tensorflow:Loading image /Users/niklas/Projects/GestureRecognition/Custom_Model/rps_data_sample/click/206.jpg\n"
          ]
        },
        {
          "name": "stderr",
          "output_type": "stream",
          "text": [
            "INFO:tensorflow:Loading image /Users/niklas/Projects/GestureRecognition/Custom_Model/rps_data_sample/click/206.jpg\n"
          ]
        },
        {
          "name": "stdout",
          "output_type": "stream",
          "text": [
            "INFO:tensorflow:Loading image /Users/niklas/Projects/GestureRecognition/Custom_Model/rps_data_sample/click/165.jpg\n"
          ]
        },
        {
          "name": "stderr",
          "output_type": "stream",
          "text": [
            "INFO:tensorflow:Loading image /Users/niklas/Projects/GestureRecognition/Custom_Model/rps_data_sample/click/165.jpg\n"
          ]
        },
        {
          "name": "stdout",
          "output_type": "stream",
          "text": [
            "INFO:tensorflow:Loading image /Users/niklas/Projects/GestureRecognition/Custom_Model/rps_data_sample/drag/194.jpg\n"
          ]
        },
        {
          "name": "stderr",
          "output_type": "stream",
          "text": [
            "INFO:tensorflow:Loading image /Users/niklas/Projects/GestureRecognition/Custom_Model/rps_data_sample/drag/194.jpg\n"
          ]
        },
        {
          "name": "stdout",
          "output_type": "stream",
          "text": [
            "INFO:tensorflow:Loading image /Users/niklas/Projects/GestureRecognition/Custom_Model/rps_data_sample/drag/7.jpg\n"
          ]
        },
        {
          "name": "stderr",
          "output_type": "stream",
          "text": [
            "INFO:tensorflow:Loading image /Users/niklas/Projects/GestureRecognition/Custom_Model/rps_data_sample/drag/7.jpg\n"
          ]
        },
        {
          "name": "stdout",
          "output_type": "stream",
          "text": [
            "INFO:tensorflow:Loading image /Users/niklas/Projects/GestureRecognition/Custom_Model/rps_data_sample/click/104.jpg\n"
          ]
        },
        {
          "name": "stderr",
          "output_type": "stream",
          "text": [
            "INFO:tensorflow:Loading image /Users/niklas/Projects/GestureRecognition/Custom_Model/rps_data_sample/click/104.jpg\n"
          ]
        },
        {
          "name": "stdout",
          "output_type": "stream",
          "text": [
            "INFO:tensorflow:Loading image /Users/niklas/Projects/GestureRecognition/Custom_Model/rps_data_sample/click/117.jpg\n"
          ]
        },
        {
          "name": "stderr",
          "output_type": "stream",
          "text": [
            "INFO:tensorflow:Loading image /Users/niklas/Projects/GestureRecognition/Custom_Model/rps_data_sample/click/117.jpg\n"
          ]
        },
        {
          "name": "stdout",
          "output_type": "stream",
          "text": [
            "INFO:tensorflow:Loading image /Users/niklas/Projects/GestureRecognition/Custom_Model/rps_data_sample/click/160.jpg\n"
          ]
        },
        {
          "name": "stderr",
          "output_type": "stream",
          "text": [
            "INFO:tensorflow:Loading image /Users/niklas/Projects/GestureRecognition/Custom_Model/rps_data_sample/click/160.jpg\n"
          ]
        },
        {
          "name": "stdout",
          "output_type": "stream",
          "text": [
            "INFO:tensorflow:Loading image /Users/niklas/Projects/GestureRecognition/Custom_Model/rps_data_sample/click/14.jpg\n"
          ]
        },
        {
          "name": "stderr",
          "output_type": "stream",
          "text": [
            "INFO:tensorflow:Loading image /Users/niklas/Projects/GestureRecognition/Custom_Model/rps_data_sample/click/14.jpg\n"
          ]
        },
        {
          "name": "stdout",
          "output_type": "stream",
          "text": [
            "INFO:tensorflow:Loading image /Users/niklas/Projects/GestureRecognition/Custom_Model/rps_data_sample/drag/49.jpg\n"
          ]
        },
        {
          "name": "stderr",
          "output_type": "stream",
          "text": [
            "INFO:tensorflow:Loading image /Users/niklas/Projects/GestureRecognition/Custom_Model/rps_data_sample/drag/49.jpg\n"
          ]
        },
        {
          "name": "stdout",
          "output_type": "stream",
          "text": [
            "INFO:tensorflow:Loading image /Users/niklas/Projects/GestureRecognition/Custom_Model/rps_data_sample/none/1890.jpg\n"
          ]
        },
        {
          "name": "stderr",
          "output_type": "stream",
          "text": [
            "INFO:tensorflow:Loading image /Users/niklas/Projects/GestureRecognition/Custom_Model/rps_data_sample/none/1890.jpg\n"
          ]
        },
        {
          "name": "stdout",
          "output_type": "stream",
          "text": [
            "INFO:tensorflow:Loading image /Users/niklas/Projects/GestureRecognition/Custom_Model/rps_data_sample/none/1119.jpg\n"
          ]
        },
        {
          "name": "stderr",
          "output_type": "stream",
          "text": [
            "INFO:tensorflow:Loading image /Users/niklas/Projects/GestureRecognition/Custom_Model/rps_data_sample/none/1119.jpg\n"
          ]
        },
        {
          "name": "stdout",
          "output_type": "stream",
          "text": [
            "INFO:tensorflow:Loading image /Users/niklas/Projects/GestureRecognition/Custom_Model/rps_data_sample/drag/120.jpg\n"
          ]
        },
        {
          "name": "stderr",
          "output_type": "stream",
          "text": [
            "INFO:tensorflow:Loading image /Users/niklas/Projects/GestureRecognition/Custom_Model/rps_data_sample/drag/120.jpg\n"
          ]
        },
        {
          "name": "stdout",
          "output_type": "stream",
          "text": [
            "INFO:tensorflow:Loading image /Users/niklas/Projects/GestureRecognition/Custom_Model/rps_data_sample/click/195.jpg\n"
          ]
        },
        {
          "name": "stderr",
          "output_type": "stream",
          "text": [
            "INFO:tensorflow:Loading image /Users/niklas/Projects/GestureRecognition/Custom_Model/rps_data_sample/click/195.jpg\n"
          ]
        },
        {
          "name": "stdout",
          "output_type": "stream",
          "text": [
            "INFO:tensorflow:Loading image /Users/niklas/Projects/GestureRecognition/Custom_Model/rps_data_sample/none/433.jpg\n"
          ]
        },
        {
          "name": "stderr",
          "output_type": "stream",
          "text": [
            "INFO:tensorflow:Loading image /Users/niklas/Projects/GestureRecognition/Custom_Model/rps_data_sample/none/433.jpg\n"
          ]
        },
        {
          "name": "stdout",
          "output_type": "stream",
          "text": [
            "INFO:tensorflow:Loading image /Users/niklas/Projects/GestureRecognition/Custom_Model/rps_data_sample/click/45.jpg\n"
          ]
        },
        {
          "name": "stderr",
          "output_type": "stream",
          "text": [
            "INFO:tensorflow:Loading image /Users/niklas/Projects/GestureRecognition/Custom_Model/rps_data_sample/click/45.jpg\n"
          ]
        },
        {
          "name": "stdout",
          "output_type": "stream",
          "text": [
            "INFO:tensorflow:Loading image /Users/niklas/Projects/GestureRecognition/Custom_Model/rps_data_sample/drag/139.jpg\n"
          ]
        },
        {
          "name": "stderr",
          "output_type": "stream",
          "text": [
            "INFO:tensorflow:Loading image /Users/niklas/Projects/GestureRecognition/Custom_Model/rps_data_sample/drag/139.jpg\n"
          ]
        },
        {
          "name": "stdout",
          "output_type": "stream",
          "text": [
            "INFO:tensorflow:Loading image /Users/niklas/Projects/GestureRecognition/Custom_Model/rps_data_sample/click/11.jpg\n"
          ]
        },
        {
          "name": "stderr",
          "output_type": "stream",
          "text": [
            "INFO:tensorflow:Loading image /Users/niklas/Projects/GestureRecognition/Custom_Model/rps_data_sample/click/11.jpg\n"
          ]
        },
        {
          "name": "stdout",
          "output_type": "stream",
          "text": [
            "INFO:tensorflow:Loading image /Users/niklas/Projects/GestureRecognition/Custom_Model/rps_data_sample/click/78.jpg\n"
          ]
        },
        {
          "name": "stderr",
          "output_type": "stream",
          "text": [
            "INFO:tensorflow:Loading image /Users/niklas/Projects/GestureRecognition/Custom_Model/rps_data_sample/click/78.jpg\n"
          ]
        },
        {
          "name": "stdout",
          "output_type": "stream",
          "text": [
            "INFO:tensorflow:Loading image /Users/niklas/Projects/GestureRecognition/Custom_Model/rps_data_sample/drag/26.jpg\n"
          ]
        },
        {
          "name": "stderr",
          "output_type": "stream",
          "text": [
            "INFO:tensorflow:Loading image /Users/niklas/Projects/GestureRecognition/Custom_Model/rps_data_sample/drag/26.jpg\n"
          ]
        },
        {
          "name": "stdout",
          "output_type": "stream",
          "text": [
            "INFO:tensorflow:Loading image /Users/niklas/Projects/GestureRecognition/Custom_Model/rps_data_sample/drag/162.jpg\n"
          ]
        },
        {
          "name": "stderr",
          "output_type": "stream",
          "text": [
            "INFO:tensorflow:Loading image /Users/niklas/Projects/GestureRecognition/Custom_Model/rps_data_sample/drag/162.jpg\n"
          ]
        },
        {
          "name": "stdout",
          "output_type": "stream",
          "text": [
            "INFO:tensorflow:Loading image /Users/niklas/Projects/GestureRecognition/Custom_Model/rps_data_sample/click/109.jpg\n"
          ]
        },
        {
          "name": "stderr",
          "output_type": "stream",
          "text": [
            "INFO:tensorflow:Loading image /Users/niklas/Projects/GestureRecognition/Custom_Model/rps_data_sample/click/109.jpg\n"
          ]
        },
        {
          "name": "stdout",
          "output_type": "stream",
          "text": [
            "INFO:tensorflow:Loading image /Users/niklas/Projects/GestureRecognition/Custom_Model/rps_data_sample/drag/75.jpg\n"
          ]
        },
        {
          "name": "stderr",
          "output_type": "stream",
          "text": [
            "INFO:tensorflow:Loading image /Users/niklas/Projects/GestureRecognition/Custom_Model/rps_data_sample/drag/75.jpg\n"
          ]
        },
        {
          "name": "stdout",
          "output_type": "stream",
          "text": [
            "INFO:tensorflow:Loading image /Users/niklas/Projects/GestureRecognition/Custom_Model/rps_data_sample/none/1033.jpg\n"
          ]
        },
        {
          "name": "stderr",
          "output_type": "stream",
          "text": [
            "INFO:tensorflow:Loading image /Users/niklas/Projects/GestureRecognition/Custom_Model/rps_data_sample/none/1033.jpg\n"
          ]
        },
        {
          "name": "stdout",
          "output_type": "stream",
          "text": [
            "INFO:tensorflow:Loading image /Users/niklas/Projects/GestureRecognition/Custom_Model/rps_data_sample/none/1747.jpg\n"
          ]
        },
        {
          "name": "stderr",
          "output_type": "stream",
          "text": [
            "INFO:tensorflow:Loading image /Users/niklas/Projects/GestureRecognition/Custom_Model/rps_data_sample/none/1747.jpg\n"
          ]
        },
        {
          "name": "stdout",
          "output_type": "stream",
          "text": [
            "INFO:tensorflow:Loading image /Users/niklas/Projects/GestureRecognition/Custom_Model/rps_data_sample/drag/41.jpg\n"
          ]
        },
        {
          "name": "stderr",
          "output_type": "stream",
          "text": [
            "INFO:tensorflow:Loading image /Users/niklas/Projects/GestureRecognition/Custom_Model/rps_data_sample/drag/41.jpg\n"
          ]
        },
        {
          "name": "stdout",
          "output_type": "stream",
          "text": [
            "INFO:tensorflow:Loading image /Users/niklas/Projects/GestureRecognition/Custom_Model/rps_data_sample/drag/14.jpg\n"
          ]
        },
        {
          "name": "stderr",
          "output_type": "stream",
          "text": [
            "INFO:tensorflow:Loading image /Users/niklas/Projects/GestureRecognition/Custom_Model/rps_data_sample/drag/14.jpg\n"
          ]
        },
        {
          "name": "stdout",
          "output_type": "stream",
          "text": [
            "INFO:tensorflow:Loading image /Users/niklas/Projects/GestureRecognition/Custom_Model/rps_data_sample/click/112.jpg\n"
          ]
        },
        {
          "name": "stderr",
          "output_type": "stream",
          "text": [
            "INFO:tensorflow:Loading image /Users/niklas/Projects/GestureRecognition/Custom_Model/rps_data_sample/click/112.jpg\n"
          ]
        },
        {
          "name": "stdout",
          "output_type": "stream",
          "text": [
            "INFO:tensorflow:Loading image /Users/niklas/Projects/GestureRecognition/Custom_Model/rps_data_sample/drag/168.jpg\n"
          ]
        },
        {
          "name": "stderr",
          "output_type": "stream",
          "text": [
            "INFO:tensorflow:Loading image /Users/niklas/Projects/GestureRecognition/Custom_Model/rps_data_sample/drag/168.jpg\n"
          ]
        },
        {
          "name": "stdout",
          "output_type": "stream",
          "text": [
            "INFO:tensorflow:Loading image /Users/niklas/Projects/GestureRecognition/Custom_Model/rps_data_sample/drag/109.jpg\n"
          ]
        },
        {
          "name": "stderr",
          "output_type": "stream",
          "text": [
            "INFO:tensorflow:Loading image /Users/niklas/Projects/GestureRecognition/Custom_Model/rps_data_sample/drag/109.jpg\n"
          ]
        },
        {
          "name": "stdout",
          "output_type": "stream",
          "text": [
            "INFO:tensorflow:Loading image /Users/niklas/Projects/GestureRecognition/Custom_Model/rps_data_sample/click/130.jpg\n"
          ]
        },
        {
          "name": "stderr",
          "output_type": "stream",
          "text": [
            "INFO:tensorflow:Loading image /Users/niklas/Projects/GestureRecognition/Custom_Model/rps_data_sample/click/130.jpg\n"
          ]
        },
        {
          "name": "stdout",
          "output_type": "stream",
          "text": [
            "INFO:tensorflow:Loading image /Users/niklas/Projects/GestureRecognition/Custom_Model/rps_data_sample/none/32.jpg\n"
          ]
        },
        {
          "name": "stderr",
          "output_type": "stream",
          "text": [
            "INFO:tensorflow:Loading image /Users/niklas/Projects/GestureRecognition/Custom_Model/rps_data_sample/none/32.jpg\n"
          ]
        },
        {
          "name": "stdout",
          "output_type": "stream",
          "text": [
            "INFO:tensorflow:Loading image /Users/niklas/Projects/GestureRecognition/Custom_Model/rps_data_sample/drag/138.jpg\n"
          ]
        },
        {
          "name": "stderr",
          "output_type": "stream",
          "text": [
            "INFO:tensorflow:Loading image /Users/niklas/Projects/GestureRecognition/Custom_Model/rps_data_sample/drag/138.jpg\n"
          ]
        },
        {
          "name": "stdout",
          "output_type": "stream",
          "text": [
            "INFO:tensorflow:Loading image /Users/niklas/Projects/GestureRecognition/Custom_Model/rps_data_sample/none/1067.jpg\n"
          ]
        },
        {
          "name": "stderr",
          "output_type": "stream",
          "text": [
            "INFO:tensorflow:Loading image /Users/niklas/Projects/GestureRecognition/Custom_Model/rps_data_sample/none/1067.jpg\n"
          ]
        },
        {
          "name": "stdout",
          "output_type": "stream",
          "text": [
            "INFO:tensorflow:Loading image /Users/niklas/Projects/GestureRecognition/Custom_Model/rps_data_sample/click/68.jpg\n"
          ]
        },
        {
          "name": "stderr",
          "output_type": "stream",
          "text": [
            "INFO:tensorflow:Loading image /Users/niklas/Projects/GestureRecognition/Custom_Model/rps_data_sample/click/68.jpg\n"
          ]
        },
        {
          "name": "stdout",
          "output_type": "stream",
          "text": [
            "INFO:tensorflow:Loading image /Users/niklas/Projects/GestureRecognition/Custom_Model/rps_data_sample/click/95.jpg\n"
          ]
        },
        {
          "name": "stderr",
          "output_type": "stream",
          "text": [
            "INFO:tensorflow:Loading image /Users/niklas/Projects/GestureRecognition/Custom_Model/rps_data_sample/click/95.jpg\n"
          ]
        },
        {
          "name": "stdout",
          "output_type": "stream",
          "text": [
            "INFO:tensorflow:Loading image /Users/niklas/Projects/GestureRecognition/Custom_Model/rps_data_sample/none/1633.jpg\n"
          ]
        },
        {
          "name": "stderr",
          "output_type": "stream",
          "text": [
            "INFO:tensorflow:Loading image /Users/niklas/Projects/GestureRecognition/Custom_Model/rps_data_sample/none/1633.jpg\n"
          ]
        },
        {
          "name": "stdout",
          "output_type": "stream",
          "text": [
            "INFO:tensorflow:Loading image /Users/niklas/Projects/GestureRecognition/Custom_Model/rps_data_sample/none/1811.jpg\n"
          ]
        },
        {
          "name": "stderr",
          "output_type": "stream",
          "text": [
            "INFO:tensorflow:Loading image /Users/niklas/Projects/GestureRecognition/Custom_Model/rps_data_sample/none/1811.jpg\n"
          ]
        },
        {
          "name": "stdout",
          "output_type": "stream",
          "text": [
            "INFO:tensorflow:Loading image /Users/niklas/Projects/GestureRecognition/Custom_Model/rps_data_sample/drag/154.jpg\n"
          ]
        },
        {
          "name": "stderr",
          "output_type": "stream",
          "text": [
            "INFO:tensorflow:Loading image /Users/niklas/Projects/GestureRecognition/Custom_Model/rps_data_sample/drag/154.jpg\n"
          ]
        },
        {
          "name": "stdout",
          "output_type": "stream",
          "text": [
            "INFO:tensorflow:Loading image /Users/niklas/Projects/GestureRecognition/Custom_Model/rps_data_sample/click/57.jpg\n"
          ]
        },
        {
          "name": "stderr",
          "output_type": "stream",
          "text": [
            "INFO:tensorflow:Loading image /Users/niklas/Projects/GestureRecognition/Custom_Model/rps_data_sample/click/57.jpg\n"
          ]
        },
        {
          "name": "stdout",
          "output_type": "stream",
          "text": [
            "INFO:tensorflow:Loading image /Users/niklas/Projects/GestureRecognition/Custom_Model/rps_data_sample/click/42.jpg\n"
          ]
        },
        {
          "name": "stderr",
          "output_type": "stream",
          "text": [
            "INFO:tensorflow:Loading image /Users/niklas/Projects/GestureRecognition/Custom_Model/rps_data_sample/click/42.jpg\n"
          ]
        },
        {
          "name": "stdout",
          "output_type": "stream",
          "text": [
            "INFO:tensorflow:Loading image /Users/niklas/Projects/GestureRecognition/Custom_Model/rps_data_sample/drag/27.jpg\n"
          ]
        },
        {
          "name": "stderr",
          "output_type": "stream",
          "text": [
            "INFO:tensorflow:Loading image /Users/niklas/Projects/GestureRecognition/Custom_Model/rps_data_sample/drag/27.jpg\n"
          ]
        },
        {
          "name": "stdout",
          "output_type": "stream",
          "text": [
            "INFO:tensorflow:Loading image /Users/niklas/Projects/GestureRecognition/Custom_Model/rps_data_sample/none/511.jpg\n"
          ]
        },
        {
          "name": "stderr",
          "output_type": "stream",
          "text": [
            "INFO:tensorflow:Loading image /Users/niklas/Projects/GestureRecognition/Custom_Model/rps_data_sample/none/511.jpg\n"
          ]
        },
        {
          "name": "stdout",
          "output_type": "stream",
          "text": [
            "INFO:tensorflow:Loading image /Users/niklas/Projects/GestureRecognition/Custom_Model/rps_data_sample/click/43.jpg\n"
          ]
        },
        {
          "name": "stderr",
          "output_type": "stream",
          "text": [
            "INFO:tensorflow:Loading image /Users/niklas/Projects/GestureRecognition/Custom_Model/rps_data_sample/click/43.jpg\n"
          ]
        },
        {
          "name": "stdout",
          "output_type": "stream",
          "text": [
            "INFO:tensorflow:Loading image /Users/niklas/Projects/GestureRecognition/Custom_Model/rps_data_sample/drag/102.jpg\n"
          ]
        },
        {
          "name": "stderr",
          "output_type": "stream",
          "text": [
            "INFO:tensorflow:Loading image /Users/niklas/Projects/GestureRecognition/Custom_Model/rps_data_sample/drag/102.jpg\n"
          ]
        },
        {
          "name": "stdout",
          "output_type": "stream",
          "text": [
            "INFO:tensorflow:Loading image /Users/niklas/Projects/GestureRecognition/Custom_Model/rps_data_sample/none/756.jpg\n"
          ]
        },
        {
          "name": "stderr",
          "output_type": "stream",
          "text": [
            "INFO:tensorflow:Loading image /Users/niklas/Projects/GestureRecognition/Custom_Model/rps_data_sample/none/756.jpg\n"
          ]
        },
        {
          "name": "stdout",
          "output_type": "stream",
          "text": [
            "INFO:tensorflow:Loading image /Users/niklas/Projects/GestureRecognition/Custom_Model/rps_data_sample/click/18.jpg\n"
          ]
        },
        {
          "name": "stderr",
          "output_type": "stream",
          "text": [
            "INFO:tensorflow:Loading image /Users/niklas/Projects/GestureRecognition/Custom_Model/rps_data_sample/click/18.jpg\n"
          ]
        },
        {
          "name": "stdout",
          "output_type": "stream",
          "text": [
            "INFO:tensorflow:Loading image /Users/niklas/Projects/GestureRecognition/Custom_Model/rps_data_sample/drag/83.jpg\n"
          ]
        },
        {
          "name": "stderr",
          "output_type": "stream",
          "text": [
            "INFO:tensorflow:Loading image /Users/niklas/Projects/GestureRecognition/Custom_Model/rps_data_sample/drag/83.jpg\n"
          ]
        },
        {
          "name": "stdout",
          "output_type": "stream",
          "text": [
            "INFO:tensorflow:Loading image /Users/niklas/Projects/GestureRecognition/Custom_Model/rps_data_sample/drag/29.jpg\n"
          ]
        },
        {
          "name": "stderr",
          "output_type": "stream",
          "text": [
            "INFO:tensorflow:Loading image /Users/niklas/Projects/GestureRecognition/Custom_Model/rps_data_sample/drag/29.jpg\n"
          ]
        },
        {
          "name": "stdout",
          "output_type": "stream",
          "text": [
            "INFO:tensorflow:Loading image /Users/niklas/Projects/GestureRecognition/Custom_Model/rps_data_sample/click/51.jpg\n"
          ]
        },
        {
          "name": "stderr",
          "output_type": "stream",
          "text": [
            "INFO:tensorflow:Loading image /Users/niklas/Projects/GestureRecognition/Custom_Model/rps_data_sample/click/51.jpg\n"
          ]
        },
        {
          "name": "stdout",
          "output_type": "stream",
          "text": [
            "INFO:tensorflow:Loading image /Users/niklas/Projects/GestureRecognition/Custom_Model/rps_data_sample/none/71.jpg\n"
          ]
        },
        {
          "name": "stderr",
          "output_type": "stream",
          "text": [
            "INFO:tensorflow:Loading image /Users/niklas/Projects/GestureRecognition/Custom_Model/rps_data_sample/none/71.jpg\n"
          ]
        },
        {
          "name": "stdout",
          "output_type": "stream",
          "text": [
            "INFO:tensorflow:Loading image /Users/niklas/Projects/GestureRecognition/Custom_Model/rps_data_sample/drag/69.jpg\n"
          ]
        },
        {
          "name": "stderr",
          "output_type": "stream",
          "text": [
            "INFO:tensorflow:Loading image /Users/niklas/Projects/GestureRecognition/Custom_Model/rps_data_sample/drag/69.jpg\n"
          ]
        },
        {
          "name": "stdout",
          "output_type": "stream",
          "text": [
            "INFO:tensorflow:Loading image /Users/niklas/Projects/GestureRecognition/Custom_Model/rps_data_sample/drag/182.jpg\n"
          ]
        },
        {
          "name": "stderr",
          "output_type": "stream",
          "text": [
            "INFO:tensorflow:Loading image /Users/niklas/Projects/GestureRecognition/Custom_Model/rps_data_sample/drag/182.jpg\n"
          ]
        },
        {
          "name": "stdout",
          "output_type": "stream",
          "text": [
            "INFO:tensorflow:Loading image /Users/niklas/Projects/GestureRecognition/Custom_Model/rps_data_sample/click/207.jpg\n"
          ]
        },
        {
          "name": "stderr",
          "output_type": "stream",
          "text": [
            "INFO:tensorflow:Loading image /Users/niklas/Projects/GestureRecognition/Custom_Model/rps_data_sample/click/207.jpg\n"
          ]
        },
        {
          "name": "stdout",
          "output_type": "stream",
          "text": [
            "INFO:tensorflow:Loading image /Users/niklas/Projects/GestureRecognition/Custom_Model/rps_data_sample/drag/93.jpg\n"
          ]
        },
        {
          "name": "stderr",
          "output_type": "stream",
          "text": [
            "INFO:tensorflow:Loading image /Users/niklas/Projects/GestureRecognition/Custom_Model/rps_data_sample/drag/93.jpg\n"
          ]
        },
        {
          "name": "stdout",
          "output_type": "stream",
          "text": [
            "INFO:tensorflow:Loading image /Users/niklas/Projects/GestureRecognition/Custom_Model/rps_data_sample/drag/53.jpg\n"
          ]
        },
        {
          "name": "stderr",
          "output_type": "stream",
          "text": [
            "INFO:tensorflow:Loading image /Users/niklas/Projects/GestureRecognition/Custom_Model/rps_data_sample/drag/53.jpg\n"
          ]
        },
        {
          "name": "stdout",
          "output_type": "stream",
          "text": [
            "INFO:tensorflow:Loading image /Users/niklas/Projects/GestureRecognition/Custom_Model/rps_data_sample/drag/43.jpg\n"
          ]
        },
        {
          "name": "stderr",
          "output_type": "stream",
          "text": [
            "INFO:tensorflow:Loading image /Users/niklas/Projects/GestureRecognition/Custom_Model/rps_data_sample/drag/43.jpg\n"
          ]
        },
        {
          "name": "stdout",
          "output_type": "stream",
          "text": [
            "INFO:tensorflow:Loading image /Users/niklas/Projects/GestureRecognition/Custom_Model/rps_data_sample/click/65.jpg\n"
          ]
        },
        {
          "name": "stderr",
          "output_type": "stream",
          "text": [
            "INFO:tensorflow:Loading image /Users/niklas/Projects/GestureRecognition/Custom_Model/rps_data_sample/click/65.jpg\n"
          ]
        },
        {
          "name": "stdout",
          "output_type": "stream",
          "text": [
            "INFO:tensorflow:Loading image /Users/niklas/Projects/GestureRecognition/Custom_Model/rps_data_sample/drag/60.jpg\n"
          ]
        },
        {
          "name": "stderr",
          "output_type": "stream",
          "text": [
            "INFO:tensorflow:Loading image /Users/niklas/Projects/GestureRecognition/Custom_Model/rps_data_sample/drag/60.jpg\n"
          ]
        },
        {
          "name": "stdout",
          "output_type": "stream",
          "text": [
            "INFO:tensorflow:Loading image /Users/niklas/Projects/GestureRecognition/Custom_Model/rps_data_sample/drag/192.jpg\n"
          ]
        },
        {
          "name": "stderr",
          "output_type": "stream",
          "text": [
            "INFO:tensorflow:Loading image /Users/niklas/Projects/GestureRecognition/Custom_Model/rps_data_sample/drag/192.jpg\n"
          ]
        },
        {
          "name": "stdout",
          "output_type": "stream",
          "text": [
            "INFO:tensorflow:Loading image /Users/niklas/Projects/GestureRecognition/Custom_Model/rps_data_sample/none/1424.jpg\n"
          ]
        },
        {
          "name": "stderr",
          "output_type": "stream",
          "text": [
            "INFO:tensorflow:Loading image /Users/niklas/Projects/GestureRecognition/Custom_Model/rps_data_sample/none/1424.jpg\n"
          ]
        },
        {
          "name": "stdout",
          "output_type": "stream",
          "text": [
            "INFO:tensorflow:Loading image /Users/niklas/Projects/GestureRecognition/Custom_Model/rps_data_sample/none/993.jpg\n"
          ]
        },
        {
          "name": "stderr",
          "output_type": "stream",
          "text": [
            "INFO:tensorflow:Loading image /Users/niklas/Projects/GestureRecognition/Custom_Model/rps_data_sample/none/993.jpg\n"
          ]
        },
        {
          "name": "stdout",
          "output_type": "stream",
          "text": [
            "INFO:tensorflow:Loading image /Users/niklas/Projects/GestureRecognition/Custom_Model/rps_data_sample/none/820.jpg\n"
          ]
        },
        {
          "name": "stderr",
          "output_type": "stream",
          "text": [
            "INFO:tensorflow:Loading image /Users/niklas/Projects/GestureRecognition/Custom_Model/rps_data_sample/none/820.jpg\n"
          ]
        },
        {
          "name": "stdout",
          "output_type": "stream",
          "text": [
            "INFO:tensorflow:Loading image /Users/niklas/Projects/GestureRecognition/Custom_Model/rps_data_sample/click/176.jpg\n"
          ]
        },
        {
          "name": "stderr",
          "output_type": "stream",
          "text": [
            "INFO:tensorflow:Loading image /Users/niklas/Projects/GestureRecognition/Custom_Model/rps_data_sample/click/176.jpg\n"
          ]
        },
        {
          "name": "stdout",
          "output_type": "stream",
          "text": [
            "INFO:tensorflow:Loading image /Users/niklas/Projects/GestureRecognition/Custom_Model/rps_data_sample/drag/65.jpg\n"
          ]
        },
        {
          "name": "stderr",
          "output_type": "stream",
          "text": [
            "INFO:tensorflow:Loading image /Users/niklas/Projects/GestureRecognition/Custom_Model/rps_data_sample/drag/65.jpg\n"
          ]
        },
        {
          "name": "stdout",
          "output_type": "stream",
          "text": [
            "INFO:tensorflow:Loading image /Users/niklas/Projects/GestureRecognition/Custom_Model/rps_data_sample/click/223.jpg\n"
          ]
        },
        {
          "name": "stderr",
          "output_type": "stream",
          "text": [
            "INFO:tensorflow:Loading image /Users/niklas/Projects/GestureRecognition/Custom_Model/rps_data_sample/click/223.jpg\n"
          ]
        },
        {
          "name": "stdout",
          "output_type": "stream",
          "text": [
            "INFO:tensorflow:Loading image /Users/niklas/Projects/GestureRecognition/Custom_Model/rps_data_sample/none/1885.jpg\n"
          ]
        },
        {
          "name": "stderr",
          "output_type": "stream",
          "text": [
            "INFO:tensorflow:Loading image /Users/niklas/Projects/GestureRecognition/Custom_Model/rps_data_sample/none/1885.jpg\n"
          ]
        },
        {
          "name": "stdout",
          "output_type": "stream",
          "text": [
            "INFO:tensorflow:Loading image /Users/niklas/Projects/GestureRecognition/Custom_Model/rps_data_sample/click/116.jpg\n"
          ]
        },
        {
          "name": "stderr",
          "output_type": "stream",
          "text": [
            "INFO:tensorflow:Loading image /Users/niklas/Projects/GestureRecognition/Custom_Model/rps_data_sample/click/116.jpg\n"
          ]
        },
        {
          "name": "stdout",
          "output_type": "stream",
          "text": [
            "INFO:tensorflow:Loading image /Users/niklas/Projects/GestureRecognition/Custom_Model/rps_data_sample/click/136.jpg\n"
          ]
        },
        {
          "name": "stderr",
          "output_type": "stream",
          "text": [
            "INFO:tensorflow:Loading image /Users/niklas/Projects/GestureRecognition/Custom_Model/rps_data_sample/click/136.jpg\n"
          ]
        },
        {
          "name": "stdout",
          "output_type": "stream",
          "text": [
            "INFO:tensorflow:Loading image /Users/niklas/Projects/GestureRecognition/Custom_Model/rps_data_sample/click/200.jpg\n"
          ]
        },
        {
          "name": "stderr",
          "output_type": "stream",
          "text": [
            "INFO:tensorflow:Loading image /Users/niklas/Projects/GestureRecognition/Custom_Model/rps_data_sample/click/200.jpg\n"
          ]
        },
        {
          "name": "stdout",
          "output_type": "stream",
          "text": [
            "INFO:tensorflow:Loading image /Users/niklas/Projects/GestureRecognition/Custom_Model/rps_data_sample/click/113.jpg\n"
          ]
        },
        {
          "name": "stderr",
          "output_type": "stream",
          "text": [
            "INFO:tensorflow:Loading image /Users/niklas/Projects/GestureRecognition/Custom_Model/rps_data_sample/click/113.jpg\n"
          ]
        },
        {
          "name": "stdout",
          "output_type": "stream",
          "text": [
            "INFO:tensorflow:Loading image /Users/niklas/Projects/GestureRecognition/Custom_Model/rps_data_sample/click/31.jpg\n"
          ]
        },
        {
          "name": "stderr",
          "output_type": "stream",
          "text": [
            "INFO:tensorflow:Loading image /Users/niklas/Projects/GestureRecognition/Custom_Model/rps_data_sample/click/31.jpg\n"
          ]
        },
        {
          "name": "stdout",
          "output_type": "stream",
          "text": [
            "INFO:tensorflow:Loading image /Users/niklas/Projects/GestureRecognition/Custom_Model/rps_data_sample/drag/24.jpg\n"
          ]
        },
        {
          "name": "stderr",
          "output_type": "stream",
          "text": [
            "INFO:tensorflow:Loading image /Users/niklas/Projects/GestureRecognition/Custom_Model/rps_data_sample/drag/24.jpg\n"
          ]
        },
        {
          "name": "stdout",
          "output_type": "stream",
          "text": [
            "INFO:tensorflow:Loading image /Users/niklas/Projects/GestureRecognition/Custom_Model/rps_data_sample/drag/101.jpg\n"
          ]
        },
        {
          "name": "stderr",
          "output_type": "stream",
          "text": [
            "INFO:tensorflow:Loading image /Users/niklas/Projects/GestureRecognition/Custom_Model/rps_data_sample/drag/101.jpg\n"
          ]
        },
        {
          "name": "stdout",
          "output_type": "stream",
          "text": [
            "INFO:tensorflow:Loading image /Users/niklas/Projects/GestureRecognition/Custom_Model/rps_data_sample/drag/108.jpg\n"
          ]
        },
        {
          "name": "stderr",
          "output_type": "stream",
          "text": [
            "INFO:tensorflow:Loading image /Users/niklas/Projects/GestureRecognition/Custom_Model/rps_data_sample/drag/108.jpg\n"
          ]
        },
        {
          "name": "stdout",
          "output_type": "stream",
          "text": [
            "INFO:tensorflow:Loading image /Users/niklas/Projects/GestureRecognition/Custom_Model/rps_data_sample/drag/176.jpg\n"
          ]
        },
        {
          "name": "stderr",
          "output_type": "stream",
          "text": [
            "INFO:tensorflow:Loading image /Users/niklas/Projects/GestureRecognition/Custom_Model/rps_data_sample/drag/176.jpg\n"
          ]
        },
        {
          "name": "stdout",
          "output_type": "stream",
          "text": [
            "INFO:tensorflow:Loading image /Users/niklas/Projects/GestureRecognition/Custom_Model/rps_data_sample/drag/91.jpg\n"
          ]
        },
        {
          "name": "stderr",
          "output_type": "stream",
          "text": [
            "INFO:tensorflow:Loading image /Users/niklas/Projects/GestureRecognition/Custom_Model/rps_data_sample/drag/91.jpg\n"
          ]
        },
        {
          "name": "stdout",
          "output_type": "stream",
          "text": [
            "INFO:tensorflow:Loading image /Users/niklas/Projects/GestureRecognition/Custom_Model/rps_data_sample/click/98.jpg\n"
          ]
        },
        {
          "name": "stderr",
          "output_type": "stream",
          "text": [
            "INFO:tensorflow:Loading image /Users/niklas/Projects/GestureRecognition/Custom_Model/rps_data_sample/click/98.jpg\n"
          ]
        },
        {
          "name": "stdout",
          "output_type": "stream",
          "text": [
            "INFO:tensorflow:Loading image /Users/niklas/Projects/GestureRecognition/Custom_Model/rps_data_sample/drag/172.jpg\n"
          ]
        },
        {
          "name": "stderr",
          "output_type": "stream",
          "text": [
            "INFO:tensorflow:Loading image /Users/niklas/Projects/GestureRecognition/Custom_Model/rps_data_sample/drag/172.jpg\n"
          ]
        },
        {
          "name": "stdout",
          "output_type": "stream",
          "text": [
            "INFO:tensorflow:Loading image /Users/niklas/Projects/GestureRecognition/Custom_Model/rps_data_sample/drag/74.jpg\n"
          ]
        },
        {
          "name": "stderr",
          "output_type": "stream",
          "text": [
            "INFO:tensorflow:Loading image /Users/niklas/Projects/GestureRecognition/Custom_Model/rps_data_sample/drag/74.jpg\n"
          ]
        },
        {
          "name": "stdout",
          "output_type": "stream",
          "text": [
            "INFO:tensorflow:Loading image /Users/niklas/Projects/GestureRecognition/Custom_Model/rps_data_sample/drag/64.jpg\n"
          ]
        },
        {
          "name": "stderr",
          "output_type": "stream",
          "text": [
            "INFO:tensorflow:Loading image /Users/niklas/Projects/GestureRecognition/Custom_Model/rps_data_sample/drag/64.jpg\n"
          ]
        },
        {
          "name": "stdout",
          "output_type": "stream",
          "text": [
            "INFO:tensorflow:Loading image /Users/niklas/Projects/GestureRecognition/Custom_Model/rps_data_sample/drag/187.jpg\n"
          ]
        },
        {
          "name": "stderr",
          "output_type": "stream",
          "text": [
            "INFO:tensorflow:Loading image /Users/niklas/Projects/GestureRecognition/Custom_Model/rps_data_sample/drag/187.jpg\n"
          ]
        },
        {
          "name": "stdout",
          "output_type": "stream",
          "text": [
            "INFO:tensorflow:Loading image /Users/niklas/Projects/GestureRecognition/Custom_Model/rps_data_sample/click/91.jpg\n"
          ]
        },
        {
          "name": "stderr",
          "output_type": "stream",
          "text": [
            "INFO:tensorflow:Loading image /Users/niklas/Projects/GestureRecognition/Custom_Model/rps_data_sample/click/91.jpg\n"
          ]
        },
        {
          "name": "stdout",
          "output_type": "stream",
          "text": [
            "INFO:tensorflow:Loading image /Users/niklas/Projects/GestureRecognition/Custom_Model/rps_data_sample/drag/77.jpg\n"
          ]
        },
        {
          "name": "stderr",
          "output_type": "stream",
          "text": [
            "INFO:tensorflow:Loading image /Users/niklas/Projects/GestureRecognition/Custom_Model/rps_data_sample/drag/77.jpg\n"
          ]
        },
        {
          "name": "stdout",
          "output_type": "stream",
          "text": [
            "INFO:tensorflow:Loading image /Users/niklas/Projects/GestureRecognition/Custom_Model/rps_data_sample/none/898.jpg\n"
          ]
        },
        {
          "name": "stderr",
          "output_type": "stream",
          "text": [
            "INFO:tensorflow:Loading image /Users/niklas/Projects/GestureRecognition/Custom_Model/rps_data_sample/none/898.jpg\n"
          ]
        },
        {
          "name": "stdout",
          "output_type": "stream",
          "text": [
            "INFO:tensorflow:Loading image /Users/niklas/Projects/GestureRecognition/Custom_Model/rps_data_sample/drag/200.jpg\n"
          ]
        },
        {
          "name": "stderr",
          "output_type": "stream",
          "text": [
            "INFO:tensorflow:Loading image /Users/niklas/Projects/GestureRecognition/Custom_Model/rps_data_sample/drag/200.jpg\n"
          ]
        },
        {
          "name": "stdout",
          "output_type": "stream",
          "text": [
            "INFO:tensorflow:Loading image /Users/niklas/Projects/GestureRecognition/Custom_Model/rps_data_sample/none/1843.jpg\n"
          ]
        },
        {
          "name": "stderr",
          "output_type": "stream",
          "text": [
            "INFO:tensorflow:Loading image /Users/niklas/Projects/GestureRecognition/Custom_Model/rps_data_sample/none/1843.jpg\n"
          ]
        },
        {
          "name": "stdout",
          "output_type": "stream",
          "text": [
            "INFO:tensorflow:Loading image /Users/niklas/Projects/GestureRecognition/Custom_Model/rps_data_sample/drag/71.jpg\n"
          ]
        },
        {
          "name": "stderr",
          "output_type": "stream",
          "text": [
            "INFO:tensorflow:Loading image /Users/niklas/Projects/GestureRecognition/Custom_Model/rps_data_sample/drag/71.jpg\n"
          ]
        },
        {
          "name": "stdout",
          "output_type": "stream",
          "text": [
            "INFO:tensorflow:Loading image /Users/niklas/Projects/GestureRecognition/Custom_Model/rps_data_sample/click/127.jpg\n"
          ]
        },
        {
          "name": "stderr",
          "output_type": "stream",
          "text": [
            "INFO:tensorflow:Loading image /Users/niklas/Projects/GestureRecognition/Custom_Model/rps_data_sample/click/127.jpg\n"
          ]
        },
        {
          "name": "stdout",
          "output_type": "stream",
          "text": [
            "INFO:tensorflow:Loading image /Users/niklas/Projects/GestureRecognition/Custom_Model/rps_data_sample/drag/128.jpg\n"
          ]
        },
        {
          "name": "stderr",
          "output_type": "stream",
          "text": [
            "INFO:tensorflow:Loading image /Users/niklas/Projects/GestureRecognition/Custom_Model/rps_data_sample/drag/128.jpg\n"
          ]
        },
        {
          "name": "stdout",
          "output_type": "stream",
          "text": [
            "INFO:tensorflow:Loading image /Users/niklas/Projects/GestureRecognition/Custom_Model/rps_data_sample/click/140.jpg\n"
          ]
        },
        {
          "name": "stderr",
          "output_type": "stream",
          "text": [
            "INFO:tensorflow:Loading image /Users/niklas/Projects/GestureRecognition/Custom_Model/rps_data_sample/click/140.jpg\n"
          ]
        },
        {
          "name": "stdout",
          "output_type": "stream",
          "text": [
            "INFO:tensorflow:Loading image /Users/niklas/Projects/GestureRecognition/Custom_Model/rps_data_sample/drag/33.jpg\n"
          ]
        },
        {
          "name": "stderr",
          "output_type": "stream",
          "text": [
            "INFO:tensorflow:Loading image /Users/niklas/Projects/GestureRecognition/Custom_Model/rps_data_sample/drag/33.jpg\n"
          ]
        },
        {
          "name": "stdout",
          "output_type": "stream",
          "text": [
            "INFO:tensorflow:Loading image /Users/niklas/Projects/GestureRecognition/Custom_Model/rps_data_sample/click/172.jpg\n"
          ]
        },
        {
          "name": "stderr",
          "output_type": "stream",
          "text": [
            "INFO:tensorflow:Loading image /Users/niklas/Projects/GestureRecognition/Custom_Model/rps_data_sample/click/172.jpg\n"
          ]
        },
        {
          "name": "stdout",
          "output_type": "stream",
          "text": [
            "INFO:tensorflow:Loading image /Users/niklas/Projects/GestureRecognition/Custom_Model/rps_data_sample/none/1031.jpg\n"
          ]
        },
        {
          "name": "stderr",
          "output_type": "stream",
          "text": [
            "INFO:tensorflow:Loading image /Users/niklas/Projects/GestureRecognition/Custom_Model/rps_data_sample/none/1031.jpg\n"
          ]
        },
        {
          "name": "stdout",
          "output_type": "stream",
          "text": [
            "INFO:tensorflow:Loading image /Users/niklas/Projects/GestureRecognition/Custom_Model/rps_data_sample/none/613.jpg\n"
          ]
        },
        {
          "name": "stderr",
          "output_type": "stream",
          "text": [
            "INFO:tensorflow:Loading image /Users/niklas/Projects/GestureRecognition/Custom_Model/rps_data_sample/none/613.jpg\n"
          ]
        },
        {
          "name": "stdout",
          "output_type": "stream",
          "text": [
            "INFO:tensorflow:Loading image /Users/niklas/Projects/GestureRecognition/Custom_Model/rps_data_sample/drag/107.jpg\n"
          ]
        },
        {
          "name": "stderr",
          "output_type": "stream",
          "text": [
            "INFO:tensorflow:Loading image /Users/niklas/Projects/GestureRecognition/Custom_Model/rps_data_sample/drag/107.jpg\n"
          ]
        },
        {
          "name": "stdout",
          "output_type": "stream",
          "text": [
            "INFO:tensorflow:Loading image /Users/niklas/Projects/GestureRecognition/Custom_Model/rps_data_sample/none/9.jpg\n"
          ]
        },
        {
          "name": "stderr",
          "output_type": "stream",
          "text": [
            "INFO:tensorflow:Loading image /Users/niklas/Projects/GestureRecognition/Custom_Model/rps_data_sample/none/9.jpg\n"
          ]
        },
        {
          "name": "stdout",
          "output_type": "stream",
          "text": [
            "INFO:tensorflow:Loading image /Users/niklas/Projects/GestureRecognition/Custom_Model/rps_data_sample/click/194.jpg\n"
          ]
        },
        {
          "name": "stderr",
          "output_type": "stream",
          "text": [
            "INFO:tensorflow:Loading image /Users/niklas/Projects/GestureRecognition/Custom_Model/rps_data_sample/click/194.jpg\n"
          ]
        },
        {
          "name": "stdout",
          "output_type": "stream",
          "text": [
            "INFO:tensorflow:Loading image /Users/niklas/Projects/GestureRecognition/Custom_Model/rps_data_sample/drag/129.jpg\n"
          ]
        },
        {
          "name": "stderr",
          "output_type": "stream",
          "text": [
            "INFO:tensorflow:Loading image /Users/niklas/Projects/GestureRecognition/Custom_Model/rps_data_sample/drag/129.jpg\n"
          ]
        },
        {
          "name": "stdout",
          "output_type": "stream",
          "text": [
            "INFO:tensorflow:Loading image /Users/niklas/Projects/GestureRecognition/Custom_Model/rps_data_sample/click/88.jpg\n"
          ]
        },
        {
          "name": "stderr",
          "output_type": "stream",
          "text": [
            "INFO:tensorflow:Loading image /Users/niklas/Projects/GestureRecognition/Custom_Model/rps_data_sample/click/88.jpg\n"
          ]
        },
        {
          "name": "stdout",
          "output_type": "stream",
          "text": [
            "INFO:tensorflow:Loading image /Users/niklas/Projects/GestureRecognition/Custom_Model/rps_data_sample/drag/28.jpg\n"
          ]
        },
        {
          "name": "stderr",
          "output_type": "stream",
          "text": [
            "INFO:tensorflow:Loading image /Users/niklas/Projects/GestureRecognition/Custom_Model/rps_data_sample/drag/28.jpg\n"
          ]
        },
        {
          "name": "stdout",
          "output_type": "stream",
          "text": [
            "INFO:tensorflow:Loading image /Users/niklas/Projects/GestureRecognition/Custom_Model/rps_data_sample/click/170.jpg\n"
          ]
        },
        {
          "name": "stderr",
          "output_type": "stream",
          "text": [
            "INFO:tensorflow:Loading image /Users/niklas/Projects/GestureRecognition/Custom_Model/rps_data_sample/click/170.jpg\n"
          ]
        },
        {
          "name": "stdout",
          "output_type": "stream",
          "text": [
            "INFO:tensorflow:Loading image /Users/niklas/Projects/GestureRecognition/Custom_Model/rps_data_sample/none/1643.jpg\n"
          ]
        },
        {
          "name": "stderr",
          "output_type": "stream",
          "text": [
            "INFO:tensorflow:Loading image /Users/niklas/Projects/GestureRecognition/Custom_Model/rps_data_sample/none/1643.jpg\n"
          ]
        },
        {
          "name": "stdout",
          "output_type": "stream",
          "text": [
            "INFO:tensorflow:Loading image /Users/niklas/Projects/GestureRecognition/Custom_Model/rps_data_sample/drag/66.jpg\n"
          ]
        },
        {
          "name": "stderr",
          "output_type": "stream",
          "text": [
            "INFO:tensorflow:Loading image /Users/niklas/Projects/GestureRecognition/Custom_Model/rps_data_sample/drag/66.jpg\n"
          ]
        },
        {
          "name": "stdout",
          "output_type": "stream",
          "text": [
            "INFO:tensorflow:Loading image /Users/niklas/Projects/GestureRecognition/Custom_Model/rps_data_sample/click/164.jpg\n"
          ]
        },
        {
          "name": "stderr",
          "output_type": "stream",
          "text": [
            "INFO:tensorflow:Loading image /Users/niklas/Projects/GestureRecognition/Custom_Model/rps_data_sample/click/164.jpg\n"
          ]
        },
        {
          "name": "stdout",
          "output_type": "stream",
          "text": [
            "INFO:tensorflow:Loading image /Users/niklas/Projects/GestureRecognition/Custom_Model/rps_data_sample/none/1627.jpg\n"
          ]
        },
        {
          "name": "stderr",
          "output_type": "stream",
          "text": [
            "INFO:tensorflow:Loading image /Users/niklas/Projects/GestureRecognition/Custom_Model/rps_data_sample/none/1627.jpg\n"
          ]
        },
        {
          "name": "stdout",
          "output_type": "stream",
          "text": [
            "INFO:tensorflow:Loading image /Users/niklas/Projects/GestureRecognition/Custom_Model/rps_data_sample/none/292.jpg\n"
          ]
        },
        {
          "name": "stderr",
          "output_type": "stream",
          "text": [
            "INFO:tensorflow:Loading image /Users/niklas/Projects/GestureRecognition/Custom_Model/rps_data_sample/none/292.jpg\n"
          ]
        },
        {
          "name": "stdout",
          "output_type": "stream",
          "text": [
            "INFO:tensorflow:Loading image /Users/niklas/Projects/GestureRecognition/Custom_Model/rps_data_sample/click/37.jpg\n"
          ]
        },
        {
          "name": "stderr",
          "output_type": "stream",
          "text": [
            "INFO:tensorflow:Loading image /Users/niklas/Projects/GestureRecognition/Custom_Model/rps_data_sample/click/37.jpg\n"
          ]
        },
        {
          "name": "stdout",
          "output_type": "stream",
          "text": [
            "INFO:tensorflow:Loading image /Users/niklas/Projects/GestureRecognition/Custom_Model/rps_data_sample/drag/140.jpg\n"
          ]
        },
        {
          "name": "stderr",
          "output_type": "stream",
          "text": [
            "INFO:tensorflow:Loading image /Users/niklas/Projects/GestureRecognition/Custom_Model/rps_data_sample/drag/140.jpg\n"
          ]
        },
        {
          "name": "stdout",
          "output_type": "stream",
          "text": [
            "INFO:tensorflow:Loading image /Users/niklas/Projects/GestureRecognition/Custom_Model/rps_data_sample/click/162.jpg\n"
          ]
        },
        {
          "name": "stderr",
          "output_type": "stream",
          "text": [
            "INFO:tensorflow:Loading image /Users/niklas/Projects/GestureRecognition/Custom_Model/rps_data_sample/click/162.jpg\n"
          ]
        },
        {
          "name": "stdout",
          "output_type": "stream",
          "text": [
            "INFO:tensorflow:Loading image /Users/niklas/Projects/GestureRecognition/Custom_Model/rps_data_sample/click/61.jpg\n"
          ]
        },
        {
          "name": "stderr",
          "output_type": "stream",
          "text": [
            "INFO:tensorflow:Loading image /Users/niklas/Projects/GestureRecognition/Custom_Model/rps_data_sample/click/61.jpg\n"
          ]
        },
        {
          "name": "stdout",
          "output_type": "stream",
          "text": [
            "INFO:tensorflow:Loading image /Users/niklas/Projects/GestureRecognition/Custom_Model/rps_data_sample/none/598.jpg\n"
          ]
        },
        {
          "name": "stderr",
          "output_type": "stream",
          "text": [
            "INFO:tensorflow:Loading image /Users/niklas/Projects/GestureRecognition/Custom_Model/rps_data_sample/none/598.jpg\n"
          ]
        },
        {
          "name": "stdout",
          "output_type": "stream",
          "text": [
            "INFO:tensorflow:Loading image /Users/niklas/Projects/GestureRecognition/Custom_Model/rps_data_sample/click/122.jpg\n"
          ]
        },
        {
          "name": "stderr",
          "output_type": "stream",
          "text": [
            "INFO:tensorflow:Loading image /Users/niklas/Projects/GestureRecognition/Custom_Model/rps_data_sample/click/122.jpg\n"
          ]
        },
        {
          "name": "stdout",
          "output_type": "stream",
          "text": [
            "INFO:tensorflow:Loading image /Users/niklas/Projects/GestureRecognition/Custom_Model/rps_data_sample/click/163.jpg\n"
          ]
        },
        {
          "name": "stderr",
          "output_type": "stream",
          "text": [
            "INFO:tensorflow:Loading image /Users/niklas/Projects/GestureRecognition/Custom_Model/rps_data_sample/click/163.jpg\n"
          ]
        },
        {
          "name": "stdout",
          "output_type": "stream",
          "text": [
            "INFO:tensorflow:Loading image /Users/niklas/Projects/GestureRecognition/Custom_Model/rps_data_sample/drag/3.jpg\n"
          ]
        },
        {
          "name": "stderr",
          "output_type": "stream",
          "text": [
            "INFO:tensorflow:Loading image /Users/niklas/Projects/GestureRecognition/Custom_Model/rps_data_sample/drag/3.jpg\n"
          ]
        },
        {
          "name": "stdout",
          "output_type": "stream",
          "text": [
            "INFO:tensorflow:Loading image /Users/niklas/Projects/GestureRecognition/Custom_Model/rps_data_sample/click/102.jpg\n"
          ]
        },
        {
          "name": "stderr",
          "output_type": "stream",
          "text": [
            "INFO:tensorflow:Loading image /Users/niklas/Projects/GestureRecognition/Custom_Model/rps_data_sample/click/102.jpg\n"
          ]
        },
        {
          "name": "stdout",
          "output_type": "stream",
          "text": [
            "INFO:tensorflow:Loading image /Users/niklas/Projects/GestureRecognition/Custom_Model/rps_data_sample/click/128.jpg\n"
          ]
        },
        {
          "name": "stderr",
          "output_type": "stream",
          "text": [
            "INFO:tensorflow:Loading image /Users/niklas/Projects/GestureRecognition/Custom_Model/rps_data_sample/click/128.jpg\n"
          ]
        },
        {
          "name": "stdout",
          "output_type": "stream",
          "text": [
            "INFO:tensorflow:Loading image /Users/niklas/Projects/GestureRecognition/Custom_Model/rps_data_sample/drag/141.jpg\n"
          ]
        },
        {
          "name": "stderr",
          "output_type": "stream",
          "text": [
            "INFO:tensorflow:Loading image /Users/niklas/Projects/GestureRecognition/Custom_Model/rps_data_sample/drag/141.jpg\n"
          ]
        },
        {
          "name": "stdout",
          "output_type": "stream",
          "text": [
            "INFO:tensorflow:Loading image /Users/niklas/Projects/GestureRecognition/Custom_Model/rps_data_sample/drag/113.jpg\n"
          ]
        },
        {
          "name": "stderr",
          "output_type": "stream",
          "text": [
            "INFO:tensorflow:Loading image /Users/niklas/Projects/GestureRecognition/Custom_Model/rps_data_sample/drag/113.jpg\n"
          ]
        },
        {
          "name": "stdout",
          "output_type": "stream",
          "text": [
            "INFO:tensorflow:Loading image /Users/niklas/Projects/GestureRecognition/Custom_Model/rps_data_sample/none/136.jpg\n"
          ]
        },
        {
          "name": "stderr",
          "output_type": "stream",
          "text": [
            "INFO:tensorflow:Loading image /Users/niklas/Projects/GestureRecognition/Custom_Model/rps_data_sample/none/136.jpg\n"
          ]
        },
        {
          "name": "stdout",
          "output_type": "stream",
          "text": [
            "INFO:tensorflow:Loading image /Users/niklas/Projects/GestureRecognition/Custom_Model/rps_data_sample/click/199.jpg\n"
          ]
        },
        {
          "name": "stderr",
          "output_type": "stream",
          "text": [
            "INFO:tensorflow:Loading image /Users/niklas/Projects/GestureRecognition/Custom_Model/rps_data_sample/click/199.jpg\n"
          ]
        },
        {
          "name": "stdout",
          "output_type": "stream",
          "text": [
            "INFO:tensorflow:Loading image /Users/niklas/Projects/GestureRecognition/Custom_Model/rps_data_sample/none/941.jpg\n"
          ]
        },
        {
          "name": "stderr",
          "output_type": "stream",
          "text": [
            "INFO:tensorflow:Loading image /Users/niklas/Projects/GestureRecognition/Custom_Model/rps_data_sample/none/941.jpg\n"
          ]
        },
        {
          "name": "stdout",
          "output_type": "stream",
          "text": [
            "INFO:tensorflow:Loading image /Users/niklas/Projects/GestureRecognition/Custom_Model/rps_data_sample/click/182.jpg\n"
          ]
        },
        {
          "name": "stderr",
          "output_type": "stream",
          "text": [
            "INFO:tensorflow:Loading image /Users/niklas/Projects/GestureRecognition/Custom_Model/rps_data_sample/click/182.jpg\n"
          ]
        },
        {
          "name": "stdout",
          "output_type": "stream",
          "text": [
            "INFO:tensorflow:Loading image /Users/niklas/Projects/GestureRecognition/Custom_Model/rps_data_sample/click/222.jpg\n"
          ]
        },
        {
          "name": "stderr",
          "output_type": "stream",
          "text": [
            "INFO:tensorflow:Loading image /Users/niklas/Projects/GestureRecognition/Custom_Model/rps_data_sample/click/222.jpg\n"
          ]
        },
        {
          "name": "stdout",
          "output_type": "stream",
          "text": [
            "INFO:tensorflow:Loading image /Users/niklas/Projects/GestureRecognition/Custom_Model/rps_data_sample/drag/180.jpg\n"
          ]
        },
        {
          "name": "stderr",
          "output_type": "stream",
          "text": [
            "INFO:tensorflow:Loading image /Users/niklas/Projects/GestureRecognition/Custom_Model/rps_data_sample/drag/180.jpg\n"
          ]
        },
        {
          "name": "stdout",
          "output_type": "stream",
          "text": [
            "INFO:tensorflow:Loading image /Users/niklas/Projects/GestureRecognition/Custom_Model/rps_data_sample/click/161.jpg\n"
          ]
        },
        {
          "name": "stderr",
          "output_type": "stream",
          "text": [
            "INFO:tensorflow:Loading image /Users/niklas/Projects/GestureRecognition/Custom_Model/rps_data_sample/click/161.jpg\n"
          ]
        },
        {
          "name": "stdout",
          "output_type": "stream",
          "text": [
            "INFO:tensorflow:Loading image /Users/niklas/Projects/GestureRecognition/Custom_Model/rps_data_sample/drag/17.jpg\n"
          ]
        },
        {
          "name": "stderr",
          "output_type": "stream",
          "text": [
            "INFO:tensorflow:Loading image /Users/niklas/Projects/GestureRecognition/Custom_Model/rps_data_sample/drag/17.jpg\n"
          ]
        },
        {
          "name": "stdout",
          "output_type": "stream",
          "text": [
            "INFO:tensorflow:Loading image /Users/niklas/Projects/GestureRecognition/Custom_Model/rps_data_sample/drag/62.jpg\n"
          ]
        },
        {
          "name": "stderr",
          "output_type": "stream",
          "text": [
            "INFO:tensorflow:Loading image /Users/niklas/Projects/GestureRecognition/Custom_Model/rps_data_sample/drag/62.jpg\n"
          ]
        },
        {
          "name": "stdout",
          "output_type": "stream",
          "text": [
            "INFO:tensorflow:Loading image /Users/niklas/Projects/GestureRecognition/Custom_Model/rps_data_sample/drag/178.jpg\n"
          ]
        },
        {
          "name": "stderr",
          "output_type": "stream",
          "text": [
            "INFO:tensorflow:Loading image /Users/niklas/Projects/GestureRecognition/Custom_Model/rps_data_sample/drag/178.jpg\n"
          ]
        },
        {
          "name": "stdout",
          "output_type": "stream",
          "text": [
            "INFO:tensorflow:Loading image /Users/niklas/Projects/GestureRecognition/Custom_Model/rps_data_sample/drag/165.jpg\n"
          ]
        },
        {
          "name": "stderr",
          "output_type": "stream",
          "text": [
            "INFO:tensorflow:Loading image /Users/niklas/Projects/GestureRecognition/Custom_Model/rps_data_sample/drag/165.jpg\n"
          ]
        },
        {
          "name": "stdout",
          "output_type": "stream",
          "text": [
            "INFO:tensorflow:Loading image /Users/niklas/Projects/GestureRecognition/Custom_Model/rps_data_sample/click/99.jpg\n"
          ]
        },
        {
          "name": "stderr",
          "output_type": "stream",
          "text": [
            "INFO:tensorflow:Loading image /Users/niklas/Projects/GestureRecognition/Custom_Model/rps_data_sample/click/99.jpg\n"
          ]
        },
        {
          "name": "stdout",
          "output_type": "stream",
          "text": [
            "INFO:tensorflow:Loading image /Users/niklas/Projects/GestureRecognition/Custom_Model/rps_data_sample/drag/117.jpg\n"
          ]
        },
        {
          "name": "stderr",
          "output_type": "stream",
          "text": [
            "INFO:tensorflow:Loading image /Users/niklas/Projects/GestureRecognition/Custom_Model/rps_data_sample/drag/117.jpg\n"
          ]
        },
        {
          "name": "stdout",
          "output_type": "stream",
          "text": [
            "INFO:tensorflow:Loading image /Users/niklas/Projects/GestureRecognition/Custom_Model/rps_data_sample/none/1362.jpg\n"
          ]
        },
        {
          "name": "stderr",
          "output_type": "stream",
          "text": [
            "INFO:tensorflow:Loading image /Users/niklas/Projects/GestureRecognition/Custom_Model/rps_data_sample/none/1362.jpg\n"
          ]
        },
        {
          "name": "stdout",
          "output_type": "stream",
          "text": [
            "INFO:tensorflow:Loading image /Users/niklas/Projects/GestureRecognition/Custom_Model/rps_data_sample/click/153.jpg\n"
          ]
        },
        {
          "name": "stderr",
          "output_type": "stream",
          "text": [
            "INFO:tensorflow:Loading image /Users/niklas/Projects/GestureRecognition/Custom_Model/rps_data_sample/click/153.jpg\n"
          ]
        },
        {
          "name": "stdout",
          "output_type": "stream",
          "text": [
            "INFO:tensorflow:Loading image /Users/niklas/Projects/GestureRecognition/Custom_Model/rps_data_sample/drag/189.jpg\n"
          ]
        },
        {
          "name": "stderr",
          "output_type": "stream",
          "text": [
            "INFO:tensorflow:Loading image /Users/niklas/Projects/GestureRecognition/Custom_Model/rps_data_sample/drag/189.jpg\n"
          ]
        },
        {
          "name": "stdout",
          "output_type": "stream",
          "text": [
            "INFO:tensorflow:Loading image /Users/niklas/Projects/GestureRecognition/Custom_Model/rps_data_sample/drag/84.jpg\n"
          ]
        },
        {
          "name": "stderr",
          "output_type": "stream",
          "text": [
            "INFO:tensorflow:Loading image /Users/niklas/Projects/GestureRecognition/Custom_Model/rps_data_sample/drag/84.jpg\n"
          ]
        },
        {
          "name": "stdout",
          "output_type": "stream",
          "text": [
            "INFO:tensorflow:Loading image /Users/niklas/Projects/GestureRecognition/Custom_Model/rps_data_sample/click/148.jpg\n"
          ]
        },
        {
          "name": "stderr",
          "output_type": "stream",
          "text": [
            "INFO:tensorflow:Loading image /Users/niklas/Projects/GestureRecognition/Custom_Model/rps_data_sample/click/148.jpg\n"
          ]
        },
        {
          "name": "stdout",
          "output_type": "stream",
          "text": [
            "INFO:tensorflow:Loading image /Users/niklas/Projects/GestureRecognition/Custom_Model/rps_data_sample/drag/1.jpg\n"
          ]
        },
        {
          "name": "stderr",
          "output_type": "stream",
          "text": [
            "INFO:tensorflow:Loading image /Users/niklas/Projects/GestureRecognition/Custom_Model/rps_data_sample/drag/1.jpg\n"
          ]
        },
        {
          "name": "stdout",
          "output_type": "stream",
          "text": [
            "INFO:tensorflow:Loading image /Users/niklas/Projects/GestureRecognition/Custom_Model/rps_data_sample/drag/11.jpg\n"
          ]
        },
        {
          "name": "stderr",
          "output_type": "stream",
          "text": [
            "INFO:tensorflow:Loading image /Users/niklas/Projects/GestureRecognition/Custom_Model/rps_data_sample/drag/11.jpg\n"
          ]
        },
        {
          "name": "stdout",
          "output_type": "stream",
          "text": [
            "INFO:tensorflow:Loading image /Users/niklas/Projects/GestureRecognition/Custom_Model/rps_data_sample/none/1134.jpg\n"
          ]
        },
        {
          "name": "stderr",
          "output_type": "stream",
          "text": [
            "INFO:tensorflow:Loading image /Users/niklas/Projects/GestureRecognition/Custom_Model/rps_data_sample/none/1134.jpg\n"
          ]
        },
        {
          "name": "stdout",
          "output_type": "stream",
          "text": [
            "INFO:tensorflow:Loading image /Users/niklas/Projects/GestureRecognition/Custom_Model/rps_data_sample/click/150.jpg\n"
          ]
        },
        {
          "name": "stderr",
          "output_type": "stream",
          "text": [
            "INFO:tensorflow:Loading image /Users/niklas/Projects/GestureRecognition/Custom_Model/rps_data_sample/click/150.jpg\n"
          ]
        },
        {
          "name": "stdout",
          "output_type": "stream",
          "text": [
            "INFO:tensorflow:Loading image /Users/niklas/Projects/GestureRecognition/Custom_Model/rps_data_sample/click/183.jpg\n"
          ]
        },
        {
          "name": "stderr",
          "output_type": "stream",
          "text": [
            "INFO:tensorflow:Loading image /Users/niklas/Projects/GestureRecognition/Custom_Model/rps_data_sample/click/183.jpg\n"
          ]
        },
        {
          "name": "stdout",
          "output_type": "stream",
          "text": [
            "INFO:tensorflow:Loading image /Users/niklas/Projects/GestureRecognition/Custom_Model/rps_data_sample/click/30.jpg\n"
          ]
        },
        {
          "name": "stderr",
          "output_type": "stream",
          "text": [
            "INFO:tensorflow:Loading image /Users/niklas/Projects/GestureRecognition/Custom_Model/rps_data_sample/click/30.jpg\n"
          ]
        },
        {
          "name": "stdout",
          "output_type": "stream",
          "text": [
            "INFO:tensorflow:Loading image /Users/niklas/Projects/GestureRecognition/Custom_Model/rps_data_sample/drag/151.jpg\n"
          ]
        },
        {
          "name": "stderr",
          "output_type": "stream",
          "text": [
            "INFO:tensorflow:Loading image /Users/niklas/Projects/GestureRecognition/Custom_Model/rps_data_sample/drag/151.jpg\n"
          ]
        },
        {
          "name": "stdout",
          "output_type": "stream",
          "text": [
            "INFO:tensorflow:Loading image /Users/niklas/Projects/GestureRecognition/Custom_Model/rps_data_sample/drag/184.jpg\n"
          ]
        },
        {
          "name": "stderr",
          "output_type": "stream",
          "text": [
            "INFO:tensorflow:Loading image /Users/niklas/Projects/GestureRecognition/Custom_Model/rps_data_sample/drag/184.jpg\n"
          ]
        },
        {
          "name": "stdout",
          "output_type": "stream",
          "text": [
            "INFO:tensorflow:Loading image /Users/niklas/Projects/GestureRecognition/Custom_Model/rps_data_sample/click/1.jpg\n"
          ]
        },
        {
          "name": "stderr",
          "output_type": "stream",
          "text": [
            "INFO:tensorflow:Loading image /Users/niklas/Projects/GestureRecognition/Custom_Model/rps_data_sample/click/1.jpg\n"
          ]
        },
        {
          "name": "stdout",
          "output_type": "stream",
          "text": [
            "INFO:tensorflow:Loading image /Users/niklas/Projects/GestureRecognition/Custom_Model/rps_data_sample/drag/204.jpg\n"
          ]
        },
        {
          "name": "stderr",
          "output_type": "stream",
          "text": [
            "INFO:tensorflow:Loading image /Users/niklas/Projects/GestureRecognition/Custom_Model/rps_data_sample/drag/204.jpg\n"
          ]
        },
        {
          "name": "stdout",
          "output_type": "stream",
          "text": [
            "INFO:tensorflow:Loading image /Users/niklas/Projects/GestureRecognition/Custom_Model/rps_data_sample/click/3.jpg\n"
          ]
        },
        {
          "name": "stderr",
          "output_type": "stream",
          "text": [
            "INFO:tensorflow:Loading image /Users/niklas/Projects/GestureRecognition/Custom_Model/rps_data_sample/click/3.jpg\n"
          ]
        },
        {
          "name": "stdout",
          "output_type": "stream",
          "text": [
            "INFO:tensorflow:Loading image /Users/niklas/Projects/GestureRecognition/Custom_Model/rps_data_sample/click/119.jpg\n"
          ]
        },
        {
          "name": "stderr",
          "output_type": "stream",
          "text": [
            "INFO:tensorflow:Loading image /Users/niklas/Projects/GestureRecognition/Custom_Model/rps_data_sample/click/119.jpg\n"
          ]
        },
        {
          "name": "stdout",
          "output_type": "stream",
          "text": [
            "INFO:tensorflow:Loading image /Users/niklas/Projects/GestureRecognition/Custom_Model/rps_data_sample/none/794.jpg\n"
          ]
        },
        {
          "name": "stderr",
          "output_type": "stream",
          "text": [
            "INFO:tensorflow:Loading image /Users/niklas/Projects/GestureRecognition/Custom_Model/rps_data_sample/none/794.jpg\n"
          ]
        },
        {
          "name": "stdout",
          "output_type": "stream",
          "text": [
            "INFO:tensorflow:Loading image /Users/niklas/Projects/GestureRecognition/Custom_Model/rps_data_sample/drag/188.jpg\n"
          ]
        },
        {
          "name": "stderr",
          "output_type": "stream",
          "text": [
            "INFO:tensorflow:Loading image /Users/niklas/Projects/GestureRecognition/Custom_Model/rps_data_sample/drag/188.jpg\n"
          ]
        },
        {
          "name": "stdout",
          "output_type": "stream",
          "text": [
            "INFO:tensorflow:Loading image /Users/niklas/Projects/GestureRecognition/Custom_Model/rps_data_sample/click/211.jpg\n"
          ]
        },
        {
          "name": "stderr",
          "output_type": "stream",
          "text": [
            "INFO:tensorflow:Loading image /Users/niklas/Projects/GestureRecognition/Custom_Model/rps_data_sample/click/211.jpg\n"
          ]
        },
        {
          "name": "stdout",
          "output_type": "stream",
          "text": [
            "INFO:tensorflow:Loading image /Users/niklas/Projects/GestureRecognition/Custom_Model/rps_data_sample/drag/112.jpg\n"
          ]
        },
        {
          "name": "stderr",
          "output_type": "stream",
          "text": [
            "INFO:tensorflow:Loading image /Users/niklas/Projects/GestureRecognition/Custom_Model/rps_data_sample/drag/112.jpg\n"
          ]
        },
        {
          "name": "stdout",
          "output_type": "stream",
          "text": [
            "INFO:tensorflow:Loading image /Users/niklas/Projects/GestureRecognition/Custom_Model/rps_data_sample/click/15.jpg\n"
          ]
        },
        {
          "name": "stderr",
          "output_type": "stream",
          "text": [
            "INFO:tensorflow:Loading image /Users/niklas/Projects/GestureRecognition/Custom_Model/rps_data_sample/click/15.jpg\n"
          ]
        },
        {
          "name": "stdout",
          "output_type": "stream",
          "text": [
            "INFO:tensorflow:Loading image /Users/niklas/Projects/GestureRecognition/Custom_Model/rps_data_sample/drag/173.jpg\n"
          ]
        },
        {
          "name": "stderr",
          "output_type": "stream",
          "text": [
            "INFO:tensorflow:Loading image /Users/niklas/Projects/GestureRecognition/Custom_Model/rps_data_sample/drag/173.jpg\n"
          ]
        },
        {
          "name": "stdout",
          "output_type": "stream",
          "text": [
            "INFO:tensorflow:Loading image /Users/niklas/Projects/GestureRecognition/Custom_Model/rps_data_sample/drag/2.jpg\n"
          ]
        },
        {
          "name": "stderr",
          "output_type": "stream",
          "text": [
            "INFO:tensorflow:Loading image /Users/niklas/Projects/GestureRecognition/Custom_Model/rps_data_sample/drag/2.jpg\n"
          ]
        },
        {
          "name": "stdout",
          "output_type": "stream",
          "text": [
            "INFO:tensorflow:Loading image /Users/niklas/Projects/GestureRecognition/Custom_Model/rps_data_sample/none/1501.jpg\n"
          ]
        },
        {
          "name": "stderr",
          "output_type": "stream",
          "text": [
            "INFO:tensorflow:Loading image /Users/niklas/Projects/GestureRecognition/Custom_Model/rps_data_sample/none/1501.jpg\n"
          ]
        },
        {
          "name": "stdout",
          "output_type": "stream",
          "text": [
            "INFO:tensorflow:Loading image /Users/niklas/Projects/GestureRecognition/Custom_Model/rps_data_sample/none/76.jpg\n"
          ]
        },
        {
          "name": "stderr",
          "output_type": "stream",
          "text": [
            "INFO:tensorflow:Loading image /Users/niklas/Projects/GestureRecognition/Custom_Model/rps_data_sample/none/76.jpg\n"
          ]
        },
        {
          "name": "stdout",
          "output_type": "stream",
          "text": [
            "INFO:tensorflow:Loading image /Users/niklas/Projects/GestureRecognition/Custom_Model/rps_data_sample/click/123.jpg\n"
          ]
        },
        {
          "name": "stderr",
          "output_type": "stream",
          "text": [
            "INFO:tensorflow:Loading image /Users/niklas/Projects/GestureRecognition/Custom_Model/rps_data_sample/click/123.jpg\n"
          ]
        },
        {
          "name": "stdout",
          "output_type": "stream",
          "text": [
            "INFO:tensorflow:Loading image /Users/niklas/Projects/GestureRecognition/Custom_Model/rps_data_sample/none/1650.jpg\n"
          ]
        },
        {
          "name": "stderr",
          "output_type": "stream",
          "text": [
            "INFO:tensorflow:Loading image /Users/niklas/Projects/GestureRecognition/Custom_Model/rps_data_sample/none/1650.jpg\n"
          ]
        },
        {
          "name": "stdout",
          "output_type": "stream",
          "text": [
            "INFO:tensorflow:Loading image /Users/niklas/Projects/GestureRecognition/Custom_Model/rps_data_sample/click/168.jpg\n"
          ]
        },
        {
          "name": "stderr",
          "output_type": "stream",
          "text": [
            "INFO:tensorflow:Loading image /Users/niklas/Projects/GestureRecognition/Custom_Model/rps_data_sample/click/168.jpg\n"
          ]
        },
        {
          "name": "stdout",
          "output_type": "stream",
          "text": [
            "INFO:tensorflow:Loading image /Users/niklas/Projects/GestureRecognition/Custom_Model/rps_data_sample/none/1083.jpg\n"
          ]
        },
        {
          "name": "stderr",
          "output_type": "stream",
          "text": [
            "INFO:tensorflow:Loading image /Users/niklas/Projects/GestureRecognition/Custom_Model/rps_data_sample/none/1083.jpg\n"
          ]
        },
        {
          "name": "stdout",
          "output_type": "stream",
          "text": [
            "INFO:tensorflow:Loading image /Users/niklas/Projects/GestureRecognition/Custom_Model/rps_data_sample/drag/122.jpg\n"
          ]
        },
        {
          "name": "stderr",
          "output_type": "stream",
          "text": [
            "INFO:tensorflow:Loading image /Users/niklas/Projects/GestureRecognition/Custom_Model/rps_data_sample/drag/122.jpg\n"
          ]
        },
        {
          "name": "stdout",
          "output_type": "stream",
          "text": [
            "INFO:tensorflow:Loading image /Users/niklas/Projects/GestureRecognition/Custom_Model/rps_data_sample/drag/73.jpg\n"
          ]
        },
        {
          "name": "stderr",
          "output_type": "stream",
          "text": [
            "INFO:tensorflow:Loading image /Users/niklas/Projects/GestureRecognition/Custom_Model/rps_data_sample/drag/73.jpg\n"
          ]
        },
        {
          "name": "stdout",
          "output_type": "stream",
          "text": [
            "INFO:tensorflow:Loading image /Users/niklas/Projects/GestureRecognition/Custom_Model/rps_data_sample/drag/22.jpg\n"
          ]
        },
        {
          "name": "stderr",
          "output_type": "stream",
          "text": [
            "INFO:tensorflow:Loading image /Users/niklas/Projects/GestureRecognition/Custom_Model/rps_data_sample/drag/22.jpg\n"
          ]
        },
        {
          "name": "stdout",
          "output_type": "stream",
          "text": [
            "INFO:tensorflow:Loading image /Users/niklas/Projects/GestureRecognition/Custom_Model/rps_data_sample/click/47.jpg\n"
          ]
        },
        {
          "name": "stderr",
          "output_type": "stream",
          "text": [
            "INFO:tensorflow:Loading image /Users/niklas/Projects/GestureRecognition/Custom_Model/rps_data_sample/click/47.jpg\n"
          ]
        },
        {
          "name": "stdout",
          "output_type": "stream",
          "text": [
            "INFO:tensorflow:Loading image /Users/niklas/Projects/GestureRecognition/Custom_Model/rps_data_sample/drag/97.jpg\n"
          ]
        },
        {
          "name": "stderr",
          "output_type": "stream",
          "text": [
            "INFO:tensorflow:Loading image /Users/niklas/Projects/GestureRecognition/Custom_Model/rps_data_sample/drag/97.jpg\n"
          ]
        },
        {
          "name": "stdout",
          "output_type": "stream",
          "text": [
            "INFO:tensorflow:Loading image /Users/niklas/Projects/GestureRecognition/Custom_Model/rps_data_sample/click/187.jpg\n"
          ]
        },
        {
          "name": "stderr",
          "output_type": "stream",
          "text": [
            "INFO:tensorflow:Loading image /Users/niklas/Projects/GestureRecognition/Custom_Model/rps_data_sample/click/187.jpg\n"
          ]
        },
        {
          "name": "stdout",
          "output_type": "stream",
          "text": [
            "INFO:tensorflow:Loading image /Users/niklas/Projects/GestureRecognition/Custom_Model/rps_data_sample/click/28.jpg\n"
          ]
        },
        {
          "name": "stderr",
          "output_type": "stream",
          "text": [
            "INFO:tensorflow:Loading image /Users/niklas/Projects/GestureRecognition/Custom_Model/rps_data_sample/click/28.jpg\n"
          ]
        },
        {
          "name": "stdout",
          "output_type": "stream",
          "text": [
            "INFO:tensorflow:Loading image /Users/niklas/Projects/GestureRecognition/Custom_Model/rps_data_sample/click/100.jpg\n"
          ]
        },
        {
          "name": "stderr",
          "output_type": "stream",
          "text": [
            "INFO:tensorflow:Loading image /Users/niklas/Projects/GestureRecognition/Custom_Model/rps_data_sample/click/100.jpg\n"
          ]
        },
        {
          "name": "stdout",
          "output_type": "stream",
          "text": [
            "INFO:tensorflow:Loading image /Users/niklas/Projects/GestureRecognition/Custom_Model/rps_data_sample/click/157.jpg\n"
          ]
        },
        {
          "name": "stderr",
          "output_type": "stream",
          "text": [
            "INFO:tensorflow:Loading image /Users/niklas/Projects/GestureRecognition/Custom_Model/rps_data_sample/click/157.jpg\n"
          ]
        },
        {
          "name": "stdout",
          "output_type": "stream",
          "text": [
            "INFO:tensorflow:Loading image /Users/niklas/Projects/GestureRecognition/Custom_Model/rps_data_sample/click/58.jpg\n"
          ]
        },
        {
          "name": "stderr",
          "output_type": "stream",
          "text": [
            "INFO:tensorflow:Loading image /Users/niklas/Projects/GestureRecognition/Custom_Model/rps_data_sample/click/58.jpg\n"
          ]
        },
        {
          "name": "stdout",
          "output_type": "stream",
          "text": [
            "INFO:tensorflow:Loading image /Users/niklas/Projects/GestureRecognition/Custom_Model/rps_data_sample/none/1340.jpg\n"
          ]
        },
        {
          "name": "stderr",
          "output_type": "stream",
          "text": [
            "INFO:tensorflow:Loading image /Users/niklas/Projects/GestureRecognition/Custom_Model/rps_data_sample/none/1340.jpg\n"
          ]
        },
        {
          "name": "stdout",
          "output_type": "stream",
          "text": [
            "INFO:tensorflow:Loading image /Users/niklas/Projects/GestureRecognition/Custom_Model/rps_data_sample/click/81.jpg\n"
          ]
        },
        {
          "name": "stderr",
          "output_type": "stream",
          "text": [
            "INFO:tensorflow:Loading image /Users/niklas/Projects/GestureRecognition/Custom_Model/rps_data_sample/click/81.jpg\n"
          ]
        },
        {
          "name": "stdout",
          "output_type": "stream",
          "text": [
            "INFO:tensorflow:Loading image /Users/niklas/Projects/GestureRecognition/Custom_Model/rps_data_sample/click/159.jpg\n"
          ]
        },
        {
          "name": "stderr",
          "output_type": "stream",
          "text": [
            "INFO:tensorflow:Loading image /Users/niklas/Projects/GestureRecognition/Custom_Model/rps_data_sample/click/159.jpg\n"
          ]
        },
        {
          "name": "stdout",
          "output_type": "stream",
          "text": [
            "INFO:tensorflow:Loading image /Users/niklas/Projects/GestureRecognition/Custom_Model/rps_data_sample/drag/179.jpg\n"
          ]
        },
        {
          "name": "stderr",
          "output_type": "stream",
          "text": [
            "INFO:tensorflow:Loading image /Users/niklas/Projects/GestureRecognition/Custom_Model/rps_data_sample/drag/179.jpg\n"
          ]
        },
        {
          "name": "stdout",
          "output_type": "stream",
          "text": [
            "INFO:tensorflow:Loading image /Users/niklas/Projects/GestureRecognition/Custom_Model/rps_data_sample/click/144.jpg\n"
          ]
        },
        {
          "name": "stderr",
          "output_type": "stream",
          "text": [
            "INFO:tensorflow:Loading image /Users/niklas/Projects/GestureRecognition/Custom_Model/rps_data_sample/click/144.jpg\n"
          ]
        },
        {
          "name": "stdout",
          "output_type": "stream",
          "text": [
            "INFO:tensorflow:Loading image /Users/niklas/Projects/GestureRecognition/Custom_Model/rps_data_sample/click/212.jpg\n"
          ]
        },
        {
          "name": "stderr",
          "output_type": "stream",
          "text": [
            "INFO:tensorflow:Loading image /Users/niklas/Projects/GestureRecognition/Custom_Model/rps_data_sample/click/212.jpg\n"
          ]
        },
        {
          "name": "stdout",
          "output_type": "stream",
          "text": [
            "INFO:tensorflow:Loading image /Users/niklas/Projects/GestureRecognition/Custom_Model/rps_data_sample/drag/163.jpg\n"
          ]
        },
        {
          "name": "stderr",
          "output_type": "stream",
          "text": [
            "INFO:tensorflow:Loading image /Users/niklas/Projects/GestureRecognition/Custom_Model/rps_data_sample/drag/163.jpg\n"
          ]
        },
        {
          "name": "stdout",
          "output_type": "stream",
          "text": [
            "INFO:tensorflow:Loading image /Users/niklas/Projects/GestureRecognition/Custom_Model/rps_data_sample/click/154.jpg\n"
          ]
        },
        {
          "name": "stderr",
          "output_type": "stream",
          "text": [
            "INFO:tensorflow:Loading image /Users/niklas/Projects/GestureRecognition/Custom_Model/rps_data_sample/click/154.jpg\n"
          ]
        },
        {
          "name": "stdout",
          "output_type": "stream",
          "text": [
            "INFO:tensorflow:Loading image /Users/niklas/Projects/GestureRecognition/Custom_Model/rps_data_sample/click/84.jpg\n"
          ]
        },
        {
          "name": "stderr",
          "output_type": "stream",
          "text": [
            "INFO:tensorflow:Loading image /Users/niklas/Projects/GestureRecognition/Custom_Model/rps_data_sample/click/84.jpg\n"
          ]
        },
        {
          "name": "stdout",
          "output_type": "stream",
          "text": [
            "INFO:tensorflow:Loading image /Users/niklas/Projects/GestureRecognition/Custom_Model/rps_data_sample/click/48.jpg\n"
          ]
        },
        {
          "name": "stderr",
          "output_type": "stream",
          "text": [
            "INFO:tensorflow:Loading image /Users/niklas/Projects/GestureRecognition/Custom_Model/rps_data_sample/click/48.jpg\n"
          ]
        },
        {
          "name": "stdout",
          "output_type": "stream",
          "text": [
            "INFO:tensorflow:Loading image /Users/niklas/Projects/GestureRecognition/Custom_Model/rps_data_sample/click/46.jpg\n"
          ]
        },
        {
          "name": "stderr",
          "output_type": "stream",
          "text": [
            "INFO:tensorflow:Loading image /Users/niklas/Projects/GestureRecognition/Custom_Model/rps_data_sample/click/46.jpg\n"
          ]
        },
        {
          "name": "stdout",
          "output_type": "stream",
          "text": [
            "INFO:tensorflow:Loading image /Users/niklas/Projects/GestureRecognition/Custom_Model/rps_data_sample/click/101.jpg\n"
          ]
        },
        {
          "name": "stderr",
          "output_type": "stream",
          "text": [
            "INFO:tensorflow:Loading image /Users/niklas/Projects/GestureRecognition/Custom_Model/rps_data_sample/click/101.jpg\n"
          ]
        },
        {
          "name": "stdout",
          "output_type": "stream",
          "text": [
            "INFO:tensorflow:Loading image /Users/niklas/Projects/GestureRecognition/Custom_Model/rps_data_sample/none/394.jpg\n"
          ]
        },
        {
          "name": "stderr",
          "output_type": "stream",
          "text": [
            "INFO:tensorflow:Loading image /Users/niklas/Projects/GestureRecognition/Custom_Model/rps_data_sample/none/394.jpg\n"
          ]
        },
        {
          "name": "stdout",
          "output_type": "stream",
          "text": [
            "INFO:tensorflow:Loading image /Users/niklas/Projects/GestureRecognition/Custom_Model/rps_data_sample/click/105.jpg\n"
          ]
        },
        {
          "name": "stderr",
          "output_type": "stream",
          "text": [
            "INFO:tensorflow:Loading image /Users/niklas/Projects/GestureRecognition/Custom_Model/rps_data_sample/click/105.jpg\n"
          ]
        },
        {
          "name": "stdout",
          "output_type": "stream",
          "text": [
            "INFO:tensorflow:Loading image /Users/niklas/Projects/GestureRecognition/Custom_Model/rps_data_sample/click/219.jpg\n"
          ]
        },
        {
          "name": "stderr",
          "output_type": "stream",
          "text": [
            "INFO:tensorflow:Loading image /Users/niklas/Projects/GestureRecognition/Custom_Model/rps_data_sample/click/219.jpg\n"
          ]
        },
        {
          "name": "stdout",
          "output_type": "stream",
          "text": [
            "INFO:tensorflow:Loading image /Users/niklas/Projects/GestureRecognition/Custom_Model/rps_data_sample/none/1000.jpg\n"
          ]
        },
        {
          "name": "stderr",
          "output_type": "stream",
          "text": [
            "INFO:tensorflow:Loading image /Users/niklas/Projects/GestureRecognition/Custom_Model/rps_data_sample/none/1000.jpg\n"
          ]
        },
        {
          "name": "stdout",
          "output_type": "stream",
          "text": [
            "INFO:tensorflow:Loading image /Users/niklas/Projects/GestureRecognition/Custom_Model/rps_data_sample/drag/5.jpg\n"
          ]
        },
        {
          "name": "stderr",
          "output_type": "stream",
          "text": [
            "INFO:tensorflow:Loading image /Users/niklas/Projects/GestureRecognition/Custom_Model/rps_data_sample/drag/5.jpg\n"
          ]
        },
        {
          "name": "stdout",
          "output_type": "stream",
          "text": [
            "INFO:tensorflow:Loading image /Users/niklas/Projects/GestureRecognition/Custom_Model/rps_data_sample/drag/198.jpg\n"
          ]
        },
        {
          "name": "stderr",
          "output_type": "stream",
          "text": [
            "INFO:tensorflow:Loading image /Users/niklas/Projects/GestureRecognition/Custom_Model/rps_data_sample/drag/198.jpg\n"
          ]
        },
        {
          "name": "stdout",
          "output_type": "stream",
          "text": [
            "INFO:tensorflow:Loading image /Users/niklas/Projects/GestureRecognition/Custom_Model/rps_data_sample/none/729.jpg\n"
          ]
        },
        {
          "name": "stderr",
          "output_type": "stream",
          "text": [
            "INFO:tensorflow:Loading image /Users/niklas/Projects/GestureRecognition/Custom_Model/rps_data_sample/none/729.jpg\n"
          ]
        },
        {
          "name": "stdout",
          "output_type": "stream",
          "text": [
            "INFO:tensorflow:Loading image /Users/niklas/Projects/GestureRecognition/Custom_Model/rps_data_sample/click/110.jpg\n"
          ]
        },
        {
          "name": "stderr",
          "output_type": "stream",
          "text": [
            "INFO:tensorflow:Loading image /Users/niklas/Projects/GestureRecognition/Custom_Model/rps_data_sample/click/110.jpg\n"
          ]
        },
        {
          "name": "stdout",
          "output_type": "stream",
          "text": [
            "INFO:tensorflow:Loading image /Users/niklas/Projects/GestureRecognition/Custom_Model/rps_data_sample/drag/195.jpg\n"
          ]
        },
        {
          "name": "stderr",
          "output_type": "stream",
          "text": [
            "INFO:tensorflow:Loading image /Users/niklas/Projects/GestureRecognition/Custom_Model/rps_data_sample/drag/195.jpg\n"
          ]
        },
        {
          "name": "stdout",
          "output_type": "stream",
          "text": [
            "INFO:tensorflow:Loading image /Users/niklas/Projects/GestureRecognition/Custom_Model/rps_data_sample/click/8.jpg\n"
          ]
        },
        {
          "name": "stderr",
          "output_type": "stream",
          "text": [
            "INFO:tensorflow:Loading image /Users/niklas/Projects/GestureRecognition/Custom_Model/rps_data_sample/click/8.jpg\n"
          ]
        },
        {
          "name": "stdout",
          "output_type": "stream",
          "text": [
            "INFO:tensorflow:Loading image /Users/niklas/Projects/GestureRecognition/Custom_Model/rps_data_sample/click/12.jpg\n"
          ]
        },
        {
          "name": "stderr",
          "output_type": "stream",
          "text": [
            "INFO:tensorflow:Loading image /Users/niklas/Projects/GestureRecognition/Custom_Model/rps_data_sample/click/12.jpg\n"
          ]
        },
        {
          "name": "stdout",
          "output_type": "stream",
          "text": [
            "INFO:tensorflow:Loading image /Users/niklas/Projects/GestureRecognition/Custom_Model/rps_data_sample/click/152.jpg\n"
          ]
        },
        {
          "name": "stderr",
          "output_type": "stream",
          "text": [
            "INFO:tensorflow:Loading image /Users/niklas/Projects/GestureRecognition/Custom_Model/rps_data_sample/click/152.jpg\n"
          ]
        },
        {
          "name": "stdout",
          "output_type": "stream",
          "text": [
            "INFO:tensorflow:Loading image /Users/niklas/Projects/GestureRecognition/Custom_Model/rps_data_sample/click/44.jpg\n"
          ]
        },
        {
          "name": "stderr",
          "output_type": "stream",
          "text": [
            "INFO:tensorflow:Loading image /Users/niklas/Projects/GestureRecognition/Custom_Model/rps_data_sample/click/44.jpg\n"
          ]
        },
        {
          "name": "stdout",
          "output_type": "stream",
          "text": [
            "INFO:tensorflow:Loading image /Users/niklas/Projects/GestureRecognition/Custom_Model/rps_data_sample/click/198.jpg\n"
          ]
        },
        {
          "name": "stderr",
          "output_type": "stream",
          "text": [
            "INFO:tensorflow:Loading image /Users/niklas/Projects/GestureRecognition/Custom_Model/rps_data_sample/click/198.jpg\n"
          ]
        },
        {
          "name": "stdout",
          "output_type": "stream",
          "text": [
            "INFO:tensorflow:Loading image /Users/niklas/Projects/GestureRecognition/Custom_Model/rps_data_sample/none/1802.jpg\n"
          ]
        },
        {
          "name": "stderr",
          "output_type": "stream",
          "text": [
            "INFO:tensorflow:Loading image /Users/niklas/Projects/GestureRecognition/Custom_Model/rps_data_sample/none/1802.jpg\n"
          ]
        },
        {
          "name": "stdout",
          "output_type": "stream",
          "text": [
            "INFO:tensorflow:Loading image /Users/niklas/Projects/GestureRecognition/Custom_Model/rps_data_sample/drag/183.jpg\n"
          ]
        },
        {
          "name": "stderr",
          "output_type": "stream",
          "text": [
            "INFO:tensorflow:Loading image /Users/niklas/Projects/GestureRecognition/Custom_Model/rps_data_sample/drag/183.jpg\n"
          ]
        },
        {
          "name": "stdout",
          "output_type": "stream",
          "text": [
            "INFO:tensorflow:Loading image /Users/niklas/Projects/GestureRecognition/Custom_Model/rps_data_sample/none/939.jpg\n"
          ]
        },
        {
          "name": "stderr",
          "output_type": "stream",
          "text": [
            "INFO:tensorflow:Loading image /Users/niklas/Projects/GestureRecognition/Custom_Model/rps_data_sample/none/939.jpg\n"
          ]
        },
        {
          "name": "stdout",
          "output_type": "stream",
          "text": [
            "INFO:tensorflow:Loading image /Users/niklas/Projects/GestureRecognition/Custom_Model/rps_data_sample/none/334.jpg\n"
          ]
        },
        {
          "name": "stderr",
          "output_type": "stream",
          "text": [
            "INFO:tensorflow:Loading image /Users/niklas/Projects/GestureRecognition/Custom_Model/rps_data_sample/none/334.jpg\n"
          ]
        },
        {
          "name": "stdout",
          "output_type": "stream",
          "text": [
            "INFO:tensorflow:Loading image /Users/niklas/Projects/GestureRecognition/Custom_Model/rps_data_sample/drag/181.jpg\n"
          ]
        },
        {
          "name": "stderr",
          "output_type": "stream",
          "text": [
            "INFO:tensorflow:Loading image /Users/niklas/Projects/GestureRecognition/Custom_Model/rps_data_sample/drag/181.jpg\n"
          ]
        },
        {
          "name": "stdout",
          "output_type": "stream",
          "text": [
            "INFO:tensorflow:Loading image /Users/niklas/Projects/GestureRecognition/Custom_Model/rps_data_sample/click/19.jpg\n"
          ]
        },
        {
          "name": "stderr",
          "output_type": "stream",
          "text": [
            "INFO:tensorflow:Loading image /Users/niklas/Projects/GestureRecognition/Custom_Model/rps_data_sample/click/19.jpg\n"
          ]
        },
        {
          "name": "stdout",
          "output_type": "stream",
          "text": [
            "INFO:tensorflow:Loading image /Users/niklas/Projects/GestureRecognition/Custom_Model/rps_data_sample/drag/50.jpg\n"
          ]
        },
        {
          "name": "stderr",
          "output_type": "stream",
          "text": [
            "INFO:tensorflow:Loading image /Users/niklas/Projects/GestureRecognition/Custom_Model/rps_data_sample/drag/50.jpg\n"
          ]
        },
        {
          "name": "stdout",
          "output_type": "stream",
          "text": [
            "INFO:tensorflow:Loading image /Users/niklas/Projects/GestureRecognition/Custom_Model/rps_data_sample/none/1048.jpg\n"
          ]
        },
        {
          "name": "stderr",
          "output_type": "stream",
          "text": [
            "INFO:tensorflow:Loading image /Users/niklas/Projects/GestureRecognition/Custom_Model/rps_data_sample/none/1048.jpg\n"
          ]
        },
        {
          "name": "stdout",
          "output_type": "stream",
          "text": [
            "INFO:tensorflow:Loading image /Users/niklas/Projects/GestureRecognition/Custom_Model/rps_data_sample/click/224.jpg\n"
          ]
        },
        {
          "name": "stderr",
          "output_type": "stream",
          "text": [
            "INFO:tensorflow:Loading image /Users/niklas/Projects/GestureRecognition/Custom_Model/rps_data_sample/click/224.jpg\n"
          ]
        },
        {
          "name": "stdout",
          "output_type": "stream",
          "text": [
            "INFO:tensorflow:Loading image /Users/niklas/Projects/GestureRecognition/Custom_Model/rps_data_sample/drag/45.jpg\n"
          ]
        },
        {
          "name": "stderr",
          "output_type": "stream",
          "text": [
            "INFO:tensorflow:Loading image /Users/niklas/Projects/GestureRecognition/Custom_Model/rps_data_sample/drag/45.jpg\n"
          ]
        },
        {
          "name": "stdout",
          "output_type": "stream",
          "text": [
            "INFO:tensorflow:Loading image /Users/niklas/Projects/GestureRecognition/Custom_Model/rps_data_sample/none/704.jpg\n"
          ]
        },
        {
          "name": "stderr",
          "output_type": "stream",
          "text": [
            "INFO:tensorflow:Loading image /Users/niklas/Projects/GestureRecognition/Custom_Model/rps_data_sample/none/704.jpg\n"
          ]
        },
        {
          "name": "stdout",
          "output_type": "stream",
          "text": [
            "INFO:tensorflow:Loading image /Users/niklas/Projects/GestureRecognition/Custom_Model/rps_data_sample/drag/68.jpg\n"
          ]
        },
        {
          "name": "stderr",
          "output_type": "stream",
          "text": [
            "INFO:tensorflow:Loading image /Users/niklas/Projects/GestureRecognition/Custom_Model/rps_data_sample/drag/68.jpg\n"
          ]
        },
        {
          "name": "stdout",
          "output_type": "stream",
          "text": [
            "INFO:tensorflow:Loading image /Users/niklas/Projects/GestureRecognition/Custom_Model/rps_data_sample/none/779.jpg\n"
          ]
        },
        {
          "name": "stderr",
          "output_type": "stream",
          "text": [
            "INFO:tensorflow:Loading image /Users/niklas/Projects/GestureRecognition/Custom_Model/rps_data_sample/none/779.jpg\n"
          ]
        },
        {
          "name": "stdout",
          "output_type": "stream",
          "text": [
            "INFO:tensorflow:Loading image /Users/niklas/Projects/GestureRecognition/Custom_Model/rps_data_sample/drag/155.jpg\n"
          ]
        },
        {
          "name": "stderr",
          "output_type": "stream",
          "text": [
            "INFO:tensorflow:Loading image /Users/niklas/Projects/GestureRecognition/Custom_Model/rps_data_sample/drag/155.jpg\n"
          ]
        },
        {
          "name": "stdout",
          "output_type": "stream",
          "text": [
            "INFO:tensorflow:Loading image /Users/niklas/Projects/GestureRecognition/Custom_Model/rps_data_sample/none/1883.jpg\n"
          ]
        },
        {
          "name": "stderr",
          "output_type": "stream",
          "text": [
            "INFO:tensorflow:Loading image /Users/niklas/Projects/GestureRecognition/Custom_Model/rps_data_sample/none/1883.jpg\n"
          ]
        },
        {
          "name": "stdout",
          "output_type": "stream",
          "text": [
            "INFO:tensorflow:Loading image /Users/niklas/Projects/GestureRecognition/Custom_Model/rps_data_sample/none/1089.jpg\n"
          ]
        },
        {
          "name": "stderr",
          "output_type": "stream",
          "text": [
            "INFO:tensorflow:Loading image /Users/niklas/Projects/GestureRecognition/Custom_Model/rps_data_sample/none/1089.jpg\n"
          ]
        },
        {
          "name": "stdout",
          "output_type": "stream",
          "text": [
            "INFO:tensorflow:Loading image /Users/niklas/Projects/GestureRecognition/Custom_Model/rps_data_sample/drag/137.jpg\n"
          ]
        },
        {
          "name": "stderr",
          "output_type": "stream",
          "text": [
            "INFO:tensorflow:Loading image /Users/niklas/Projects/GestureRecognition/Custom_Model/rps_data_sample/drag/137.jpg\n"
          ]
        },
        {
          "name": "stdout",
          "output_type": "stream",
          "text": [
            "INFO:tensorflow:Loading image /Users/niklas/Projects/GestureRecognition/Custom_Model/rps_data_sample/none/1214.jpg\n"
          ]
        },
        {
          "name": "stderr",
          "output_type": "stream",
          "text": [
            "INFO:tensorflow:Loading image /Users/niklas/Projects/GestureRecognition/Custom_Model/rps_data_sample/none/1214.jpg\n"
          ]
        },
        {
          "name": "stdout",
          "output_type": "stream",
          "text": [
            "INFO:tensorflow:Loading image /Users/niklas/Projects/GestureRecognition/Custom_Model/rps_data_sample/drag/81.jpg\n"
          ]
        },
        {
          "name": "stderr",
          "output_type": "stream",
          "text": [
            "INFO:tensorflow:Loading image /Users/niklas/Projects/GestureRecognition/Custom_Model/rps_data_sample/drag/81.jpg\n"
          ]
        },
        {
          "name": "stdout",
          "output_type": "stream",
          "text": [
            "INFO:tensorflow:Loading image /Users/niklas/Projects/GestureRecognition/Custom_Model/rps_data_sample/none/1876.jpg\n"
          ]
        },
        {
          "name": "stderr",
          "output_type": "stream",
          "text": [
            "INFO:tensorflow:Loading image /Users/niklas/Projects/GestureRecognition/Custom_Model/rps_data_sample/none/1876.jpg\n"
          ]
        },
        {
          "name": "stdout",
          "output_type": "stream",
          "text": [
            "INFO:tensorflow:Loading image /Users/niklas/Projects/GestureRecognition/Custom_Model/rps_data_sample/none/1823.jpg\n"
          ]
        },
        {
          "name": "stderr",
          "output_type": "stream",
          "text": [
            "INFO:tensorflow:Loading image /Users/niklas/Projects/GestureRecognition/Custom_Model/rps_data_sample/none/1823.jpg\n"
          ]
        },
        {
          "name": "stdout",
          "output_type": "stream",
          "text": [
            "INFO:tensorflow:Loading image /Users/niklas/Projects/GestureRecognition/Custom_Model/rps_data_sample/none/1552.jpg\n"
          ]
        },
        {
          "name": "stderr",
          "output_type": "stream",
          "text": [
            "INFO:tensorflow:Loading image /Users/niklas/Projects/GestureRecognition/Custom_Model/rps_data_sample/none/1552.jpg\n"
          ]
        },
        {
          "name": "stdout",
          "output_type": "stream",
          "text": [
            "INFO:tensorflow:Loading image /Users/niklas/Projects/GestureRecognition/Custom_Model/rps_data_sample/drag/196.jpg\n"
          ]
        },
        {
          "name": "stderr",
          "output_type": "stream",
          "text": [
            "INFO:tensorflow:Loading image /Users/niklas/Projects/GestureRecognition/Custom_Model/rps_data_sample/drag/196.jpg\n"
          ]
        },
        {
          "name": "stdout",
          "output_type": "stream",
          "text": [
            "INFO:tensorflow:Loading image /Users/niklas/Projects/GestureRecognition/Custom_Model/rps_data_sample/click/27.jpg\n"
          ]
        },
        {
          "name": "stderr",
          "output_type": "stream",
          "text": [
            "INFO:tensorflow:Loading image /Users/niklas/Projects/GestureRecognition/Custom_Model/rps_data_sample/click/27.jpg\n"
          ]
        },
        {
          "name": "stdout",
          "output_type": "stream",
          "text": [
            "INFO:tensorflow:Loading image /Users/niklas/Projects/GestureRecognition/Custom_Model/rps_data_sample/drag/145.jpg\n"
          ]
        },
        {
          "name": "stderr",
          "output_type": "stream",
          "text": [
            "INFO:tensorflow:Loading image /Users/niklas/Projects/GestureRecognition/Custom_Model/rps_data_sample/drag/145.jpg\n"
          ]
        },
        {
          "name": "stdout",
          "output_type": "stream",
          "text": [
            "INFO:tensorflow:Loading image /Users/niklas/Projects/GestureRecognition/Custom_Model/rps_data_sample/click/75.jpg\n"
          ]
        },
        {
          "name": "stderr",
          "output_type": "stream",
          "text": [
            "INFO:tensorflow:Loading image /Users/niklas/Projects/GestureRecognition/Custom_Model/rps_data_sample/click/75.jpg\n"
          ]
        },
        {
          "name": "stdout",
          "output_type": "stream",
          "text": [
            "INFO:tensorflow:Loading image /Users/niklas/Projects/GestureRecognition/Custom_Model/rps_data_sample/click/74.jpg\n"
          ]
        },
        {
          "name": "stderr",
          "output_type": "stream",
          "text": [
            "INFO:tensorflow:Loading image /Users/niklas/Projects/GestureRecognition/Custom_Model/rps_data_sample/click/74.jpg\n"
          ]
        },
        {
          "name": "stdout",
          "output_type": "stream",
          "text": [
            "INFO:tensorflow:Loading image /Users/niklas/Projects/GestureRecognition/Custom_Model/rps_data_sample/click/80.jpg\n"
          ]
        },
        {
          "name": "stderr",
          "output_type": "stream",
          "text": [
            "INFO:tensorflow:Loading image /Users/niklas/Projects/GestureRecognition/Custom_Model/rps_data_sample/click/80.jpg\n"
          ]
        },
        {
          "name": "stdout",
          "output_type": "stream",
          "text": [
            "INFO:tensorflow:Loading image /Users/niklas/Projects/GestureRecognition/Custom_Model/rps_data_sample/drag/121.jpg\n"
          ]
        },
        {
          "name": "stderr",
          "output_type": "stream",
          "text": [
            "INFO:tensorflow:Loading image /Users/niklas/Projects/GestureRecognition/Custom_Model/rps_data_sample/drag/121.jpg\n"
          ]
        },
        {
          "name": "stdout",
          "output_type": "stream",
          "text": [
            "INFO:tensorflow:Loading image /Users/niklas/Projects/GestureRecognition/Custom_Model/rps_data_sample/click/197.jpg\n"
          ]
        },
        {
          "name": "stderr",
          "output_type": "stream",
          "text": [
            "INFO:tensorflow:Loading image /Users/niklas/Projects/GestureRecognition/Custom_Model/rps_data_sample/click/197.jpg\n"
          ]
        },
        {
          "name": "stdout",
          "output_type": "stream",
          "text": [
            "INFO:tensorflow:Loading image /Users/niklas/Projects/GestureRecognition/Custom_Model/rps_data_sample/drag/169.jpg\n"
          ]
        },
        {
          "name": "stderr",
          "output_type": "stream",
          "text": [
            "INFO:tensorflow:Loading image /Users/niklas/Projects/GestureRecognition/Custom_Model/rps_data_sample/drag/169.jpg\n"
          ]
        },
        {
          "name": "stdout",
          "output_type": "stream",
          "text": [
            "INFO:tensorflow:Loading image /Users/niklas/Projects/GestureRecognition/Custom_Model/rps_data_sample/drag/89.jpg\n"
          ]
        },
        {
          "name": "stderr",
          "output_type": "stream",
          "text": [
            "INFO:tensorflow:Loading image /Users/niklas/Projects/GestureRecognition/Custom_Model/rps_data_sample/drag/89.jpg\n"
          ]
        },
        {
          "name": "stdout",
          "output_type": "stream",
          "text": [
            "INFO:tensorflow:Loading image /Users/niklas/Projects/GestureRecognition/Custom_Model/rps_data_sample/click/196.jpg\n"
          ]
        },
        {
          "name": "stderr",
          "output_type": "stream",
          "text": [
            "INFO:tensorflow:Loading image /Users/niklas/Projects/GestureRecognition/Custom_Model/rps_data_sample/click/196.jpg\n"
          ]
        },
        {
          "name": "stdout",
          "output_type": "stream",
          "text": [
            "INFO:tensorflow:Loading image /Users/niklas/Projects/GestureRecognition/Custom_Model/rps_data_sample/none/802.jpg\n"
          ]
        },
        {
          "name": "stderr",
          "output_type": "stream",
          "text": [
            "INFO:tensorflow:Loading image /Users/niklas/Projects/GestureRecognition/Custom_Model/rps_data_sample/none/802.jpg\n"
          ]
        },
        {
          "name": "stdout",
          "output_type": "stream",
          "text": [
            "INFO:tensorflow:Loading image /Users/niklas/Projects/GestureRecognition/Custom_Model/rps_data_sample/click/215.jpg\n"
          ]
        },
        {
          "name": "stderr",
          "output_type": "stream",
          "text": [
            "INFO:tensorflow:Loading image /Users/niklas/Projects/GestureRecognition/Custom_Model/rps_data_sample/click/215.jpg\n"
          ]
        },
        {
          "name": "stdout",
          "output_type": "stream",
          "text": [
            "INFO:tensorflow:Loading image /Users/niklas/Projects/GestureRecognition/Custom_Model/rps_data_sample/drag/126.jpg\n"
          ]
        },
        {
          "name": "stderr",
          "output_type": "stream",
          "text": [
            "INFO:tensorflow:Loading image /Users/niklas/Projects/GestureRecognition/Custom_Model/rps_data_sample/drag/126.jpg\n"
          ]
        },
        {
          "name": "stdout",
          "output_type": "stream",
          "text": [
            "INFO:tensorflow:Loading image /Users/niklas/Projects/GestureRecognition/Custom_Model/rps_data_sample/drag/157.jpg\n"
          ]
        },
        {
          "name": "stderr",
          "output_type": "stream",
          "text": [
            "INFO:tensorflow:Loading image /Users/niklas/Projects/GestureRecognition/Custom_Model/rps_data_sample/drag/157.jpg\n"
          ]
        },
        {
          "name": "stdout",
          "output_type": "stream",
          "text": [
            "INFO:tensorflow:Loading image /Users/niklas/Projects/GestureRecognition/Custom_Model/rps_data_sample/click/192.jpg\n"
          ]
        },
        {
          "name": "stderr",
          "output_type": "stream",
          "text": [
            "INFO:tensorflow:Loading image /Users/niklas/Projects/GestureRecognition/Custom_Model/rps_data_sample/click/192.jpg\n"
          ]
        },
        {
          "name": "stdout",
          "output_type": "stream",
          "text": [
            "INFO:tensorflow:Loading image /Users/niklas/Projects/GestureRecognition/Custom_Model/rps_data_sample/click/115.jpg\n"
          ]
        },
        {
          "name": "stderr",
          "output_type": "stream",
          "text": [
            "INFO:tensorflow:Loading image /Users/niklas/Projects/GestureRecognition/Custom_Model/rps_data_sample/click/115.jpg\n"
          ]
        },
        {
          "name": "stdout",
          "output_type": "stream",
          "text": [
            "INFO:tensorflow:Loading image /Users/niklas/Projects/GestureRecognition/Custom_Model/rps_data_sample/click/213.jpg\n"
          ]
        },
        {
          "name": "stderr",
          "output_type": "stream",
          "text": [
            "INFO:tensorflow:Loading image /Users/niklas/Projects/GestureRecognition/Custom_Model/rps_data_sample/click/213.jpg\n"
          ]
        },
        {
          "name": "stdout",
          "output_type": "stream",
          "text": [
            "INFO:tensorflow:Loading image /Users/niklas/Projects/GestureRecognition/Custom_Model/rps_data_sample/none/1308.jpg\n"
          ]
        },
        {
          "name": "stderr",
          "output_type": "stream",
          "text": [
            "INFO:tensorflow:Loading image /Users/niklas/Projects/GestureRecognition/Custom_Model/rps_data_sample/none/1308.jpg\n"
          ]
        },
        {
          "name": "stdout",
          "output_type": "stream",
          "text": [
            "INFO:tensorflow:Loading image /Users/niklas/Projects/GestureRecognition/Custom_Model/rps_data_sample/drag/161.jpg\n"
          ]
        },
        {
          "name": "stderr",
          "output_type": "stream",
          "text": [
            "INFO:tensorflow:Loading image /Users/niklas/Projects/GestureRecognition/Custom_Model/rps_data_sample/drag/161.jpg\n"
          ]
        },
        {
          "name": "stdout",
          "output_type": "stream",
          "text": [
            "INFO:tensorflow:Loading image /Users/niklas/Projects/GestureRecognition/Custom_Model/rps_data_sample/drag/95.jpg\n"
          ]
        },
        {
          "name": "stderr",
          "output_type": "stream",
          "text": [
            "INFO:tensorflow:Loading image /Users/niklas/Projects/GestureRecognition/Custom_Model/rps_data_sample/drag/95.jpg\n"
          ]
        },
        {
          "name": "stdout",
          "output_type": "stream",
          "text": [
            "INFO:tensorflow:Loading image /Users/niklas/Projects/GestureRecognition/Custom_Model/rps_data_sample/none/1814.jpg\n"
          ]
        },
        {
          "name": "stderr",
          "output_type": "stream",
          "text": [
            "INFO:tensorflow:Loading image /Users/niklas/Projects/GestureRecognition/Custom_Model/rps_data_sample/none/1814.jpg\n"
          ]
        },
        {
          "name": "stdout",
          "output_type": "stream",
          "text": [
            "INFO:tensorflow:Loading image /Users/niklas/Projects/GestureRecognition/Custom_Model/rps_data_sample/drag/167.jpg\n"
          ]
        },
        {
          "name": "stderr",
          "output_type": "stream",
          "text": [
            "INFO:tensorflow:Loading image /Users/niklas/Projects/GestureRecognition/Custom_Model/rps_data_sample/drag/167.jpg\n"
          ]
        },
        {
          "name": "stdout",
          "output_type": "stream",
          "text": [
            "INFO:tensorflow:Loading image /Users/niklas/Projects/GestureRecognition/Custom_Model/rps_data_sample/click/35.jpg\n"
          ]
        },
        {
          "name": "stderr",
          "output_type": "stream",
          "text": [
            "INFO:tensorflow:Loading image /Users/niklas/Projects/GestureRecognition/Custom_Model/rps_data_sample/click/35.jpg\n"
          ]
        },
        {
          "name": "stdout",
          "output_type": "stream",
          "text": [
            "INFO:tensorflow:Loading image /Users/niklas/Projects/GestureRecognition/Custom_Model/rps_data_sample/click/39.jpg\n"
          ]
        },
        {
          "name": "stderr",
          "output_type": "stream",
          "text": [
            "INFO:tensorflow:Loading image /Users/niklas/Projects/GestureRecognition/Custom_Model/rps_data_sample/click/39.jpg\n"
          ]
        },
        {
          "name": "stdout",
          "output_type": "stream",
          "text": [
            "INFO:tensorflow:Loading image /Users/niklas/Projects/GestureRecognition/Custom_Model/rps_data_sample/click/29.jpg\n"
          ]
        },
        {
          "name": "stderr",
          "output_type": "stream",
          "text": [
            "INFO:tensorflow:Loading image /Users/niklas/Projects/GestureRecognition/Custom_Model/rps_data_sample/click/29.jpg\n"
          ]
        },
        {
          "name": "stdout",
          "output_type": "stream",
          "text": [
            "INFO:tensorflow:Loading image /Users/niklas/Projects/GestureRecognition/Custom_Model/rps_data_sample/drag/130.jpg\n"
          ]
        },
        {
          "name": "stderr",
          "output_type": "stream",
          "text": [
            "INFO:tensorflow:Loading image /Users/niklas/Projects/GestureRecognition/Custom_Model/rps_data_sample/drag/130.jpg\n"
          ]
        },
        {
          "name": "stdout",
          "output_type": "stream",
          "text": [
            "INFO:tensorflow:Loading image /Users/niklas/Projects/GestureRecognition/Custom_Model/rps_data_sample/none/270.jpg\n"
          ]
        },
        {
          "name": "stderr",
          "output_type": "stream",
          "text": [
            "INFO:tensorflow:Loading image /Users/niklas/Projects/GestureRecognition/Custom_Model/rps_data_sample/none/270.jpg\n"
          ]
        },
        {
          "name": "stdout",
          "output_type": "stream",
          "text": [
            "INFO:tensorflow:Loading image /Users/niklas/Projects/GestureRecognition/Custom_Model/rps_data_sample/drag/202.jpg\n"
          ]
        },
        {
          "name": "stderr",
          "output_type": "stream",
          "text": [
            "INFO:tensorflow:Loading image /Users/niklas/Projects/GestureRecognition/Custom_Model/rps_data_sample/drag/202.jpg\n"
          ]
        },
        {
          "name": "stdout",
          "output_type": "stream",
          "text": [
            "INFO:tensorflow:Loading image /Users/niklas/Projects/GestureRecognition/Custom_Model/rps_data_sample/click/93.jpg\n"
          ]
        },
        {
          "name": "stderr",
          "output_type": "stream",
          "text": [
            "INFO:tensorflow:Loading image /Users/niklas/Projects/GestureRecognition/Custom_Model/rps_data_sample/click/93.jpg\n"
          ]
        },
        {
          "name": "stdout",
          "output_type": "stream",
          "text": [
            "INFO:tensorflow:Loading image /Users/niklas/Projects/GestureRecognition/Custom_Model/rps_data_sample/none/1469.jpg\n"
          ]
        },
        {
          "name": "stderr",
          "output_type": "stream",
          "text": [
            "INFO:tensorflow:Loading image /Users/niklas/Projects/GestureRecognition/Custom_Model/rps_data_sample/none/1469.jpg\n"
          ]
        },
        {
          "name": "stdout",
          "output_type": "stream",
          "text": [
            "INFO:tensorflow:Loading image /Users/niklas/Projects/GestureRecognition/Custom_Model/rps_data_sample/click/23.jpg\n"
          ]
        },
        {
          "name": "stderr",
          "output_type": "stream",
          "text": [
            "INFO:tensorflow:Loading image /Users/niklas/Projects/GestureRecognition/Custom_Model/rps_data_sample/click/23.jpg\n"
          ]
        },
        {
          "name": "stdout",
          "output_type": "stream",
          "text": [
            "INFO:tensorflow:Loading image /Users/niklas/Projects/GestureRecognition/Custom_Model/rps_data_sample/click/141.jpg\n"
          ]
        },
        {
          "name": "stderr",
          "output_type": "stream",
          "text": [
            "INFO:tensorflow:Loading image /Users/niklas/Projects/GestureRecognition/Custom_Model/rps_data_sample/click/141.jpg\n"
          ]
        },
        {
          "name": "stdout",
          "output_type": "stream",
          "text": [
            "INFO:tensorflow:Loading image /Users/niklas/Projects/GestureRecognition/Custom_Model/rps_data_sample/click/166.jpg\n"
          ]
        },
        {
          "name": "stderr",
          "output_type": "stream",
          "text": [
            "INFO:tensorflow:Loading image /Users/niklas/Projects/GestureRecognition/Custom_Model/rps_data_sample/click/166.jpg\n"
          ]
        },
        {
          "name": "stdout",
          "output_type": "stream",
          "text": [
            "INFO:tensorflow:Loading image /Users/niklas/Projects/GestureRecognition/Custom_Model/rps_data_sample/click/24.jpg\n"
          ]
        },
        {
          "name": "stderr",
          "output_type": "stream",
          "text": [
            "INFO:tensorflow:Loading image /Users/niklas/Projects/GestureRecognition/Custom_Model/rps_data_sample/click/24.jpg\n"
          ]
        },
        {
          "name": "stdout",
          "output_type": "stream",
          "text": [
            "INFO:tensorflow:Loading image /Users/niklas/Projects/GestureRecognition/Custom_Model/rps_data_sample/drag/57.jpg\n"
          ]
        },
        {
          "name": "stderr",
          "output_type": "stream",
          "text": [
            "INFO:tensorflow:Loading image /Users/niklas/Projects/GestureRecognition/Custom_Model/rps_data_sample/drag/57.jpg\n"
          ]
        },
        {
          "name": "stdout",
          "output_type": "stream",
          "text": [
            "INFO:tensorflow:Loading image /Users/niklas/Projects/GestureRecognition/Custom_Model/rps_data_sample/drag/164.jpg\n"
          ]
        },
        {
          "name": "stderr",
          "output_type": "stream",
          "text": [
            "INFO:tensorflow:Loading image /Users/niklas/Projects/GestureRecognition/Custom_Model/rps_data_sample/drag/164.jpg\n"
          ]
        },
        {
          "name": "stdout",
          "output_type": "stream",
          "text": [
            "INFO:tensorflow:Loading image /Users/niklas/Projects/GestureRecognition/Custom_Model/rps_data_sample/drag/58.jpg\n"
          ]
        },
        {
          "name": "stderr",
          "output_type": "stream",
          "text": [
            "INFO:tensorflow:Loading image /Users/niklas/Projects/GestureRecognition/Custom_Model/rps_data_sample/drag/58.jpg\n"
          ]
        },
        {
          "name": "stdout",
          "output_type": "stream",
          "text": [
            "INFO:tensorflow:Loading image /Users/niklas/Projects/GestureRecognition/Custom_Model/rps_data_sample/drag/56.jpg\n"
          ]
        },
        {
          "name": "stderr",
          "output_type": "stream",
          "text": [
            "INFO:tensorflow:Loading image /Users/niklas/Projects/GestureRecognition/Custom_Model/rps_data_sample/drag/56.jpg\n"
          ]
        },
        {
          "name": "stdout",
          "output_type": "stream",
          "text": [
            "INFO:tensorflow:Loading image /Users/niklas/Projects/GestureRecognition/Custom_Model/rps_data_sample/click/216.jpg\n"
          ]
        },
        {
          "name": "stderr",
          "output_type": "stream",
          "text": [
            "INFO:tensorflow:Loading image /Users/niklas/Projects/GestureRecognition/Custom_Model/rps_data_sample/click/216.jpg\n"
          ]
        },
        {
          "name": "stdout",
          "output_type": "stream",
          "text": [
            "INFO:tensorflow:Loading image /Users/niklas/Projects/GestureRecognition/Custom_Model/rps_data_sample/drag/32.jpg\n"
          ]
        },
        {
          "name": "stderr",
          "output_type": "stream",
          "text": [
            "INFO:tensorflow:Loading image /Users/niklas/Projects/GestureRecognition/Custom_Model/rps_data_sample/drag/32.jpg\n"
          ]
        },
        {
          "name": "stdout",
          "output_type": "stream",
          "text": [
            "INFO:tensorflow:Loading image /Users/niklas/Projects/GestureRecognition/Custom_Model/rps_data_sample/none/590.jpg\n"
          ]
        },
        {
          "name": "stderr",
          "output_type": "stream",
          "text": [
            "INFO:tensorflow:Loading image /Users/niklas/Projects/GestureRecognition/Custom_Model/rps_data_sample/none/590.jpg\n"
          ]
        },
        {
          "name": "stdout",
          "output_type": "stream",
          "text": [
            "INFO:tensorflow:Loading image /Users/niklas/Projects/GestureRecognition/Custom_Model/rps_data_sample/drag/34.jpg\n"
          ]
        },
        {
          "name": "stderr",
          "output_type": "stream",
          "text": [
            "INFO:tensorflow:Loading image /Users/niklas/Projects/GestureRecognition/Custom_Model/rps_data_sample/drag/34.jpg\n"
          ]
        },
        {
          "name": "stdout",
          "output_type": "stream",
          "text": [
            "INFO:tensorflow:Loading image /Users/niklas/Projects/GestureRecognition/Custom_Model/rps_data_sample/click/179.jpg\n"
          ]
        },
        {
          "name": "stderr",
          "output_type": "stream",
          "text": [
            "INFO:tensorflow:Loading image /Users/niklas/Projects/GestureRecognition/Custom_Model/rps_data_sample/click/179.jpg\n"
          ]
        },
        {
          "name": "stdout",
          "output_type": "stream",
          "text": [
            "INFO:tensorflow:Loading image /Users/niklas/Projects/GestureRecognition/Custom_Model/rps_data_sample/drag/9.jpg\n"
          ]
        },
        {
          "name": "stderr",
          "output_type": "stream",
          "text": [
            "INFO:tensorflow:Loading image /Users/niklas/Projects/GestureRecognition/Custom_Model/rps_data_sample/drag/9.jpg\n"
          ]
        },
        {
          "name": "stdout",
          "output_type": "stream",
          "text": [
            "INFO:tensorflow:Loading image /Users/niklas/Projects/GestureRecognition/Custom_Model/rps_data_sample/drag/42.jpg\n"
          ]
        },
        {
          "name": "stderr",
          "output_type": "stream",
          "text": [
            "INFO:tensorflow:Loading image /Users/niklas/Projects/GestureRecognition/Custom_Model/rps_data_sample/drag/42.jpg\n"
          ]
        },
        {
          "name": "stdout",
          "output_type": "stream",
          "text": [
            "INFO:tensorflow:Loading image /Users/niklas/Projects/GestureRecognition/Custom_Model/rps_data_sample/drag/90.jpg\n"
          ]
        },
        {
          "name": "stderr",
          "output_type": "stream",
          "text": [
            "INFO:tensorflow:Loading image /Users/niklas/Projects/GestureRecognition/Custom_Model/rps_data_sample/drag/90.jpg\n"
          ]
        },
        {
          "name": "stdout",
          "output_type": "stream",
          "text": [
            "INFO:tensorflow:Loading image /Users/niklas/Projects/GestureRecognition/Custom_Model/rps_data_sample/click/4.jpg\n"
          ]
        },
        {
          "name": "stderr",
          "output_type": "stream",
          "text": [
            "INFO:tensorflow:Loading image /Users/niklas/Projects/GestureRecognition/Custom_Model/rps_data_sample/click/4.jpg\n"
          ]
        },
        {
          "name": "stdout",
          "output_type": "stream",
          "text": [
            "INFO:tensorflow:Loading image /Users/niklas/Projects/GestureRecognition/Custom_Model/rps_data_sample/drag/15.jpg\n"
          ]
        },
        {
          "name": "stderr",
          "output_type": "stream",
          "text": [
            "INFO:tensorflow:Loading image /Users/niklas/Projects/GestureRecognition/Custom_Model/rps_data_sample/drag/15.jpg\n"
          ]
        },
        {
          "name": "stdout",
          "output_type": "stream",
          "text": [
            "INFO:tensorflow:Loading image /Users/niklas/Projects/GestureRecognition/Custom_Model/rps_data_sample/none/142.jpg\n"
          ]
        },
        {
          "name": "stderr",
          "output_type": "stream",
          "text": [
            "INFO:tensorflow:Loading image /Users/niklas/Projects/GestureRecognition/Custom_Model/rps_data_sample/none/142.jpg\n"
          ]
        },
        {
          "name": "stdout",
          "output_type": "stream",
          "text": [
            "INFO:tensorflow:Loading image /Users/niklas/Projects/GestureRecognition/Custom_Model/rps_data_sample/none/39.jpg\n"
          ]
        },
        {
          "name": "stderr",
          "output_type": "stream",
          "text": [
            "INFO:tensorflow:Loading image /Users/niklas/Projects/GestureRecognition/Custom_Model/rps_data_sample/none/39.jpg\n"
          ]
        },
        {
          "name": "stdout",
          "output_type": "stream",
          "text": [
            "INFO:tensorflow:Loading image /Users/niklas/Projects/GestureRecognition/Custom_Model/rps_data_sample/click/156.jpg\n"
          ]
        },
        {
          "name": "stderr",
          "output_type": "stream",
          "text": [
            "INFO:tensorflow:Loading image /Users/niklas/Projects/GestureRecognition/Custom_Model/rps_data_sample/click/156.jpg\n"
          ]
        },
        {
          "name": "stdout",
          "output_type": "stream",
          "text": [
            "INFO:tensorflow:Loading image /Users/niklas/Projects/GestureRecognition/Custom_Model/rps_data_sample/click/62.jpg\n"
          ]
        },
        {
          "name": "stderr",
          "output_type": "stream",
          "text": [
            "INFO:tensorflow:Loading image /Users/niklas/Projects/GestureRecognition/Custom_Model/rps_data_sample/click/62.jpg\n"
          ]
        },
        {
          "name": "stdout",
          "output_type": "stream",
          "text": [
            "INFO:tensorflow:Loading image /Users/niklas/Projects/GestureRecognition/Custom_Model/rps_data_sample/none/1799.jpg\n"
          ]
        },
        {
          "name": "stderr",
          "output_type": "stream",
          "text": [
            "INFO:tensorflow:Loading image /Users/niklas/Projects/GestureRecognition/Custom_Model/rps_data_sample/none/1799.jpg\n"
          ]
        },
        {
          "name": "stdout",
          "output_type": "stream",
          "text": [
            "INFO:tensorflow:Loading image /Users/niklas/Projects/GestureRecognition/Custom_Model/rps_data_sample/drag/142.jpg\n"
          ]
        },
        {
          "name": "stderr",
          "output_type": "stream",
          "text": [
            "INFO:tensorflow:Loading image /Users/niklas/Projects/GestureRecognition/Custom_Model/rps_data_sample/drag/142.jpg\n"
          ]
        },
        {
          "name": "stdout",
          "output_type": "stream",
          "text": [
            "INFO:tensorflow:Loading image /Users/niklas/Projects/GestureRecognition/Custom_Model/rps_data_sample/drag/86.jpg\n"
          ]
        },
        {
          "name": "stderr",
          "output_type": "stream",
          "text": [
            "INFO:tensorflow:Loading image /Users/niklas/Projects/GestureRecognition/Custom_Model/rps_data_sample/drag/86.jpg\n"
          ]
        },
        {
          "name": "stdout",
          "output_type": "stream",
          "text": [
            "INFO:tensorflow:Loading image /Users/niklas/Projects/GestureRecognition/Custom_Model/rps_data_sample/click/6.jpg\n"
          ]
        },
        {
          "name": "stderr",
          "output_type": "stream",
          "text": [
            "INFO:tensorflow:Loading image /Users/niklas/Projects/GestureRecognition/Custom_Model/rps_data_sample/click/6.jpg\n"
          ]
        },
        {
          "name": "stdout",
          "output_type": "stream",
          "text": [
            "INFO:tensorflow:Loading image /Users/niklas/Projects/GestureRecognition/Custom_Model/rps_data_sample/none/744.jpg\n"
          ]
        },
        {
          "name": "stderr",
          "output_type": "stream",
          "text": [
            "INFO:tensorflow:Loading image /Users/niklas/Projects/GestureRecognition/Custom_Model/rps_data_sample/none/744.jpg\n"
          ]
        },
        {
          "name": "stdout",
          "output_type": "stream",
          "text": [
            "INFO:tensorflow:Loading image /Users/niklas/Projects/GestureRecognition/Custom_Model/rps_data_sample/drag/159.jpg\n"
          ]
        },
        {
          "name": "stderr",
          "output_type": "stream",
          "text": [
            "INFO:tensorflow:Loading image /Users/niklas/Projects/GestureRecognition/Custom_Model/rps_data_sample/drag/159.jpg\n"
          ]
        },
        {
          "name": "stdout",
          "output_type": "stream",
          "text": [
            "INFO:tensorflow:Loading image /Users/niklas/Projects/GestureRecognition/Custom_Model/rps_data_sample/click/92.jpg\n"
          ]
        },
        {
          "name": "stderr",
          "output_type": "stream",
          "text": [
            "INFO:tensorflow:Loading image /Users/niklas/Projects/GestureRecognition/Custom_Model/rps_data_sample/click/92.jpg\n"
          ]
        },
        {
          "name": "stdout",
          "output_type": "stream",
          "text": [
            "INFO:tensorflow:Loading image /Users/niklas/Projects/GestureRecognition/Custom_Model/rps_data_sample/click/177.jpg\n"
          ]
        },
        {
          "name": "stderr",
          "output_type": "stream",
          "text": [
            "INFO:tensorflow:Loading image /Users/niklas/Projects/GestureRecognition/Custom_Model/rps_data_sample/click/177.jpg\n"
          ]
        },
        {
          "name": "stdout",
          "output_type": "stream",
          "text": [
            "INFO:tensorflow:Loading image /Users/niklas/Projects/GestureRecognition/Custom_Model/rps_data_sample/drag/201.jpg\n"
          ]
        },
        {
          "name": "stderr",
          "output_type": "stream",
          "text": [
            "INFO:tensorflow:Loading image /Users/niklas/Projects/GestureRecognition/Custom_Model/rps_data_sample/drag/201.jpg\n"
          ]
        },
        {
          "name": "stdout",
          "output_type": "stream",
          "text": [
            "INFO:tensorflow:Loading image /Users/niklas/Projects/GestureRecognition/Custom_Model/rps_data_sample/none/1488.jpg\n"
          ]
        },
        {
          "name": "stderr",
          "output_type": "stream",
          "text": [
            "INFO:tensorflow:Loading image /Users/niklas/Projects/GestureRecognition/Custom_Model/rps_data_sample/none/1488.jpg\n"
          ]
        },
        {
          "name": "stdout",
          "output_type": "stream",
          "text": [
            "INFO:tensorflow:Loading image /Users/niklas/Projects/GestureRecognition/Custom_Model/rps_data_sample/click/147.jpg\n"
          ]
        },
        {
          "name": "stderr",
          "output_type": "stream",
          "text": [
            "INFO:tensorflow:Loading image /Users/niklas/Projects/GestureRecognition/Custom_Model/rps_data_sample/click/147.jpg\n"
          ]
        },
        {
          "name": "stdout",
          "output_type": "stream",
          "text": [
            "INFO:tensorflow:Loading image /Users/niklas/Projects/GestureRecognition/Custom_Model/rps_data_sample/none/1712.jpg\n"
          ]
        },
        {
          "name": "stderr",
          "output_type": "stream",
          "text": [
            "INFO:tensorflow:Loading image /Users/niklas/Projects/GestureRecognition/Custom_Model/rps_data_sample/none/1712.jpg\n"
          ]
        },
        {
          "name": "stdout",
          "output_type": "stream",
          "text": [
            "INFO:tensorflow:Loading image /Users/niklas/Projects/GestureRecognition/Custom_Model/rps_data_sample/click/54.jpg\n"
          ]
        },
        {
          "name": "stderr",
          "output_type": "stream",
          "text": [
            "INFO:tensorflow:Loading image /Users/niklas/Projects/GestureRecognition/Custom_Model/rps_data_sample/click/54.jpg\n"
          ]
        },
        {
          "name": "stdout",
          "output_type": "stream",
          "text": [
            "INFO:tensorflow:Loading image /Users/niklas/Projects/GestureRecognition/Custom_Model/rps_data_sample/click/70.jpg\n"
          ]
        },
        {
          "name": "stderr",
          "output_type": "stream",
          "text": [
            "INFO:tensorflow:Loading image /Users/niklas/Projects/GestureRecognition/Custom_Model/rps_data_sample/click/70.jpg\n"
          ]
        },
        {
          "name": "stdout",
          "output_type": "stream",
          "text": [
            "INFO:tensorflow:Loading image /Users/niklas/Projects/GestureRecognition/Custom_Model/rps_data_sample/click/69.jpg\n"
          ]
        },
        {
          "name": "stderr",
          "output_type": "stream",
          "text": [
            "INFO:tensorflow:Loading image /Users/niklas/Projects/GestureRecognition/Custom_Model/rps_data_sample/click/69.jpg\n"
          ]
        },
        {
          "name": "stdout",
          "output_type": "stream",
          "text": [
            "INFO:tensorflow:Loading image /Users/niklas/Projects/GestureRecognition/Custom_Model/rps_data_sample/none/1590.jpg\n"
          ]
        },
        {
          "name": "stderr",
          "output_type": "stream",
          "text": [
            "INFO:tensorflow:Loading image /Users/niklas/Projects/GestureRecognition/Custom_Model/rps_data_sample/none/1590.jpg\n"
          ]
        },
        {
          "name": "stdout",
          "output_type": "stream",
          "text": [
            "INFO:tensorflow:Loading image /Users/niklas/Projects/GestureRecognition/Custom_Model/rps_data_sample/click/10.jpg\n"
          ]
        },
        {
          "name": "stderr",
          "output_type": "stream",
          "text": [
            "INFO:tensorflow:Loading image /Users/niklas/Projects/GestureRecognition/Custom_Model/rps_data_sample/click/10.jpg\n"
          ]
        },
        {
          "name": "stdout",
          "output_type": "stream",
          "text": [
            "INFO:tensorflow:Loading image /Users/niklas/Projects/GestureRecognition/Custom_Model/rps_data_sample/drag/21.jpg\n"
          ]
        },
        {
          "name": "stderr",
          "output_type": "stream",
          "text": [
            "INFO:tensorflow:Loading image /Users/niklas/Projects/GestureRecognition/Custom_Model/rps_data_sample/drag/21.jpg\n"
          ]
        },
        {
          "name": "stdout",
          "output_type": "stream",
          "text": [
            "INFO:tensorflow:Loading image /Users/niklas/Projects/GestureRecognition/Custom_Model/rps_data_sample/none/823.jpg\n"
          ]
        },
        {
          "name": "stderr",
          "output_type": "stream",
          "text": [
            "INFO:tensorflow:Loading image /Users/niklas/Projects/GestureRecognition/Custom_Model/rps_data_sample/none/823.jpg\n"
          ]
        },
        {
          "name": "stdout",
          "output_type": "stream",
          "text": [
            "INFO:tensorflow:Loading image /Users/niklas/Projects/GestureRecognition/Custom_Model/rps_data_sample/drag/103.jpg\n"
          ]
        },
        {
          "name": "stderr",
          "output_type": "stream",
          "text": [
            "INFO:tensorflow:Loading image /Users/niklas/Projects/GestureRecognition/Custom_Model/rps_data_sample/drag/103.jpg\n"
          ]
        },
        {
          "name": "stdout",
          "output_type": "stream",
          "text": [
            "INFO:tensorflow:Loading image /Users/niklas/Projects/GestureRecognition/Custom_Model/rps_data_sample/click/149.jpg\n"
          ]
        },
        {
          "name": "stderr",
          "output_type": "stream",
          "text": [
            "INFO:tensorflow:Loading image /Users/niklas/Projects/GestureRecognition/Custom_Model/rps_data_sample/click/149.jpg\n"
          ]
        },
        {
          "name": "stdout",
          "output_type": "stream",
          "text": [
            "INFO:tensorflow:Loading image /Users/niklas/Projects/GestureRecognition/Custom_Model/rps_data_sample/none/1255.jpg\n"
          ]
        },
        {
          "name": "stderr",
          "output_type": "stream",
          "text": [
            "INFO:tensorflow:Loading image /Users/niklas/Projects/GestureRecognition/Custom_Model/rps_data_sample/none/1255.jpg\n"
          ]
        },
        {
          "name": "stdout",
          "output_type": "stream",
          "text": [
            "INFO:tensorflow:Loading image /Users/niklas/Projects/GestureRecognition/Custom_Model/rps_data_sample/none/193.jpg\n"
          ]
        },
        {
          "name": "stderr",
          "output_type": "stream",
          "text": [
            "INFO:tensorflow:Loading image /Users/niklas/Projects/GestureRecognition/Custom_Model/rps_data_sample/none/193.jpg\n"
          ]
        },
        {
          "name": "stdout",
          "output_type": "stream",
          "text": [
            "INFO:tensorflow:Loading image /Users/niklas/Projects/GestureRecognition/Custom_Model/rps_data_sample/drag/116.jpg\n"
          ]
        },
        {
          "name": "stderr",
          "output_type": "stream",
          "text": [
            "INFO:tensorflow:Loading image /Users/niklas/Projects/GestureRecognition/Custom_Model/rps_data_sample/drag/116.jpg\n"
          ]
        },
        {
          "name": "stdout",
          "output_type": "stream",
          "text": [
            "INFO:tensorflow:Loading image /Users/niklas/Projects/GestureRecognition/Custom_Model/rps_data_sample/click/186.jpg\n"
          ]
        },
        {
          "name": "stderr",
          "output_type": "stream",
          "text": [
            "INFO:tensorflow:Loading image /Users/niklas/Projects/GestureRecognition/Custom_Model/rps_data_sample/click/186.jpg\n"
          ]
        },
        {
          "name": "stdout",
          "output_type": "stream",
          "text": [
            "INFO:tensorflow:Loading image /Users/niklas/Projects/GestureRecognition/Custom_Model/rps_data_sample/click/129.jpg\n"
          ]
        },
        {
          "name": "stderr",
          "output_type": "stream",
          "text": [
            "INFO:tensorflow:Loading image /Users/niklas/Projects/GestureRecognition/Custom_Model/rps_data_sample/click/129.jpg\n"
          ]
        },
        {
          "name": "stdout",
          "output_type": "stream",
          "text": [
            "INFO:tensorflow:Loading image /Users/niklas/Projects/GestureRecognition/Custom_Model/rps_data_sample/click/16.jpg\n"
          ]
        },
        {
          "name": "stderr",
          "output_type": "stream",
          "text": [
            "INFO:tensorflow:Loading image /Users/niklas/Projects/GestureRecognition/Custom_Model/rps_data_sample/click/16.jpg\n"
          ]
        },
        {
          "name": "stdout",
          "output_type": "stream",
          "text": [
            "INFO:tensorflow:Loading image /Users/niklas/Projects/GestureRecognition/Custom_Model/rps_data_sample/click/188.jpg\n"
          ]
        },
        {
          "name": "stderr",
          "output_type": "stream",
          "text": [
            "INFO:tensorflow:Loading image /Users/niklas/Projects/GestureRecognition/Custom_Model/rps_data_sample/click/188.jpg\n"
          ]
        },
        {
          "name": "stdout",
          "output_type": "stream",
          "text": [
            "INFO:tensorflow:Loading image /Users/niklas/Projects/GestureRecognition/Custom_Model/rps_data_sample/none/44.jpg\n"
          ]
        },
        {
          "name": "stderr",
          "output_type": "stream",
          "text": [
            "INFO:tensorflow:Loading image /Users/niklas/Projects/GestureRecognition/Custom_Model/rps_data_sample/none/44.jpg\n"
          ]
        },
        {
          "name": "stdout",
          "output_type": "stream",
          "text": [
            "INFO:tensorflow:Loading image /Users/niklas/Projects/GestureRecognition/Custom_Model/rps_data_sample/click/132.jpg\n"
          ]
        },
        {
          "name": "stderr",
          "output_type": "stream",
          "text": [
            "INFO:tensorflow:Loading image /Users/niklas/Projects/GestureRecognition/Custom_Model/rps_data_sample/click/132.jpg\n"
          ]
        },
        {
          "name": "stdout",
          "output_type": "stream",
          "text": [
            "INFO:tensorflow:Loading image /Users/niklas/Projects/GestureRecognition/Custom_Model/rps_data_sample/click/218.jpg\n"
          ]
        },
        {
          "name": "stderr",
          "output_type": "stream",
          "text": [
            "INFO:tensorflow:Loading image /Users/niklas/Projects/GestureRecognition/Custom_Model/rps_data_sample/click/218.jpg\n"
          ]
        },
        {
          "name": "stdout",
          "output_type": "stream",
          "text": [
            "INFO:tensorflow:Loading image /Users/niklas/Projects/GestureRecognition/Custom_Model/rps_data_sample/drag/197.jpg\n"
          ]
        },
        {
          "name": "stderr",
          "output_type": "stream",
          "text": [
            "INFO:tensorflow:Loading image /Users/niklas/Projects/GestureRecognition/Custom_Model/rps_data_sample/drag/197.jpg\n"
          ]
        },
        {
          "name": "stdout",
          "output_type": "stream",
          "text": [
            "INFO:tensorflow:Loading image /Users/niklas/Projects/GestureRecognition/Custom_Model/rps_data_sample/none/33.jpg\n"
          ]
        },
        {
          "name": "stderr",
          "output_type": "stream",
          "text": [
            "INFO:tensorflow:Loading image /Users/niklas/Projects/GestureRecognition/Custom_Model/rps_data_sample/none/33.jpg\n"
          ]
        },
        {
          "name": "stdout",
          "output_type": "stream",
          "text": [
            "INFO:tensorflow:Loading image /Users/niklas/Projects/GestureRecognition/Custom_Model/rps_data_sample/none/1189.jpg\n"
          ]
        },
        {
          "name": "stderr",
          "output_type": "stream",
          "text": [
            "INFO:tensorflow:Loading image /Users/niklas/Projects/GestureRecognition/Custom_Model/rps_data_sample/none/1189.jpg\n"
          ]
        },
        {
          "name": "stdout",
          "output_type": "stream",
          "text": [
            "INFO:tensorflow:Loading image /Users/niklas/Projects/GestureRecognition/Custom_Model/rps_data_sample/click/138.jpg\n"
          ]
        },
        {
          "name": "stderr",
          "output_type": "stream",
          "text": [
            "INFO:tensorflow:Loading image /Users/niklas/Projects/GestureRecognition/Custom_Model/rps_data_sample/click/138.jpg\n"
          ]
        },
        {
          "name": "stdout",
          "output_type": "stream",
          "text": [
            "INFO:tensorflow:Loading image /Users/niklas/Projects/GestureRecognition/Custom_Model/rps_data_sample/click/209.jpg\n"
          ]
        },
        {
          "name": "stderr",
          "output_type": "stream",
          "text": [
            "INFO:tensorflow:Loading image /Users/niklas/Projects/GestureRecognition/Custom_Model/rps_data_sample/click/209.jpg\n"
          ]
        },
        {
          "name": "stdout",
          "output_type": "stream",
          "text": [
            "INFO:tensorflow:Loading image /Users/niklas/Projects/GestureRecognition/Custom_Model/rps_data_sample/click/107.jpg\n"
          ]
        },
        {
          "name": "stderr",
          "output_type": "stream",
          "text": [
            "INFO:tensorflow:Loading image /Users/niklas/Projects/GestureRecognition/Custom_Model/rps_data_sample/click/107.jpg\n"
          ]
        },
        {
          "name": "stdout",
          "output_type": "stream",
          "text": [
            "INFO:tensorflow:Loading image /Users/niklas/Projects/GestureRecognition/Custom_Model/rps_data_sample/click/97.jpg\n"
          ]
        },
        {
          "name": "stderr",
          "output_type": "stream",
          "text": [
            "INFO:tensorflow:Loading image /Users/niklas/Projects/GestureRecognition/Custom_Model/rps_data_sample/click/97.jpg\n"
          ]
        },
        {
          "name": "stdout",
          "output_type": "stream",
          "text": [
            "INFO:tensorflow:Loading image /Users/niklas/Projects/GestureRecognition/Custom_Model/rps_data_sample/drag/131.jpg\n"
          ]
        },
        {
          "name": "stderr",
          "output_type": "stream",
          "text": [
            "INFO:tensorflow:Loading image /Users/niklas/Projects/GestureRecognition/Custom_Model/rps_data_sample/drag/131.jpg\n"
          ]
        },
        {
          "name": "stdout",
          "output_type": "stream",
          "text": [
            "INFO:tensorflow:Loading image /Users/niklas/Projects/GestureRecognition/Custom_Model/rps_data_sample/click/52.jpg\n"
          ]
        },
        {
          "name": "stderr",
          "output_type": "stream",
          "text": [
            "INFO:tensorflow:Loading image /Users/niklas/Projects/GestureRecognition/Custom_Model/rps_data_sample/click/52.jpg\n"
          ]
        },
        {
          "name": "stdout",
          "output_type": "stream",
          "text": [
            "INFO:tensorflow:Loading image /Users/niklas/Projects/GestureRecognition/Custom_Model/rps_data_sample/drag/16.jpg\n"
          ]
        },
        {
          "name": "stderr",
          "output_type": "stream",
          "text": [
            "INFO:tensorflow:Loading image /Users/niklas/Projects/GestureRecognition/Custom_Model/rps_data_sample/drag/16.jpg\n"
          ]
        },
        {
          "name": "stdout",
          "output_type": "stream",
          "text": [
            "INFO:tensorflow:Loading image /Users/niklas/Projects/GestureRecognition/Custom_Model/rps_data_sample/click/155.jpg\n"
          ]
        },
        {
          "name": "stderr",
          "output_type": "stream",
          "text": [
            "INFO:tensorflow:Loading image /Users/niklas/Projects/GestureRecognition/Custom_Model/rps_data_sample/click/155.jpg\n"
          ]
        },
        {
          "name": "stdout",
          "output_type": "stream",
          "text": [
            "INFO:tensorflow:Loading image /Users/niklas/Projects/GestureRecognition/Custom_Model/rps_data_sample/drag/143.jpg\n"
          ]
        },
        {
          "name": "stderr",
          "output_type": "stream",
          "text": [
            "INFO:tensorflow:Loading image /Users/niklas/Projects/GestureRecognition/Custom_Model/rps_data_sample/drag/143.jpg\n"
          ]
        },
        {
          "name": "stdout",
          "output_type": "stream",
          "text": [
            "INFO:tensorflow:Loading image /Users/niklas/Projects/GestureRecognition/Custom_Model/rps_data_sample/drag/82.jpg\n"
          ]
        },
        {
          "name": "stderr",
          "output_type": "stream",
          "text": [
            "INFO:tensorflow:Loading image /Users/niklas/Projects/GestureRecognition/Custom_Model/rps_data_sample/drag/82.jpg\n"
          ]
        },
        {
          "name": "stdout",
          "output_type": "stream",
          "text": [
            "INFO:tensorflow:Loading image /Users/niklas/Projects/GestureRecognition/Custom_Model/rps_data_sample/click/89.jpg\n"
          ]
        },
        {
          "name": "stderr",
          "output_type": "stream",
          "text": [
            "INFO:tensorflow:Loading image /Users/niklas/Projects/GestureRecognition/Custom_Model/rps_data_sample/click/89.jpg\n"
          ]
        },
        {
          "name": "stdout",
          "output_type": "stream",
          "text": [
            "INFO:tensorflow:Loading image /Users/niklas/Projects/GestureRecognition/Custom_Model/rps_data_sample/drag/125.jpg\n"
          ]
        },
        {
          "name": "stderr",
          "output_type": "stream",
          "text": [
            "INFO:tensorflow:Loading image /Users/niklas/Projects/GestureRecognition/Custom_Model/rps_data_sample/drag/125.jpg\n"
          ]
        },
        {
          "name": "stdout",
          "output_type": "stream",
          "text": [
            "INFO:tensorflow:Loading image /Users/niklas/Projects/GestureRecognition/Custom_Model/rps_data_sample/click/60.jpg\n"
          ]
        },
        {
          "name": "stderr",
          "output_type": "stream",
          "text": [
            "INFO:tensorflow:Loading image /Users/niklas/Projects/GestureRecognition/Custom_Model/rps_data_sample/click/60.jpg\n"
          ]
        },
        {
          "name": "stdout",
          "output_type": "stream",
          "text": [
            "INFO:tensorflow:Loading image /Users/niklas/Projects/GestureRecognition/Custom_Model/rps_data_sample/click/189.jpg\n"
          ]
        },
        {
          "name": "stderr",
          "output_type": "stream",
          "text": [
            "INFO:tensorflow:Loading image /Users/niklas/Projects/GestureRecognition/Custom_Model/rps_data_sample/click/189.jpg\n"
          ]
        },
        {
          "name": "stdout",
          "output_type": "stream",
          "text": [
            "INFO:tensorflow:Loading image /Users/niklas/Projects/GestureRecognition/Custom_Model/rps_data_sample/drag/149.jpg\n"
          ]
        },
        {
          "name": "stderr",
          "output_type": "stream",
          "text": [
            "INFO:tensorflow:Loading image /Users/niklas/Projects/GestureRecognition/Custom_Model/rps_data_sample/drag/149.jpg\n"
          ]
        },
        {
          "name": "stdout",
          "output_type": "stream",
          "text": [
            "INFO:tensorflow:Loading image /Users/niklas/Projects/GestureRecognition/Custom_Model/rps_data_sample/click/226.jpg\n"
          ]
        },
        {
          "name": "stderr",
          "output_type": "stream",
          "text": [
            "INFO:tensorflow:Loading image /Users/niklas/Projects/GestureRecognition/Custom_Model/rps_data_sample/click/226.jpg\n"
          ]
        },
        {
          "name": "stdout",
          "output_type": "stream",
          "text": [
            "INFO:tensorflow:Loading image /Users/niklas/Projects/GestureRecognition/Custom_Model/rps_data_sample/drag/76.jpg\n"
          ]
        },
        {
          "name": "stderr",
          "output_type": "stream",
          "text": [
            "INFO:tensorflow:Loading image /Users/niklas/Projects/GestureRecognition/Custom_Model/rps_data_sample/drag/76.jpg\n"
          ]
        },
        {
          "name": "stdout",
          "output_type": "stream",
          "text": [
            "INFO:tensorflow:Loading image /Users/niklas/Projects/GestureRecognition/Custom_Model/rps_data_sample/click/73.jpg\n"
          ]
        },
        {
          "name": "stderr",
          "output_type": "stream",
          "text": [
            "INFO:tensorflow:Loading image /Users/niklas/Projects/GestureRecognition/Custom_Model/rps_data_sample/click/73.jpg\n"
          ]
        },
        {
          "name": "stdout",
          "output_type": "stream",
          "text": [
            "INFO:tensorflow:Loading image /Users/niklas/Projects/GestureRecognition/Custom_Model/rps_data_sample/drag/205.jpg\n"
          ]
        },
        {
          "name": "stderr",
          "output_type": "stream",
          "text": [
            "INFO:tensorflow:Loading image /Users/niklas/Projects/GestureRecognition/Custom_Model/rps_data_sample/drag/205.jpg\n"
          ]
        },
        {
          "name": "stdout",
          "output_type": "stream",
          "text": [
            "INFO:tensorflow:Loading image /Users/niklas/Projects/GestureRecognition/Custom_Model/rps_data_sample/drag/146.jpg\n"
          ]
        },
        {
          "name": "stderr",
          "output_type": "stream",
          "text": [
            "INFO:tensorflow:Loading image /Users/niklas/Projects/GestureRecognition/Custom_Model/rps_data_sample/drag/146.jpg\n"
          ]
        },
        {
          "name": "stdout",
          "output_type": "stream",
          "text": [
            "INFO:tensorflow:Loading image /Users/niklas/Projects/GestureRecognition/Custom_Model/rps_data_sample/none/1041.jpg\n"
          ]
        },
        {
          "name": "stderr",
          "output_type": "stream",
          "text": [
            "INFO:tensorflow:Loading image /Users/niklas/Projects/GestureRecognition/Custom_Model/rps_data_sample/none/1041.jpg\n"
          ]
        },
        {
          "name": "stdout",
          "output_type": "stream",
          "text": [
            "INFO:tensorflow:Loading image /Users/niklas/Projects/GestureRecognition/Custom_Model/rps_data_sample/click/103.jpg\n"
          ]
        },
        {
          "name": "stderr",
          "output_type": "stream",
          "text": [
            "INFO:tensorflow:Loading image /Users/niklas/Projects/GestureRecognition/Custom_Model/rps_data_sample/click/103.jpg\n"
          ]
        },
        {
          "name": "stdout",
          "output_type": "stream",
          "text": [
            "INFO:tensorflow:Loading image /Users/niklas/Projects/GestureRecognition/Custom_Model/rps_data_sample/drag/134.jpg\n"
          ]
        },
        {
          "name": "stderr",
          "output_type": "stream",
          "text": [
            "INFO:tensorflow:Loading image /Users/niklas/Projects/GestureRecognition/Custom_Model/rps_data_sample/drag/134.jpg\n"
          ]
        },
        {
          "name": "stdout",
          "output_type": "stream",
          "text": [
            "INFO:tensorflow:Loading image /Users/niklas/Projects/GestureRecognition/Custom_Model/rps_data_sample/drag/98.jpg\n"
          ]
        },
        {
          "name": "stderr",
          "output_type": "stream",
          "text": [
            "INFO:tensorflow:Loading image /Users/niklas/Projects/GestureRecognition/Custom_Model/rps_data_sample/drag/98.jpg\n"
          ]
        },
        {
          "name": "stdout",
          "output_type": "stream",
          "text": [
            "INFO:tensorflow:Loading image /Users/niklas/Projects/GestureRecognition/Custom_Model/rps_data_sample/none/791.jpg\n"
          ]
        },
        {
          "name": "stderr",
          "output_type": "stream",
          "text": [
            "INFO:tensorflow:Loading image /Users/niklas/Projects/GestureRecognition/Custom_Model/rps_data_sample/none/791.jpg\n"
          ]
        },
        {
          "name": "stdout",
          "output_type": "stream",
          "text": [
            "INFO:tensorflow:Loading image /Users/niklas/Projects/GestureRecognition/Custom_Model/rps_data_sample/click/106.jpg\n"
          ]
        },
        {
          "name": "stderr",
          "output_type": "stream",
          "text": [
            "INFO:tensorflow:Loading image /Users/niklas/Projects/GestureRecognition/Custom_Model/rps_data_sample/click/106.jpg\n"
          ]
        },
        {
          "name": "stdout",
          "output_type": "stream",
          "text": [
            "Using existing files at /var/folders/qy/nnw43bv93q150tp47dfmlvb00000gn/T/model_maker/gesture_recognizer/gesture_embedder\n",
            "INFO:tensorflow:Load valid hands with size: 553, num_label: 3, labels: none,click,drag.\n"
          ]
        },
        {
          "name": "stderr",
          "output_type": "stream",
          "text": [
            "INFO:tensorflow:Load valid hands with size: 553, num_label: 3, labels: none,click,drag.\n"
          ]
        }
      ],
      "source": [
        "# Load the rock-paper-scissor image archive.\n",
        "IMAGES_PATH = \"rps_data_sample\"\n",
        "data = gesture_recognizer.Dataset.from_folder(\n",
        "    dirname=IMAGES_PATH,\n",
        "    hparams=gesture_recognizer.HandDataPreprocessingParams()\n",
        ")\n",
        "\n",
        "# Split the archive into training, validation and test dataset.\n",
        "train_data, rest_data = data.split(0.8)\n",
        "validation_data, test_data = rest_data.split(0.5)"
      ]
    },
    {
      "cell_type": "code",
      "execution_count": null,
      "metadata": {
        "id": "YE-CyQglHQD1"
      },
      "outputs": [
        {
          "name": "stdout",
          "output_type": "stream",
          "text": [
            "Model: \"model_1\"\n",
            "_________________________________________________________________\n",
            " Layer (type)                Output Shape              Param #   \n",
            "=================================================================\n",
            " hand_embedding (InputLayer  [(None, 128)]             0         \n",
            " )                                                               \n",
            "                                                                 \n",
            " batch_normalization_1 (Bat  (None, 128)               512       \n",
            " chNormalization)                                                \n",
            "                                                                 \n",
            " re_lu_1 (ReLU)              (None, 128)               0         \n",
            "                                                                 \n",
            " dropout_1 (Dropout)         (None, 128)               0         \n",
            "                                                                 \n",
            " custom_gesture_recognizer_  (None, 3)                 387       \n",
            " out (Dense)                                                     \n",
            "                                                                 \n",
            "=================================================================\n",
            "Total params: 899 (3.51 KB)\n",
            "Trainable params: 643 (2.51 KB)\n",
            "Non-trainable params: 256 (1.00 KB)\n",
            "_________________________________________________________________\n",
            "None\n",
            "INFO:tensorflow:Training the models...\n"
          ]
        },
        {
          "name": "stderr",
          "output_type": "stream",
          "text": [
            "INFO:tensorflow:Training the models...\n"
          ]
        },
        {
          "name": "stdout",
          "output_type": "stream",
          "text": [
            "Epoch 1/10\n",
            "221/221 [==============================] - 2s 7ms/step - loss: 0.5076 - categorical_accuracy: 0.5000 - val_loss: 0.1381 - val_categorical_accuracy: 0.8364 - lr: 0.0010\n",
            "Epoch 2/10\n",
            "221/221 [==============================] - 1s 4ms/step - loss: 0.3483 - categorical_accuracy: 0.6335 - val_loss: 0.0619 - val_categorical_accuracy: 0.9455 - lr: 9.9000e-04\n",
            "Epoch 3/10\n",
            "221/221 [==============================] - 1s 4ms/step - loss: 0.3092 - categorical_accuracy: 0.6810 - val_loss: 0.0457 - val_categorical_accuracy: 0.9636 - lr: 9.8010e-04\n",
            "Epoch 4/10\n",
            "221/221 [==============================] - 1s 4ms/step - loss: 0.2939 - categorical_accuracy: 0.7081 - val_loss: 0.0333 - val_categorical_accuracy: 0.9636 - lr: 9.7030e-04\n",
            "Epoch 5/10\n",
            "221/221 [==============================] - 1s 4ms/step - loss: 0.2864 - categorical_accuracy: 0.7308 - val_loss: 0.0280 - val_categorical_accuracy: 0.9636 - lr: 9.6060e-04\n",
            "Epoch 6/10\n",
            "221/221 [==============================] - 1s 4ms/step - loss: 0.2845 - categorical_accuracy: 0.7036 - val_loss: 0.0226 - val_categorical_accuracy: 1.0000 - lr: 9.5099e-04\n",
            "Epoch 7/10\n",
            "221/221 [==============================] - 1s 4ms/step - loss: 0.2595 - categorical_accuracy: 0.7262 - val_loss: 0.0187 - val_categorical_accuracy: 1.0000 - lr: 9.4148e-04\n",
            "Epoch 8/10\n",
            "221/221 [==============================] - 1s 3ms/step - loss: 0.2745 - categorical_accuracy: 0.7262 - val_loss: 0.0181 - val_categorical_accuracy: 1.0000 - lr: 9.3207e-04\n",
            "Epoch 9/10\n",
            "221/221 [==============================] - 1s 4ms/step - loss: 0.2561 - categorical_accuracy: 0.7308 - val_loss: 0.0146 - val_categorical_accuracy: 1.0000 - lr: 9.2274e-04\n",
            "Epoch 10/10\n",
            "221/221 [==============================] - 1s 3ms/step - loss: 0.2470 - categorical_accuracy: 0.7308 - val_loss: 0.0168 - val_categorical_accuracy: 1.0000 - lr: 9.1352e-04\n"
          ]
        }
      ],
      "source": [
        "# Train the model\n",
        "hparams = gesture_recognizer.HParams(export_dir=\"rock_paper_scissors_model\", epochs=200)\n",
        "options = gesture_recognizer.GestureRecognizerOptions(hparams=hparams)\n",
        "model = gesture_recognizer.GestureRecognizer.create(\n",
        "    train_data=train_data,\n",
        "    validation_data=validation_data,\n",
        "    options=options\n",
        ")"
      ]
    },
    {
      "cell_type": "code",
      "execution_count": null,
      "metadata": {
        "id": "ULANbzL7HnIR"
      },
      "outputs": [
        {
          "name": "stdout",
          "output_type": "stream",
          "text": [
            "56/56 [==============================] - 0s 1ms/step - loss: 0.0635 - categorical_accuracy: 0.9643\n",
            "Test loss:0.0634971633553505, Test accuracy:0.9642857313156128\n"
          ]
        }
      ],
      "source": [
        "loss, acc = model.evaluate(test_data, batch_size=1)\n",
        "print(f\"Test loss:{loss}, Test accuracy:{acc}\")"
      ]
    },
    {
      "cell_type": "code",
      "execution_count": null,
      "metadata": {
        "id": "aMZQc767I9Q-"
      },
      "outputs": [
        {
          "name": "stdout",
          "output_type": "stream",
          "text": [
            "Using existing files at /var/folders/qy/nnw43bv93q150tp47dfmlvb00000gn/T/model_maker/gesture_recognizer/gesture_embedder.tflite\n",
            "Using existing files at /var/folders/qy/nnw43bv93q150tp47dfmlvb00000gn/T/model_maker/gesture_recognizer/palm_detection_full.tflite\n",
            "Using existing files at /var/folders/qy/nnw43bv93q150tp47dfmlvb00000gn/T/model_maker/gesture_recognizer/hand_landmark_full.tflite\n",
            "Using existing files at /var/folders/qy/nnw43bv93q150tp47dfmlvb00000gn/T/model_maker/gesture_recognizer/canned_gesture_classifier.tflite\n",
            "INFO:tensorflow:Assets written to: /var/folders/qy/nnw43bv93q150tp47dfmlvb00000gn/T/tmp94z1xgi9/saved_model/assets\n"
          ]
        },
        {
          "name": "stderr",
          "output_type": "stream",
          "text": [
            "INFO:tensorflow:Assets written to: /var/folders/qy/nnw43bv93q150tp47dfmlvb00000gn/T/tmp94z1xgi9/saved_model/assets\n",
            "2024-04-25 15:51:09.199138: W tensorflow/compiler/mlir/lite/python/tf_tfl_flatbuffer_helpers.cc:378] Ignored output_format.\n",
            "2024-04-25 15:51:09.199154: W tensorflow/compiler/mlir/lite/python/tf_tfl_flatbuffer_helpers.cc:381] Ignored drop_control_dependency.\n",
            "2024-04-25 15:51:09.199338: I tensorflow/cc/saved_model/reader.cc:83] Reading SavedModel from: /var/folders/qy/nnw43bv93q150tp47dfmlvb00000gn/T/tmp94z1xgi9/saved_model\n",
            "2024-04-25 15:51:09.200288: I tensorflow/cc/saved_model/reader.cc:51] Reading meta graph with tags { serve }\n",
            "2024-04-25 15:51:09.200298: I tensorflow/cc/saved_model/reader.cc:146] Reading SavedModel debug info (if present) from: /var/folders/qy/nnw43bv93q150tp47dfmlvb00000gn/T/tmp94z1xgi9/saved_model\n",
            "2024-04-25 15:51:09.202577: I tensorflow/cc/saved_model/loader.cc:233] Restoring SavedModel bundle.\n",
            "2024-04-25 15:51:09.229143: I tensorflow/cc/saved_model/loader.cc:217] Running initialization op on SavedModel bundle at path: /var/folders/qy/nnw43bv93q150tp47dfmlvb00000gn/T/tmp94z1xgi9/saved_model\n",
            "2024-04-25 15:51:09.238219: I tensorflow/cc/saved_model/loader.cc:316] SavedModel load for tags { serve }; Status: success: OK. Took 38881 microseconds.\n",
            "Summary on the non-converted ops:\n",
            "---------------------------------\n",
            " * Accepted dialects: tfl, builtin, func\n",
            " * Non-Converted Ops: 4, Total Ops 11, % non-converted = 36.36 %\n",
            " * 4 ARITH ops\n",
            "\n",
            "- arith.constant:    4 occurrences  (f32: 4)\n",
            "\n",
            "\n",
            "\n",
            "  (f32: 1)\n",
            "  (f32: 1)\n",
            "  (f32: 1)\n",
            "  (f32: 1)\n",
            "/Library/Developer/CommandLineTools/Library/Frameworks/Python3.framework/Versions/3.9/lib/python3.9/pty.py:85: RuntimeWarning: os.fork() was called. os.fork() is incompatible with multithreaded code, and JAX is multithreaded, so this will likely lead to a deadlock.\n",
            "  pid, fd = os.forkpty()\n"
          ]
        }
      ],
      "source": [
        "# Export the model bundle.\n",
        "model.export_model()\n",
        "\n",
        "# Rename the file to be more descriptive.\n",
        "!mv rock_paper_scissors_model/gesture_recognizer.task rock_paper_scissors.task"
      ]
    },
    {
      "cell_type": "code",
      "execution_count": 13,
      "metadata": {
        "id": "iiXfexYg0fph"
      },
      "outputs": [
        {
          "ename": "RuntimeError",
          "evalue": "Image decoding failed (can't fopen): rps_data_sample/rock/1.jpg",
          "output_type": "error",
          "traceback": [
            "\u001b[1;31m---------------------------------------------------------------------------\u001b[0m",
            "\u001b[1;31mRuntimeError\u001b[0m                              Traceback (most recent call last)",
            "Cell \u001b[1;32mIn[13], line 12\u001b[0m\n\u001b[0;32m      9\u001b[0m recognizer \u001b[38;5;241m=\u001b[39m vision\u001b[38;5;241m.\u001b[39mGestureRecognizer\u001b[38;5;241m.\u001b[39mcreate_from_model_path(model_path)\n\u001b[0;32m     11\u001b[0m \u001b[38;5;66;03m# Load the input image.\u001b[39;00m\n\u001b[1;32m---> 12\u001b[0m image \u001b[38;5;241m=\u001b[39m \u001b[43mmp\u001b[49m\u001b[38;5;241;43m.\u001b[39;49m\u001b[43mImage\u001b[49m\u001b[38;5;241;43m.\u001b[39;49m\u001b[43mcreate_from_file\u001b[49m\u001b[43m(\u001b[49m\u001b[38;5;124;43m'\u001b[39;49m\u001b[38;5;124;43mrps_data_sample/rock/1.jpg\u001b[39;49m\u001b[38;5;124;43m'\u001b[39;49m\u001b[43m)\u001b[49m\n\u001b[0;32m     14\u001b[0m \u001b[38;5;66;03m# Run gesture recognition.\u001b[39;00m\n\u001b[0;32m     15\u001b[0m recognition_result \u001b[38;5;241m=\u001b[39m recognizer\u001b[38;5;241m.\u001b[39mrecognize(image)\n",
            "\u001b[1;31mRuntimeError\u001b[0m: Image decoding failed (can't fopen): rps_data_sample/rock/1.jpg"
          ]
        }
      ],
      "source": [
        "# Imports neccessary modules.\n",
        "import mediapipe as mp\n",
        "from mediapipe.tasks import python\n",
        "from mediapipe.tasks.python import vision\n",
        "import os\n",
        "\n",
        "# Create a GestureRecognizer object.\n",
        "model_path = os.path.abspath(\"rock_paper_scissors.task\")\n",
        "recognizer = vision.GestureRecognizer.create_from_model_path(model_path)\n",
        "\n",
        "# Load the input image.\n",
        "image = mp.Image.create_from_file('rps_data_sample/rock/1.jpg')\n",
        "\n",
        "# Run gesture recognition.\n",
        "recognition_result = recognizer.recognize(image)\n",
        "\n",
        "# Display the most likely gesture.\n",
        "top_gesture = recognition_result.gestures[0][0]\n",
        "print(f\"Gesture recognized: {top_gesture.category_name} ({top_gesture.score})\")"
      ]
    }
  ],
  "metadata": {
    "colab": {
      "provenance": []
    },
    "kernelspec": {
      "display_name": "Python 3",
      "name": "python3"
    },
    "language_info": {
      "codemirror_mode": {
        "name": "ipython",
        "version": 3
      },
      "file_extension": ".py",
      "mimetype": "text/x-python",
      "name": "python",
      "nbconvert_exporter": "python",
      "pygments_lexer": "ipython3",
      "version": "3.11.9"
    }
  },
  "nbformat": 4,
  "nbformat_minor": 0
}
